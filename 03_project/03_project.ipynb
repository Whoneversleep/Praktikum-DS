{
 "cells": [
  {
   "cell_type": "markdown",
   "metadata": {},
   "source": [
    "# Описание проекта"
   ]
  },
  {
   "cell_type": "markdown",
   "metadata": {},
   "source": [
    "Допустим, вы работаете в добывающей компании. Нужно решить, где бурить новую скважину.\n",
    "\n",
    "Вам предоставлены пробы нефти в трёх регионах: в каждом 10 000 месторождений, где измерили качество нефти и объём её запасов. Постройте модель машинного обучения, которая поможет определить регион, где добыча принесёт наибольшую прибыль. Проанализируйте возможную прибыль и риски техникой *Bootstrap.*\n",
    "\n",
    "Шаги для выбора локации:\n",
    "\n",
    "- В избранном регионе ищут месторождения, для каждого определяют значения признаков;\n",
    "- Строят модель и оценивают объём запасов;\n",
    "- Выбирают месторождения с самым высокими оценками значений. Количество месторождений зависит от бюджета компании и стоимости разработки одной скважины;\n",
    "- Прибыль равна суммарной прибыли отобранных месторождений."
   ]
  },
  {
   "cell_type": "markdown",
   "metadata": {},
   "source": [
    "# 1. Загрузка и подготовка данных"
   ]
  },
  {
   "cell_type": "markdown",
   "metadata": {},
   "source": [
    "#### 1.1 Импорт библиотек"
   ]
  },
  {
   "cell_type": "code",
   "execution_count": 1,
   "metadata": {},
   "outputs": [],
   "source": [
    "import pandas as pd\n",
    "import numpy as np\n",
    "import seaborn as sns\n",
    "import matplotlib.pyplot as plt\n",
    "\n",
    "from sklearn.linear_model import LinearRegression\n",
    "from sklearn.metrics import mean_squared_error\n",
    "from sklearn.model_selection import train_test_split"
   ]
  },
  {
   "cell_type": "markdown",
   "metadata": {},
   "source": [
    "#### 1.2 Загрузка и чтение данных"
   ]
  },
  {
   "cell_type": "markdown",
   "metadata": {},
   "source": [
    "Прочитаем и запишем данные в отдельные переменные:"
   ]
  },
  {
   "cell_type": "code",
   "execution_count": 2,
   "metadata": {},
   "outputs": [],
   "source": [
    "region_1 = pd.read_csv('/datasets/geo_data_0.csv')\n",
    "region_2 = pd.read_csv('/datasets/geo_data_1.csv')\n",
    "region_3 = pd.read_csv('/datasets/geo_data_2.csv')"
   ]
  },
  {
   "cell_type": "markdown",
   "metadata": {},
   "source": [
    "Для удобства и избежания дублирования кода, напишем функцию, выводящую информацию по датасету.\n",
    "\n",
    "Нас интересуют следующие характеристики датасета:\n",
    "- Общая информация\n",
    "- Наличие пропусков\n",
    "- Присутствие признаков, которые могут негативно сказаться на работе модели машинного обучения\n",
    "- Так как целевой признак - объём нефтяных запасов в скважине, следует проверить, присутствуют ли в данном столбце нулевые значения\n",
    "- Среднее значение запасов нефти в скважинах\n",
    "\n",
    "\n",
    "В датасете имеется 5 признаков:\n",
    "- **id** - идентификатор месторождения, который в рамках нашей задачи является лишним\n",
    "- **f0**, **f1**, **f2** - признаки месторождений\n",
    "- **product** - целевой признак"
   ]
  },
  {
   "cell_type": "code",
   "execution_count": 3,
   "metadata": {},
   "outputs": [],
   "source": [
    "def show_info(region, region_name):\n",
    "    print(region_name, '\\n')\n",
    "    display(region.head(5))\n",
    "    print(region.info())\n",
    "    \n",
    "    #построение таблицы с интересующими нас данными\n",
    "    info_table = []\n",
    "    info_table.append([region.isna().values.sum(),\n",
    "    region.duplicated().sum(),\n",
    "    region.query('product == 0')['product'].count(),\n",
    "    (region.query('product == 0')['product'].count() / len(region)) * 100, region['product'].mean()])\n",
    "    \n",
    "    #таблица корреляции\n",
    "    print('\\n', 'Индекс корреляции между признаками:')\n",
    "    display(region.corr().style.applymap(lambda x: 'background-color : lightgreen' if (x<1 and abs(x)>0.5) else ''))    \n",
    "    \n",
    "    \n",
    "    display(pd.DataFrame(info_table, columns=['Пропуски', 'Дубликаты', 'Пустые скважины', '% пустых скважин в регионе',\n",
    "                                              'Среднее значения запасов нефти']))"
   ]
  },
  {
   "cell_type": "markdown",
   "metadata": {},
   "source": [
    "#### 1.2.1. Первый регион"
   ]
  },
  {
   "cell_type": "code",
   "execution_count": 4,
   "metadata": {},
   "outputs": [
    {
     "name": "stdout",
     "output_type": "stream",
     "text": [
      "Регион №1 \n",
      "\n"
     ]
    },
    {
     "data": {
      "text/html": [
       "<div>\n",
       "<style scoped>\n",
       "    .dataframe tbody tr th:only-of-type {\n",
       "        vertical-align: middle;\n",
       "    }\n",
       "\n",
       "    .dataframe tbody tr th {\n",
       "        vertical-align: top;\n",
       "    }\n",
       "\n",
       "    .dataframe thead th {\n",
       "        text-align: right;\n",
       "    }\n",
       "</style>\n",
       "<table border=\"1\" class=\"dataframe\">\n",
       "  <thead>\n",
       "    <tr style=\"text-align: right;\">\n",
       "      <th></th>\n",
       "      <th>id</th>\n",
       "      <th>f0</th>\n",
       "      <th>f1</th>\n",
       "      <th>f2</th>\n",
       "      <th>product</th>\n",
       "    </tr>\n",
       "  </thead>\n",
       "  <tbody>\n",
       "    <tr>\n",
       "      <td>0</td>\n",
       "      <td>txEyH</td>\n",
       "      <td>0.705745</td>\n",
       "      <td>-0.497823</td>\n",
       "      <td>1.221170</td>\n",
       "      <td>105.280062</td>\n",
       "    </tr>\n",
       "    <tr>\n",
       "      <td>1</td>\n",
       "      <td>2acmU</td>\n",
       "      <td>1.334711</td>\n",
       "      <td>-0.340164</td>\n",
       "      <td>4.365080</td>\n",
       "      <td>73.037750</td>\n",
       "    </tr>\n",
       "    <tr>\n",
       "      <td>2</td>\n",
       "      <td>409Wp</td>\n",
       "      <td>1.022732</td>\n",
       "      <td>0.151990</td>\n",
       "      <td>1.419926</td>\n",
       "      <td>85.265647</td>\n",
       "    </tr>\n",
       "    <tr>\n",
       "      <td>3</td>\n",
       "      <td>iJLyR</td>\n",
       "      <td>-0.032172</td>\n",
       "      <td>0.139033</td>\n",
       "      <td>2.978566</td>\n",
       "      <td>168.620776</td>\n",
       "    </tr>\n",
       "    <tr>\n",
       "      <td>4</td>\n",
       "      <td>Xdl7t</td>\n",
       "      <td>1.988431</td>\n",
       "      <td>0.155413</td>\n",
       "      <td>4.751769</td>\n",
       "      <td>154.036647</td>\n",
       "    </tr>\n",
       "  </tbody>\n",
       "</table>\n",
       "</div>"
      ],
      "text/plain": [
       "      id        f0        f1        f2     product\n",
       "0  txEyH  0.705745 -0.497823  1.221170  105.280062\n",
       "1  2acmU  1.334711 -0.340164  4.365080   73.037750\n",
       "2  409Wp  1.022732  0.151990  1.419926   85.265647\n",
       "3  iJLyR -0.032172  0.139033  2.978566  168.620776\n",
       "4  Xdl7t  1.988431  0.155413  4.751769  154.036647"
      ]
     },
     "metadata": {},
     "output_type": "display_data"
    },
    {
     "name": "stdout",
     "output_type": "stream",
     "text": [
      "<class 'pandas.core.frame.DataFrame'>\n",
      "RangeIndex: 100000 entries, 0 to 99999\n",
      "Data columns (total 5 columns):\n",
      "id         100000 non-null object\n",
      "f0         100000 non-null float64\n",
      "f1         100000 non-null float64\n",
      "f2         100000 non-null float64\n",
      "product    100000 non-null float64\n",
      "dtypes: float64(4), object(1)\n",
      "memory usage: 3.8+ MB\n",
      "None\n",
      "\n",
      " Индекс корреляции между признаками:\n"
     ]
    },
    {
     "data": {
      "text/html": [
       "<style  type=\"text/css\" >\n",
       "</style><table id=\"T_dd2a160e_4ae2_11eb_848c_02420a39110f\" ><thead>    <tr>        <th class=\"blank level0\" ></th>        <th class=\"col_heading level0 col0\" >f0</th>        <th class=\"col_heading level0 col1\" >f1</th>        <th class=\"col_heading level0 col2\" >f2</th>        <th class=\"col_heading level0 col3\" >product</th>    </tr></thead><tbody>\n",
       "                <tr>\n",
       "                        <th id=\"T_dd2a160e_4ae2_11eb_848c_02420a39110flevel0_row0\" class=\"row_heading level0 row0\" >f0</th>\n",
       "                        <td id=\"T_dd2a160e_4ae2_11eb_848c_02420a39110frow0_col0\" class=\"data row0 col0\" >1</td>\n",
       "                        <td id=\"T_dd2a160e_4ae2_11eb_848c_02420a39110frow0_col1\" class=\"data row0 col1\" >-0.440723</td>\n",
       "                        <td id=\"T_dd2a160e_4ae2_11eb_848c_02420a39110frow0_col2\" class=\"data row0 col2\" >-0.00315334</td>\n",
       "                        <td id=\"T_dd2a160e_4ae2_11eb_848c_02420a39110frow0_col3\" class=\"data row0 col3\" >0.143536</td>\n",
       "            </tr>\n",
       "            <tr>\n",
       "                        <th id=\"T_dd2a160e_4ae2_11eb_848c_02420a39110flevel0_row1\" class=\"row_heading level0 row1\" >f1</th>\n",
       "                        <td id=\"T_dd2a160e_4ae2_11eb_848c_02420a39110frow1_col0\" class=\"data row1 col0\" >-0.440723</td>\n",
       "                        <td id=\"T_dd2a160e_4ae2_11eb_848c_02420a39110frow1_col1\" class=\"data row1 col1\" >1</td>\n",
       "                        <td id=\"T_dd2a160e_4ae2_11eb_848c_02420a39110frow1_col2\" class=\"data row1 col2\" >0.00172443</td>\n",
       "                        <td id=\"T_dd2a160e_4ae2_11eb_848c_02420a39110frow1_col3\" class=\"data row1 col3\" >-0.192356</td>\n",
       "            </tr>\n",
       "            <tr>\n",
       "                        <th id=\"T_dd2a160e_4ae2_11eb_848c_02420a39110flevel0_row2\" class=\"row_heading level0 row2\" >f2</th>\n",
       "                        <td id=\"T_dd2a160e_4ae2_11eb_848c_02420a39110frow2_col0\" class=\"data row2 col0\" >-0.00315334</td>\n",
       "                        <td id=\"T_dd2a160e_4ae2_11eb_848c_02420a39110frow2_col1\" class=\"data row2 col1\" >0.00172443</td>\n",
       "                        <td id=\"T_dd2a160e_4ae2_11eb_848c_02420a39110frow2_col2\" class=\"data row2 col2\" >1</td>\n",
       "                        <td id=\"T_dd2a160e_4ae2_11eb_848c_02420a39110frow2_col3\" class=\"data row2 col3\" >0.483663</td>\n",
       "            </tr>\n",
       "            <tr>\n",
       "                        <th id=\"T_dd2a160e_4ae2_11eb_848c_02420a39110flevel0_row3\" class=\"row_heading level0 row3\" >product</th>\n",
       "                        <td id=\"T_dd2a160e_4ae2_11eb_848c_02420a39110frow3_col0\" class=\"data row3 col0\" >0.143536</td>\n",
       "                        <td id=\"T_dd2a160e_4ae2_11eb_848c_02420a39110frow3_col1\" class=\"data row3 col1\" >-0.192356</td>\n",
       "                        <td id=\"T_dd2a160e_4ae2_11eb_848c_02420a39110frow3_col2\" class=\"data row3 col2\" >0.483663</td>\n",
       "                        <td id=\"T_dd2a160e_4ae2_11eb_848c_02420a39110frow3_col3\" class=\"data row3 col3\" >1</td>\n",
       "            </tr>\n",
       "    </tbody></table>"
      ],
      "text/plain": [
       "<pandas.io.formats.style.Styler at 0x7f3592d8f810>"
      ]
     },
     "metadata": {},
     "output_type": "display_data"
    },
    {
     "data": {
      "text/html": [
       "<div>\n",
       "<style scoped>\n",
       "    .dataframe tbody tr th:only-of-type {\n",
       "        vertical-align: middle;\n",
       "    }\n",
       "\n",
       "    .dataframe tbody tr th {\n",
       "        vertical-align: top;\n",
       "    }\n",
       "\n",
       "    .dataframe thead th {\n",
       "        text-align: right;\n",
       "    }\n",
       "</style>\n",
       "<table border=\"1\" class=\"dataframe\">\n",
       "  <thead>\n",
       "    <tr style=\"text-align: right;\">\n",
       "      <th></th>\n",
       "      <th>Пропуски</th>\n",
       "      <th>Дубликаты</th>\n",
       "      <th>Пустые скважины</th>\n",
       "      <th>% пустых скважин в регионе</th>\n",
       "      <th>Среднее значения запасов нефти</th>\n",
       "    </tr>\n",
       "  </thead>\n",
       "  <tbody>\n",
       "    <tr>\n",
       "      <td>0</td>\n",
       "      <td>0</td>\n",
       "      <td>0</td>\n",
       "      <td>1</td>\n",
       "      <td>0.001</td>\n",
       "      <td>92.5</td>\n",
       "    </tr>\n",
       "  </tbody>\n",
       "</table>\n",
       "</div>"
      ],
      "text/plain": [
       "   Пропуски  Дубликаты  Пустые скважины  % пустых скважин в регионе  \\\n",
       "0         0          0                1                       0.001   \n",
       "\n",
       "   Среднее значения запасов нефти  \n",
       "0                            92.5  "
      ]
     },
     "metadata": {},
     "output_type": "display_data"
    }
   ],
   "source": [
    "show_info(region_1, 'Регион №1')"
   ]
  },
  {
   "cell_type": "markdown",
   "metadata": {},
   "source": [
    "Пропуски в датасете отсуствуют.\n",
    "\n",
    "Присутствует одна пустая скважина.\n",
    "\n",
    "Значительной корреляции между признаками нет."
   ]
  },
  {
   "cell_type": "markdown",
   "metadata": {},
   "source": [
    "#### 1.2.2. Второй регион"
   ]
  },
  {
   "cell_type": "code",
   "execution_count": 5,
   "metadata": {},
   "outputs": [
    {
     "name": "stdout",
     "output_type": "stream",
     "text": [
      "Регион №2 \n",
      "\n"
     ]
    },
    {
     "data": {
      "text/html": [
       "<div>\n",
       "<style scoped>\n",
       "    .dataframe tbody tr th:only-of-type {\n",
       "        vertical-align: middle;\n",
       "    }\n",
       "\n",
       "    .dataframe tbody tr th {\n",
       "        vertical-align: top;\n",
       "    }\n",
       "\n",
       "    .dataframe thead th {\n",
       "        text-align: right;\n",
       "    }\n",
       "</style>\n",
       "<table border=\"1\" class=\"dataframe\">\n",
       "  <thead>\n",
       "    <tr style=\"text-align: right;\">\n",
       "      <th></th>\n",
       "      <th>id</th>\n",
       "      <th>f0</th>\n",
       "      <th>f1</th>\n",
       "      <th>f2</th>\n",
       "      <th>product</th>\n",
       "    </tr>\n",
       "  </thead>\n",
       "  <tbody>\n",
       "    <tr>\n",
       "      <td>0</td>\n",
       "      <td>kBEdx</td>\n",
       "      <td>-15.001348</td>\n",
       "      <td>-8.276000</td>\n",
       "      <td>-0.005876</td>\n",
       "      <td>3.179103</td>\n",
       "    </tr>\n",
       "    <tr>\n",
       "      <td>1</td>\n",
       "      <td>62mP7</td>\n",
       "      <td>14.272088</td>\n",
       "      <td>-3.475083</td>\n",
       "      <td>0.999183</td>\n",
       "      <td>26.953261</td>\n",
       "    </tr>\n",
       "    <tr>\n",
       "      <td>2</td>\n",
       "      <td>vyE1P</td>\n",
       "      <td>6.263187</td>\n",
       "      <td>-5.948386</td>\n",
       "      <td>5.001160</td>\n",
       "      <td>134.766305</td>\n",
       "    </tr>\n",
       "    <tr>\n",
       "      <td>3</td>\n",
       "      <td>KcrkZ</td>\n",
       "      <td>-13.081196</td>\n",
       "      <td>-11.506057</td>\n",
       "      <td>4.999415</td>\n",
       "      <td>137.945408</td>\n",
       "    </tr>\n",
       "    <tr>\n",
       "      <td>4</td>\n",
       "      <td>AHL4O</td>\n",
       "      <td>12.702195</td>\n",
       "      <td>-8.147433</td>\n",
       "      <td>5.004363</td>\n",
       "      <td>134.766305</td>\n",
       "    </tr>\n",
       "  </tbody>\n",
       "</table>\n",
       "</div>"
      ],
      "text/plain": [
       "      id         f0         f1        f2     product\n",
       "0  kBEdx -15.001348  -8.276000 -0.005876    3.179103\n",
       "1  62mP7  14.272088  -3.475083  0.999183   26.953261\n",
       "2  vyE1P   6.263187  -5.948386  5.001160  134.766305\n",
       "3  KcrkZ -13.081196 -11.506057  4.999415  137.945408\n",
       "4  AHL4O  12.702195  -8.147433  5.004363  134.766305"
      ]
     },
     "metadata": {},
     "output_type": "display_data"
    },
    {
     "name": "stdout",
     "output_type": "stream",
     "text": [
      "<class 'pandas.core.frame.DataFrame'>\n",
      "RangeIndex: 100000 entries, 0 to 99999\n",
      "Data columns (total 5 columns):\n",
      "id         100000 non-null object\n",
      "f0         100000 non-null float64\n",
      "f1         100000 non-null float64\n",
      "f2         100000 non-null float64\n",
      "product    100000 non-null float64\n",
      "dtypes: float64(4), object(1)\n",
      "memory usage: 3.8+ MB\n",
      "None\n",
      "\n",
      " Индекс корреляции между признаками:\n"
     ]
    },
    {
     "data": {
      "text/html": [
       "<style  type=\"text/css\" >\n",
       "    #T_dd3de332_4ae2_11eb_848c_02420a39110frow2_col3 {\n",
       "            background-color :  lightgreen;\n",
       "        }    #T_dd3de332_4ae2_11eb_848c_02420a39110frow3_col2 {\n",
       "            background-color :  lightgreen;\n",
       "        }</style><table id=\"T_dd3de332_4ae2_11eb_848c_02420a39110f\" ><thead>    <tr>        <th class=\"blank level0\" ></th>        <th class=\"col_heading level0 col0\" >f0</th>        <th class=\"col_heading level0 col1\" >f1</th>        <th class=\"col_heading level0 col2\" >f2</th>        <th class=\"col_heading level0 col3\" >product</th>    </tr></thead><tbody>\n",
       "                <tr>\n",
       "                        <th id=\"T_dd3de332_4ae2_11eb_848c_02420a39110flevel0_row0\" class=\"row_heading level0 row0\" >f0</th>\n",
       "                        <td id=\"T_dd3de332_4ae2_11eb_848c_02420a39110frow0_col0\" class=\"data row0 col0\" >1</td>\n",
       "                        <td id=\"T_dd3de332_4ae2_11eb_848c_02420a39110frow0_col1\" class=\"data row0 col1\" >0.182287</td>\n",
       "                        <td id=\"T_dd3de332_4ae2_11eb_848c_02420a39110frow0_col2\" class=\"data row0 col2\" >-0.00177704</td>\n",
       "                        <td id=\"T_dd3de332_4ae2_11eb_848c_02420a39110frow0_col3\" class=\"data row0 col3\" >-0.0304905</td>\n",
       "            </tr>\n",
       "            <tr>\n",
       "                        <th id=\"T_dd3de332_4ae2_11eb_848c_02420a39110flevel0_row1\" class=\"row_heading level0 row1\" >f1</th>\n",
       "                        <td id=\"T_dd3de332_4ae2_11eb_848c_02420a39110frow1_col0\" class=\"data row1 col0\" >0.182287</td>\n",
       "                        <td id=\"T_dd3de332_4ae2_11eb_848c_02420a39110frow1_col1\" class=\"data row1 col1\" >1</td>\n",
       "                        <td id=\"T_dd3de332_4ae2_11eb_848c_02420a39110frow1_col2\" class=\"data row1 col2\" >-0.00259532</td>\n",
       "                        <td id=\"T_dd3de332_4ae2_11eb_848c_02420a39110frow1_col3\" class=\"data row1 col3\" >-0.0101549</td>\n",
       "            </tr>\n",
       "            <tr>\n",
       "                        <th id=\"T_dd3de332_4ae2_11eb_848c_02420a39110flevel0_row2\" class=\"row_heading level0 row2\" >f2</th>\n",
       "                        <td id=\"T_dd3de332_4ae2_11eb_848c_02420a39110frow2_col0\" class=\"data row2 col0\" >-0.00177704</td>\n",
       "                        <td id=\"T_dd3de332_4ae2_11eb_848c_02420a39110frow2_col1\" class=\"data row2 col1\" >-0.00259532</td>\n",
       "                        <td id=\"T_dd3de332_4ae2_11eb_848c_02420a39110frow2_col2\" class=\"data row2 col2\" >1</td>\n",
       "                        <td id=\"T_dd3de332_4ae2_11eb_848c_02420a39110frow2_col3\" class=\"data row2 col3\" >0.999397</td>\n",
       "            </tr>\n",
       "            <tr>\n",
       "                        <th id=\"T_dd3de332_4ae2_11eb_848c_02420a39110flevel0_row3\" class=\"row_heading level0 row3\" >product</th>\n",
       "                        <td id=\"T_dd3de332_4ae2_11eb_848c_02420a39110frow3_col0\" class=\"data row3 col0\" >-0.0304905</td>\n",
       "                        <td id=\"T_dd3de332_4ae2_11eb_848c_02420a39110frow3_col1\" class=\"data row3 col1\" >-0.0101549</td>\n",
       "                        <td id=\"T_dd3de332_4ae2_11eb_848c_02420a39110frow3_col2\" class=\"data row3 col2\" >0.999397</td>\n",
       "                        <td id=\"T_dd3de332_4ae2_11eb_848c_02420a39110frow3_col3\" class=\"data row3 col3\" >1</td>\n",
       "            </tr>\n",
       "    </tbody></table>"
      ],
      "text/plain": [
       "<pandas.io.formats.style.Styler at 0x7f3592d8f590>"
      ]
     },
     "metadata": {},
     "output_type": "display_data"
    },
    {
     "data": {
      "text/html": [
       "<div>\n",
       "<style scoped>\n",
       "    .dataframe tbody tr th:only-of-type {\n",
       "        vertical-align: middle;\n",
       "    }\n",
       "\n",
       "    .dataframe tbody tr th {\n",
       "        vertical-align: top;\n",
       "    }\n",
       "\n",
       "    .dataframe thead th {\n",
       "        text-align: right;\n",
       "    }\n",
       "</style>\n",
       "<table border=\"1\" class=\"dataframe\">\n",
       "  <thead>\n",
       "    <tr style=\"text-align: right;\">\n",
       "      <th></th>\n",
       "      <th>Пропуски</th>\n",
       "      <th>Дубликаты</th>\n",
       "      <th>Пустые скважины</th>\n",
       "      <th>% пустых скважин в регионе</th>\n",
       "      <th>Среднее значения запасов нефти</th>\n",
       "    </tr>\n",
       "  </thead>\n",
       "  <tbody>\n",
       "    <tr>\n",
       "      <td>0</td>\n",
       "      <td>0</td>\n",
       "      <td>0</td>\n",
       "      <td>8235</td>\n",
       "      <td>8.235</td>\n",
       "      <td>68.825</td>\n",
       "    </tr>\n",
       "  </tbody>\n",
       "</table>\n",
       "</div>"
      ],
      "text/plain": [
       "   Пропуски  Дубликаты  Пустые скважины  % пустых скважин в регионе  \\\n",
       "0         0          0             8235                       8.235   \n",
       "\n",
       "   Среднее значения запасов нефти  \n",
       "0                          68.825  "
      ]
     },
     "metadata": {},
     "output_type": "display_data"
    }
   ],
   "source": [
    "show_info(region_2, 'Регион №2')"
   ]
  },
  {
   "cell_type": "markdown",
   "metadata": {},
   "source": [
    "Пропуски отсутствуют.\n",
    "\n",
    "В данном регионе **8.23%** скважин не содержат нефть.\n",
    "\n",
    "Можно заметить очень сильную положительную корреляцию между признаком **f2** и целевым признаком."
   ]
  },
  {
   "cell_type": "markdown",
   "metadata": {},
   "source": [
    "#### 1.2.2. Третий регион"
   ]
  },
  {
   "cell_type": "code",
   "execution_count": 6,
   "metadata": {},
   "outputs": [
    {
     "name": "stdout",
     "output_type": "stream",
     "text": [
      "Регион №3 \n",
      "\n"
     ]
    },
    {
     "data": {
      "text/html": [
       "<div>\n",
       "<style scoped>\n",
       "    .dataframe tbody tr th:only-of-type {\n",
       "        vertical-align: middle;\n",
       "    }\n",
       "\n",
       "    .dataframe tbody tr th {\n",
       "        vertical-align: top;\n",
       "    }\n",
       "\n",
       "    .dataframe thead th {\n",
       "        text-align: right;\n",
       "    }\n",
       "</style>\n",
       "<table border=\"1\" class=\"dataframe\">\n",
       "  <thead>\n",
       "    <tr style=\"text-align: right;\">\n",
       "      <th></th>\n",
       "      <th>id</th>\n",
       "      <th>f0</th>\n",
       "      <th>f1</th>\n",
       "      <th>f2</th>\n",
       "      <th>product</th>\n",
       "    </tr>\n",
       "  </thead>\n",
       "  <tbody>\n",
       "    <tr>\n",
       "      <td>0</td>\n",
       "      <td>fwXo0</td>\n",
       "      <td>-1.146987</td>\n",
       "      <td>0.963328</td>\n",
       "      <td>-0.828965</td>\n",
       "      <td>27.758673</td>\n",
       "    </tr>\n",
       "    <tr>\n",
       "      <td>1</td>\n",
       "      <td>WJtFt</td>\n",
       "      <td>0.262778</td>\n",
       "      <td>0.269839</td>\n",
       "      <td>-2.530187</td>\n",
       "      <td>56.069697</td>\n",
       "    </tr>\n",
       "    <tr>\n",
       "      <td>2</td>\n",
       "      <td>ovLUW</td>\n",
       "      <td>0.194587</td>\n",
       "      <td>0.289035</td>\n",
       "      <td>-5.586433</td>\n",
       "      <td>62.871910</td>\n",
       "    </tr>\n",
       "    <tr>\n",
       "      <td>3</td>\n",
       "      <td>q6cA6</td>\n",
       "      <td>2.236060</td>\n",
       "      <td>-0.553760</td>\n",
       "      <td>0.930038</td>\n",
       "      <td>114.572842</td>\n",
       "    </tr>\n",
       "    <tr>\n",
       "      <td>4</td>\n",
       "      <td>WPMUX</td>\n",
       "      <td>-0.515993</td>\n",
       "      <td>1.716266</td>\n",
       "      <td>5.899011</td>\n",
       "      <td>149.600746</td>\n",
       "    </tr>\n",
       "  </tbody>\n",
       "</table>\n",
       "</div>"
      ],
      "text/plain": [
       "      id        f0        f1        f2     product\n",
       "0  fwXo0 -1.146987  0.963328 -0.828965   27.758673\n",
       "1  WJtFt  0.262778  0.269839 -2.530187   56.069697\n",
       "2  ovLUW  0.194587  0.289035 -5.586433   62.871910\n",
       "3  q6cA6  2.236060 -0.553760  0.930038  114.572842\n",
       "4  WPMUX -0.515993  1.716266  5.899011  149.600746"
      ]
     },
     "metadata": {},
     "output_type": "display_data"
    },
    {
     "name": "stdout",
     "output_type": "stream",
     "text": [
      "<class 'pandas.core.frame.DataFrame'>\n",
      "RangeIndex: 100000 entries, 0 to 99999\n",
      "Data columns (total 5 columns):\n",
      "id         100000 non-null object\n",
      "f0         100000 non-null float64\n",
      "f1         100000 non-null float64\n",
      "f2         100000 non-null float64\n",
      "product    100000 non-null float64\n",
      "dtypes: float64(4), object(1)\n",
      "memory usage: 3.8+ MB\n",
      "None\n",
      "\n",
      " Индекс корреляции между признаками:\n"
     ]
    },
    {
     "data": {
      "text/html": [
       "<style  type=\"text/css\" >\n",
       "</style><table id=\"T_dd543164_4ae2_11eb_848c_02420a39110f\" ><thead>    <tr>        <th class=\"blank level0\" ></th>        <th class=\"col_heading level0 col0\" >f0</th>        <th class=\"col_heading level0 col1\" >f1</th>        <th class=\"col_heading level0 col2\" >f2</th>        <th class=\"col_heading level0 col3\" >product</th>    </tr></thead><tbody>\n",
       "                <tr>\n",
       "                        <th id=\"T_dd543164_4ae2_11eb_848c_02420a39110flevel0_row0\" class=\"row_heading level0 row0\" >f0</th>\n",
       "                        <td id=\"T_dd543164_4ae2_11eb_848c_02420a39110frow0_col0\" class=\"data row0 col0\" >1</td>\n",
       "                        <td id=\"T_dd543164_4ae2_11eb_848c_02420a39110frow0_col1\" class=\"data row0 col1\" >0.000528283</td>\n",
       "                        <td id=\"T_dd543164_4ae2_11eb_848c_02420a39110frow0_col2\" class=\"data row0 col2\" >-0.000448133</td>\n",
       "                        <td id=\"T_dd543164_4ae2_11eb_848c_02420a39110frow0_col3\" class=\"data row0 col3\" >-0.00198706</td>\n",
       "            </tr>\n",
       "            <tr>\n",
       "                        <th id=\"T_dd543164_4ae2_11eb_848c_02420a39110flevel0_row1\" class=\"row_heading level0 row1\" >f1</th>\n",
       "                        <td id=\"T_dd543164_4ae2_11eb_848c_02420a39110frow1_col0\" class=\"data row1 col0\" >0.000528283</td>\n",
       "                        <td id=\"T_dd543164_4ae2_11eb_848c_02420a39110frow1_col1\" class=\"data row1 col1\" >1</td>\n",
       "                        <td id=\"T_dd543164_4ae2_11eb_848c_02420a39110frow1_col2\" class=\"data row1 col2\" >0.000778661</td>\n",
       "                        <td id=\"T_dd543164_4ae2_11eb_848c_02420a39110frow1_col3\" class=\"data row1 col3\" >-0.00101239</td>\n",
       "            </tr>\n",
       "            <tr>\n",
       "                        <th id=\"T_dd543164_4ae2_11eb_848c_02420a39110flevel0_row2\" class=\"row_heading level0 row2\" >f2</th>\n",
       "                        <td id=\"T_dd543164_4ae2_11eb_848c_02420a39110frow2_col0\" class=\"data row2 col0\" >-0.000448133</td>\n",
       "                        <td id=\"T_dd543164_4ae2_11eb_848c_02420a39110frow2_col1\" class=\"data row2 col1\" >0.000778661</td>\n",
       "                        <td id=\"T_dd543164_4ae2_11eb_848c_02420a39110frow2_col2\" class=\"data row2 col2\" >1</td>\n",
       "                        <td id=\"T_dd543164_4ae2_11eb_848c_02420a39110frow2_col3\" class=\"data row2 col3\" >0.445871</td>\n",
       "            </tr>\n",
       "            <tr>\n",
       "                        <th id=\"T_dd543164_4ae2_11eb_848c_02420a39110flevel0_row3\" class=\"row_heading level0 row3\" >product</th>\n",
       "                        <td id=\"T_dd543164_4ae2_11eb_848c_02420a39110frow3_col0\" class=\"data row3 col0\" >-0.00198706</td>\n",
       "                        <td id=\"T_dd543164_4ae2_11eb_848c_02420a39110frow3_col1\" class=\"data row3 col1\" >-0.00101239</td>\n",
       "                        <td id=\"T_dd543164_4ae2_11eb_848c_02420a39110frow3_col2\" class=\"data row3 col2\" >0.445871</td>\n",
       "                        <td id=\"T_dd543164_4ae2_11eb_848c_02420a39110frow3_col3\" class=\"data row3 col3\" >1</td>\n",
       "            </tr>\n",
       "    </tbody></table>"
      ],
      "text/plain": [
       "<pandas.io.formats.style.Styler at 0x7f358bde9fd0>"
      ]
     },
     "metadata": {},
     "output_type": "display_data"
    },
    {
     "data": {
      "text/html": [
       "<div>\n",
       "<style scoped>\n",
       "    .dataframe tbody tr th:only-of-type {\n",
       "        vertical-align: middle;\n",
       "    }\n",
       "\n",
       "    .dataframe tbody tr th {\n",
       "        vertical-align: top;\n",
       "    }\n",
       "\n",
       "    .dataframe thead th {\n",
       "        text-align: right;\n",
       "    }\n",
       "</style>\n",
       "<table border=\"1\" class=\"dataframe\">\n",
       "  <thead>\n",
       "    <tr style=\"text-align: right;\">\n",
       "      <th></th>\n",
       "      <th>Пропуски</th>\n",
       "      <th>Дубликаты</th>\n",
       "      <th>Пустые скважины</th>\n",
       "      <th>% пустых скважин в регионе</th>\n",
       "      <th>Среднее значения запасов нефти</th>\n",
       "    </tr>\n",
       "  </thead>\n",
       "  <tbody>\n",
       "    <tr>\n",
       "      <td>0</td>\n",
       "      <td>0</td>\n",
       "      <td>0</td>\n",
       "      <td>1</td>\n",
       "      <td>0.001</td>\n",
       "      <td>95.0</td>\n",
       "    </tr>\n",
       "  </tbody>\n",
       "</table>\n",
       "</div>"
      ],
      "text/plain": [
       "   Пропуски  Дубликаты  Пустые скважины  % пустых скважин в регионе  \\\n",
       "0         0          0                1                       0.001   \n",
       "\n",
       "   Среднее значения запасов нефти  \n",
       "0                            95.0  "
      ]
     },
     "metadata": {},
     "output_type": "display_data"
    }
   ],
   "source": [
    "show_info(region_3, 'Регион №3')"
   ]
  },
  {
   "cell_type": "markdown",
   "metadata": {},
   "source": [
    "Пропуски в датасете отсутствуют.<br>\n",
    "Также как и в первом регионе, присутствует одна пустая скважина."
   ]
  },
  {
   "cell_type": "markdown",
   "metadata": {},
   "source": [
    "#### 1.2.3. Общая информация по трём регионам"
   ]
  },
  {
   "cell_type": "code",
   "execution_count": 7,
   "metadata": {},
   "outputs": [
    {
     "data": {
      "image/png": "[encoded data removed]",
      "text/plain": [
       "<Figure size 432x288 with 1 Axes>"
      ]
     },
     "metadata": {
      "needs_background": "light"
     },
     "output_type": "display_data"
    }
   ],
   "source": [
    "ax = sns.boxplot(data=[region_1['product'], region_2['product'], region_3['product']])\n",
    "ax.set_title(\"Диаграмма размаха запасов нефти в скважинах по регионам\")\n",
    "ax.set_xticklabels(['Регион 1','Регион 2','Регион 2'])\n",
    "plt.show()"
   ]
  },
  {
   "cell_type": "code",
   "execution_count": 8,
   "metadata": {},
   "outputs": [
    {
     "data": {
      "text/html": [
       "<div>\n",
       "<style scoped>\n",
       "    .dataframe tbody tr th:only-of-type {\n",
       "        vertical-align: middle;\n",
       "    }\n",
       "\n",
       "    .dataframe tbody tr th {\n",
       "        vertical-align: top;\n",
       "    }\n",
       "\n",
       "    .dataframe thead th {\n",
       "        text-align: right;\n",
       "    }\n",
       "</style>\n",
       "<table border=\"1\" class=\"dataframe\">\n",
       "  <thead>\n",
       "    <tr style=\"text-align: right;\">\n",
       "      <th></th>\n",
       "      <th>Регион</th>\n",
       "      <th>Median</th>\n",
       "      <th>Q1</th>\n",
       "      <th>Q3</th>\n",
       "      <th>Min</th>\n",
       "      <th>Max</th>\n",
       "      <th>Overall product (млн. рублей)</th>\n",
       "    </tr>\n",
       "  </thead>\n",
       "  <tbody>\n",
       "    <tr>\n",
       "      <td>0</td>\n",
       "      <td>Регион 1</td>\n",
       "      <td>91.849972</td>\n",
       "      <td>56.497507</td>\n",
       "      <td>128.564089</td>\n",
       "      <td>0.0</td>\n",
       "      <td>185.364347</td>\n",
       "      <td>4162500.0</td>\n",
       "    </tr>\n",
       "    <tr>\n",
       "      <td>1</td>\n",
       "      <td>Регион 2</td>\n",
       "      <td>57.085625</td>\n",
       "      <td>26.953261</td>\n",
       "      <td>107.813044</td>\n",
       "      <td>0.0</td>\n",
       "      <td>137.945408</td>\n",
       "      <td>3097125.0</td>\n",
       "    </tr>\n",
       "    <tr>\n",
       "      <td>2</td>\n",
       "      <td>Регион 3</td>\n",
       "      <td>94.925613</td>\n",
       "      <td>59.450441</td>\n",
       "      <td>130.595027</td>\n",
       "      <td>0.0</td>\n",
       "      <td>190.029838</td>\n",
       "      <td>4275000.0</td>\n",
       "    </tr>\n",
       "  </tbody>\n",
       "</table>\n",
       "</div>"
      ],
      "text/plain": [
       "     Регион     Median         Q1          Q3  Min         Max  \\\n",
       "0  Регион 1  91.849972  56.497507  128.564089  0.0  185.364347   \n",
       "1  Регион 2  57.085625  26.953261  107.813044  0.0  137.945408   \n",
       "2  Регион 3  94.925613  59.450441  130.595027  0.0  190.029838   \n",
       "\n",
       "   Overall product (млн. рублей)  \n",
       "0                      4162500.0  \n",
       "1                      3097125.0  \n",
       "2                      4275000.0  "
      ]
     },
     "metadata": {},
     "output_type": "display_data"
    }
   ],
   "source": [
    "stat_table = []\n",
    "\n",
    "region_dict = {'Регион 1': region_1, 'Регион 2': region_2, 'Регион 3': region_3}\n",
    "\n",
    "for key, value in region_dict.items():\n",
    "    #словарь понадобится при обучении модели, так что сразу же отбросим столбец с id скважины\n",
    "    region_dict[key] = region_dict[key].drop('id', axis=1)\n",
    "    \n",
    "    median = value['product'].median()\n",
    "    q1 = value['product'].quantile(.25)\n",
    "    q3 = value['product'].quantile(.75)\n",
    "    min_value = value['product'].min()\n",
    "    max_value = value['product'].max()\n",
    "    overall_product = (value['product'].sum() * 450000) / 1_000_000\n",
    "    \n",
    "    stat_table.append(\n",
    "        [key,\n",
    "        median,\n",
    "        q1,\n",
    "        q3,\n",
    "        min_value,\n",
    "        max_value,\n",
    "        overall_product]\n",
    "    )\n",
    "\n",
    "columns = ['Регион','Median', 'Q1', 'Q3', 'Min', 'Max', 'Overall product (млн. рублей)']\n",
    "display(pd.DataFrame(stat_table, columns=columns))"
   ]
  },
  {
   "cell_type": "markdown",
   "metadata": {},
   "source": [
    "**Выводы по шагу:**\n",
    "\n",
    "- Данные были подготовлены для обучения модели. Провели проверку на наличие пропусков и дубликатов.\n",
    "- В каждом регионе присутствуют пустые скважины, но сильнее всего их количество выражено в регионе №2 - **8.235** от общего количества скважин в регионе\n",
    "- Выяснили, что, в среднем, в третьем регионе среднее значение объёма запасов нефти больше, чем в других регионах\n",
    "- Во втором регионе наименьшее среднее значение количества объёма запасов нефти меньше при большом количестве пустых месторождений.\n",
    "- Во втором регионе наблюдается аномальная корреляция между признаком **f2** и и целевым признаком **product** - индекс корреляции равен **0.999**"
   ]
  },
  {
   "cell_type": "markdown",
   "metadata": {},
   "source": [
    "# 2. Обучение и проверка модели"
   ]
  },
  {
   "cell_type": "markdown",
   "metadata": {},
   "source": [
    "Обучим модель.\n",
    "\n",
    "В цикле резделим датасет на обучающую и валидационную выборку, сделаем и сохраним предсказания на валидационной выборке и напечатаем информацию на основе предсказаний модели."
   ]
  },
  {
   "cell_type": "code",
   "execution_count": 9,
   "metadata": {},
   "outputs": [
    {
     "name": "stdout",
     "output_type": "stream",
     "text": [
      "Регион 1\n",
      "Размер обучающей выборки: (75000, 3)\n",
      "Размер валидационной выборки: (25000, 3) \n",
      "\n",
      "Регион 2\n",
      "Размер обучающей выборки: (75000, 3)\n",
      "Размер валидационной выборки: (25000, 3) \n",
      "\n",
      "Регион 3\n",
      "Размер обучающей выборки: (75000, 3)\n",
      "Размер валидационной выборки: (25000, 3) \n",
      "\n"
     ]
    },
    {
     "data": {
      "text/html": [
       "<div>\n",
       "<style scoped>\n",
       "    .dataframe tbody tr th:only-of-type {\n",
       "        vertical-align: middle;\n",
       "    }\n",
       "\n",
       "    .dataframe tbody tr th {\n",
       "        vertical-align: top;\n",
       "    }\n",
       "\n",
       "    .dataframe thead th {\n",
       "        text-align: right;\n",
       "    }\n",
       "</style>\n",
       "<table border=\"1\" class=\"dataframe\">\n",
       "  <thead>\n",
       "    <tr style=\"text-align: right;\">\n",
       "      <th></th>\n",
       "      <th>Регион</th>\n",
       "      <th>MSE</th>\n",
       "      <th>RMSE</th>\n",
       "      <th>Predicted mean</th>\n",
       "      <th>Actual mean</th>\n",
       "    </tr>\n",
       "  </thead>\n",
       "  <tbody>\n",
       "    <tr>\n",
       "      <td>0</td>\n",
       "      <td>Регион 1</td>\n",
       "      <td>1425.560870</td>\n",
       "      <td>37.756600</td>\n",
       "      <td>92.398800</td>\n",
       "      <td>92.500</td>\n",
       "    </tr>\n",
       "    <tr>\n",
       "      <td>1</td>\n",
       "      <td>Регион 2</td>\n",
       "      <td>0.792599</td>\n",
       "      <td>0.890280</td>\n",
       "      <td>68.712878</td>\n",
       "      <td>68.825</td>\n",
       "    </tr>\n",
       "    <tr>\n",
       "      <td>2</td>\n",
       "      <td>Регион 3</td>\n",
       "      <td>1611.691064</td>\n",
       "      <td>40.145872</td>\n",
       "      <td>94.771024</td>\n",
       "      <td>95.000</td>\n",
       "    </tr>\n",
       "  </tbody>\n",
       "</table>\n",
       "</div>"
      ],
      "text/plain": [
       "     Регион          MSE       RMSE  Predicted mean  Actual mean\n",
       "0  Регион 1  1425.560870  37.756600       92.398800       92.500\n",
       "1  Регион 2     0.792599   0.890280       68.712878       68.825\n",
       "2  Регион 3  1611.691064  40.145872       94.771024       95.000"
      ]
     },
     "metadata": {},
     "output_type": "display_data"
    }
   ],
   "source": [
    "results = []\n",
    "\n",
    "for key, value in region_dict.items():\n",
    "    features = value.drop('product', axis=1)\n",
    "    target = value['product']\n",
    "    \n",
    "    features_train, features_valid, target_train, target_valid = train_test_split(features, target,\n",
    "                                                                                  test_size=0.25, random_state=42)\n",
    "    #проверим размер выборок:\n",
    "    print(key)\n",
    "    print('Размер обучающей выборки:', features_train.shape)\n",
    "    print('Размер валидационной выборки:', features_valid.shape, '\\n')\n",
    "    \n",
    "    model = LinearRegression()\n",
    "    model.fit(features_train, target_train)\n",
    "    \n",
    "    predictions = model.predict(features_valid)\n",
    "    mse = mean_squared_error(target_valid, predictions)\n",
    "    rmse = mse ** 0.5\n",
    "    mean = predictions.mean()\n",
    "    \n",
    "    #запишем результаты работы моделей в список словарей:\n",
    "    results.append({'Регион': key,\n",
    "                    'MSE': mse,\n",
    "                    'RMSE': rmse,\n",
    "                    'Predicted mean': mean,\n",
    "                    'Actual mean': value['product'].mean(),\n",
    "                    'features_train': features_train,\n",
    "                    'target_train': target_train,\n",
    "                    'features_valid': features_valid,\n",
    "                    'target_valid': target_valid,\n",
    "                    'predictions': predictions})\n",
    "    \n",
    "#выведем результат на экран:\n",
    "display(pd.DataFrame(results)[['Регион', 'MSE', 'RMSE', 'Predicted mean', 'Actual mean']])"
   ]
  },
  {
   "cell_type": "markdown",
   "metadata": {},
   "source": [
    "**Выводы по шагу:**\n",
    "- Предсказанные средние значения практически не отличаются от фактических средних значений\n",
    "- Во втором регионе показатель метрики RMSE близок к идеальному и это может быть обусловлено достаточно ярко выраженной корреляцией между признаком **f2** и целевым признаком (что является достаточно странным явлением, т.к. данный признак выглядит как показатель гипотетического датчика запасов месторождения нефти, но только для второго региона - в других регионах подобной зависимости признаков замечено не было)\n",
    "- показатели **RMSE** в регионе 1 и 3 выглядят схожими и, учитывая то, что предсказанные и фактические значения запасов по всем регионам также отличаются незначительно, можно сделать вывод, что предсказания данных моделей годятся для дальнейшей работы."
   ]
  },
  {
   "cell_type": "markdown",
   "metadata": {},
   "source": [
    "# 3. Подготовка к расчёту прибыли"
   ]
  },
  {
   "cell_type": "markdown",
   "metadata": {},
   "source": [
    "Сохраним все ключевые значения для рассчётов в отдельные константы.<br>\n",
    "Рассчитаем достаточный объём сырья для безубыточной разработки новой скважины.<br>\n",
    "Сравним полученный объём сырья со средним запасом в каждом регионе.<br>"
   ]
  },
  {
   "cell_type": "code",
   "execution_count": 10,
   "metadata": {},
   "outputs": [],
   "source": [
    "ALL_POINTS = 500\n",
    "BEST_POINTS = 200\n",
    "BUDGET = 10_000_000_000\n",
    "PROFIT_PER_BARREL = 450_000\n",
    "THRESHOLD = .025\n",
    "BUDGET_POINT = BUDGET / BEST_POINTS"
   ]
  },
  {
   "cell_type": "code",
   "execution_count": 11,
   "metadata": {},
   "outputs": [
    {
     "name": "stdout",
     "output_type": "stream",
     "text": [
      "Достаточный объём сырья для безубыточной разработки новой скважины: 111.11111111111111 \n",
      "\n",
      "Средний объём сырья по регионам: \n",
      "\n",
      "Регион 1: 92.50000000000001\n",
      "Регион 2: 68.82500000000002\n",
      "Регион 3: 95.00000000000004\n"
     ]
    }
   ],
   "source": [
    "print('Достаточный объём сырья для безубыточной разработки новой скважины:', BUDGET_POINT / PROFIT_PER_BARREL, '\\n')\n",
    "print('Средний объём сырья по регионам:', '\\n')\n",
    "for key, value in region_dict.items():\n",
    "    print(key+':', value['product'].mean())"
   ]
  },
  {
   "cell_type": "markdown",
   "metadata": {},
   "source": [
    "**Вывод по шагу:** Для безубыточной разработки новой скважины необходимо переработать как минимум 111.1 единиц продукта - средний обьём сырья во всех регионах меньше данного значения."
   ]
  },
  {
   "cell_type": "markdown",
   "metadata": {},
   "source": [
    "# 4. Расчёт прибыли и рисков "
   ]
  },
  {
   "cell_type": "markdown",
   "metadata": {},
   "source": [
    "Напишем функцию для расчёта прибыли по выбранным скважинам и предсказаниям модели.<br>\n",
    "Выберем скважины с максимальными значениями предсказаний.<br>\n",
    "Просуммируем целевое значение объёма сырья, соответствующее этим предсказаниям.<br>\n",
    "Рассчитаем прибыль для полученного объёма сырья.\n",
    "\n",
    "Применим технику bootstrap и выведем необходимую нам информацию: среднюю прибыль, 95% доверительный интервал и риск убытков по регионам."
   ]
  },
  {
   "cell_type": "code",
   "execution_count": 12,
   "metadata": {},
   "outputs": [],
   "source": [
    "def revenue(target, probabilities, count):\n",
    "    \n",
    "    probs_best = probabilities.sort_values(ascending = False).head(count).index\n",
    "    income = target[probs_best].sum() * PROFIT_PER_BARREL\n",
    "    \n",
    "    #переведём в миллионы для лучшего восприятия\n",
    "    revenue = (income - BUDGET) / 1_000_000\n",
    "    return revenue"
   ]
  },
  {
   "cell_type": "code",
   "execution_count": 13,
   "metadata": {},
   "outputs": [],
   "source": [
    "state = np.random.RandomState(42)\n",
    "bootstrap = []\n",
    "\n",
    "#итеративно вытаскиваем из списка словарей ранее собранные данные по регионам\n",
    "for index, dictionary in enumerate(results):\n",
    "    target = dictionary.get('target_valid')\n",
    "    predictions = pd.Series(dictionary.get('predictions'), index=target_valid.index)\n",
    "    \n",
    "    values = []\n",
    "    \n",
    "    for i in range(1000):\n",
    "        target_subsample = target.sample(n=ALL_POINTS, replace=True, random_state=state)\n",
    "        prob_subsample = predictions[target_subsample.index]\n",
    "    \n",
    "        values.append(revenue(target_subsample, prob_subsample, BEST_POINTS))\n",
    "    \n",
    "    values = pd.Series(values)\n",
    "    \n",
    "    lower = values.quantile(THRESHOLD)\n",
    "    upper = values.quantile(.975)\n",
    "    conf_interval = upper - lower\n",
    "    risk = (values < 0).sum() / values.count() * 100\n",
    "    mean = values.mean()\n",
    "\n",
    "    bootstrap.append({'Регион:': dictionary['Регион'],\n",
    "                        'Lower': lower,\n",
    "                        'Upper': upper,\n",
    "                        'conf_interval_length': conf_interval,\n",
    "                        'Risk %': risk,\n",
    "                        'Mean': mean})"
   ]
  },
  {
   "cell_type": "code",
   "execution_count": 14,
   "metadata": {
    "scrolled": true
   },
   "outputs": [
    {
     "data": {
      "text/html": [
       "<div>\n",
       "<style scoped>\n",
       "    .dataframe tbody tr th:only-of-type {\n",
       "        vertical-align: middle;\n",
       "    }\n",
       "\n",
       "    .dataframe tbody tr th {\n",
       "        vertical-align: top;\n",
       "    }\n",
       "\n",
       "    .dataframe thead th {\n",
       "        text-align: right;\n",
       "    }\n",
       "</style>\n",
       "<table border=\"1\" class=\"dataframe\">\n",
       "  <thead>\n",
       "    <tr style=\"text-align: right;\">\n",
       "      <th></th>\n",
       "      <th>Регион:</th>\n",
       "      <th>Lower</th>\n",
       "      <th>Upper</th>\n",
       "      <th>conf_interval_length</th>\n",
       "      <th>Risk %</th>\n",
       "      <th>Mean</th>\n",
       "    </tr>\n",
       "  </thead>\n",
       "  <tbody>\n",
       "    <tr>\n",
       "      <td>0</td>\n",
       "      <td>Регион 1</td>\n",
       "      <td>10.089412</td>\n",
       "      <td>1246.370981</td>\n",
       "      <td>1236.281569</td>\n",
       "      <td>2.5</td>\n",
       "      <td>606.122632</td>\n",
       "    </tr>\n",
       "    <tr>\n",
       "      <td>1</td>\n",
       "      <td>Регион 2</td>\n",
       "      <td>148.800011</td>\n",
       "      <td>1186.977426</td>\n",
       "      <td>1038.177415</td>\n",
       "      <td>0.3</td>\n",
       "      <td>662.413205</td>\n",
       "    </tr>\n",
       "    <tr>\n",
       "      <td>2</td>\n",
       "      <td>Регион 3</td>\n",
       "      <td>2.464801</td>\n",
       "      <td>1254.827361</td>\n",
       "      <td>1252.362560</td>\n",
       "      <td>2.5</td>\n",
       "      <td>592.052021</td>\n",
       "    </tr>\n",
       "  </tbody>\n",
       "</table>\n",
       "</div>"
      ],
      "text/plain": [
       "    Регион:       Lower        Upper  conf_interval_length  Risk %        Mean\n",
       "0  Регион 1   10.089412  1246.370981           1236.281569     2.5  606.122632\n",
       "1  Регион 2  148.800011  1186.977426           1038.177415     0.3  662.413205\n",
       "2  Регион 3    2.464801  1254.827361           1252.362560     2.5  592.052021"
      ]
     },
     "execution_count": 14,
     "metadata": {},
     "output_type": "execute_result"
    }
   ],
   "source": [
    "#выведем собранную информацию на экран\n",
    "pd.DataFrame(bootstrap)"
   ]
  },
  {
   "cell_type": "markdown",
   "metadata": {},
   "source": [
    "**Вывод по шагу**: наибольший показатель средней прибыли во втором регионе, как и наименьший риск убытков. Чуть меньший показатель средней прибыли у первого региона, но показатель риска убытков находится на границе допустимого значения.\n",
    "\n",
    "Можем наблюдать, что у второго региона доверительный интервал уже, чем таковой у других регионов.\n",
    "\n",
    "Проанализировав эти показатели в целом, можно сказать, что регион под номером 2 является более предпочтительным для разработки месторождений нефти."
   ]
  }
 ],
 "metadata": {
  "kernelspec": {
   "display_name": "Python 3 (ipykernel)",
   "language": "python",
   "name": "python3"
  },
  "language_info": {
   "codemirror_mode": {
    "name": "ipython",
    "version": 3
   },
   "file_extension": ".py",
   "mimetype": "text/x-python",
   "name": "python",
   "nbconvert_exporter": "python",
   "pygments_lexer": "ipython3",
   "version": "3.9.7"
  },
  "toc": {
   "base_numbering": 1,
   "nav_menu": {},
   "number_sections": true,
   "sideBar": true,
   "skip_h1_title": true,
   "title_cell": "Table of Contents",
   "title_sidebar": "Contents",
   "toc_cell": false,
   "toc_position": {},
   "toc_section_display": true,
   "toc_window_display": false
  }
 },
 "nbformat": 4,
 "nbformat_minor": 2
}
