{
 "cells": [
  {
   "cell_type": "markdown",
   "metadata": {},
   "source": [
    "# Описание проекта\n",
    "\n",
    "Подготовьте прототип модели машинного обучения для «Цифры». Компания разрабатывает решения для эффективной работы промышленных предприятий.\n",
    "\n",
    "Модель должна предсказать коэффициент восстановления золота из золотосодержащей руды. В вашем распоряжении данные с параметрами добычи и очистки. \n",
    "\n",
    "Модель поможет оптимизировать производство, чтобы не запускать предприятие с убыточными характеристиками.\n",
    "\n",
    "# Описание данных\n",
    "\n",
    "### Технологический процесс\n",
    "\n",
    "- Rougher feed — исходное сырье\n",
    "- Rougher additions (или reagent additions) — флотационные реагенты: Xanthate, Sulphate, Depressant\n",
    "    - Xanthate **— ксантогенат (промотер, или активатор флотации);\n",
    "    - Sulphate — сульфат (на данном производстве сульфид натрия);\n",
    "    - Depressant — депрессант (силикат натрия).\n",
    "- Rougher process (англ. «грубый процесс») — флотация\n",
    "- Rougher tails — отвальные хвосты\n",
    "- Float banks — флотационная установка\n",
    "- Cleaner process — очистка\n",
    "- Rougher Au — черновой концентрат золота\n",
    "- Final Au — финальный концентрат золота\n",
    "\n",
    "\n",
    "### Параметры этапов\n",
    "- air amount — объём воздуха\n",
    "- fluid levels — уровень жидкости\n",
    "- feed size — размер гранул сырья\n",
    "- feed rate — скорость подачи\n",
    "\n",
    "### Наименование признаков\n",
    "Наименование признаков должно быть такое:\n",
    "\n",
    "`[этап].[тип_параметра].[название_параметра]`<br>\n",
    "\n",
    "Пример:\n",
    "\n",
    "`rougher.input.feed_ag`\n",
    "\n",
    "\n",
    "Возможные значения для блока `[этап]`:\n",
    "- rougher — флотация\n",
    "- primary_cleaner — первичная очистка\n",
    "- secondary_cleaner — вторичная очистка\n",
    "- final — финальные характеристики\n",
    "\n",
    "\n",
    "Возможные значения для блока `[тип_параметра]`:\n",
    "- input — параметры сырья\n",
    "- output — параметры продукта\n",
    "- state — параметры, характеризующие текущее состояние этапа\n",
    "- calculation — расчётные характеристики"
   ]
  },
  {
   "cell_type": "markdown",
   "metadata": {},
   "source": [
    "# 1. Подготовка данных"
   ]
  },
  {
   "cell_type": "markdown",
   "metadata": {},
   "source": [
    "#### 1.1. Импорт необходимых библиотек"
   ]
  },
  {
   "cell_type": "code",
   "execution_count": 1,
   "metadata": {},
   "outputs": [],
   "source": [
    "import numpy as np\n",
    "import pandas as pd\n",
    "\n",
    "import matplotlib.pyplot as plt\n",
    "import seaborn as sns\n",
    "\n",
    "from sklearn.metrics import mean_absolute_error\n",
    "from sklearn.preprocessing import StandardScaler\n",
    "from sklearn.ensemble import RandomForestRegressor\n",
    "from sklearn.linear_model import LinearRegression\n",
    "from sklearn.model_selection import cross_val_score\n",
    "from sklearn.metrics.scorer import make_scorer\n",
    "from sklearn.dummy import DummyRegressor"
   ]
  },
  {
   "cell_type": "markdown",
   "metadata": {},
   "source": [
    "#### 1.2 Откроем файлы и изучим их"
   ]
  },
  {
   "cell_type": "code",
   "execution_count": 2,
   "metadata": {},
   "outputs": [],
   "source": [
    "full = pd.read_csv('/datasets/gold_recovery_full.csv')\n",
    "train = pd.read_csv('/datasets/gold_recovery_train.csv')\n",
    "test = pd.read_csv('/datasets/gold_recovery_test.csv')"
   ]
  },
  {
   "cell_type": "markdown",
   "metadata": {},
   "source": [
    "Напишем функцию, выводящую информацию о датасете.<br>Нас интересуют следующие характеристики:\n",
    "- количество объектов и признаков\n",
    "- количество пропущенных значений в признаках объектов\n",
    "- количество нулевых значений в признаках объектов\n",
    "- количество дубликатов\n",
    "\n",
    "Также создадим словарь для упрощения итерации по нашим датасетам."
   ]
  },
  {
   "cell_type": "code",
   "execution_count": 3,
   "metadata": {},
   "outputs": [],
   "source": [
    "datasets = {'Обучающая выборка': train,\n",
    "            'Тестовая выборка': test,\n",
    "            'Исходные данные': full}"
   ]
  },
  {
   "cell_type": "code",
   "execution_count": 4,
   "metadata": {},
   "outputs": [],
   "source": [
    "def eda(key):\n",
    "    \n",
    "    print(key+':', '\\n')\n",
    "    \n",
    "    print(datasets[key].info(), '\\n')\n",
    "    \n",
    "    print('Количество дупликатов:', datasets[key].duplicated().sum(), '\\n')\n",
    "    print('Количество пропущенных значений:', datasets[key].isnull().sum().sum(),\n",
    "          (datasets[key].isnull().sum().sum()) / (len(datasets[key]) * len(datasets[key].columns)) * 100, '%', '\\n')\n",
    "    print('Общее количество  нулевых значений в датасете:',(datasets[key] == 0).sum().sum(), '\\n')\n",
    "    \n",
    "    print('Признаки, имеющие нулевые значения и их количество:', '\\n')\n",
    "    \n",
    "    counter = 0\n",
    "    for column in datasets[key].columns:\n",
    "        if (datasets[key][column] == 0).sum() != 0:\n",
    "            print(column, (datasets[key][column] == 0).sum())\n",
    "            counter += 1\n",
    "    print('\\n','Общее количество признаков, имеющих нулевые значения:', counter)"
   ]
  },
  {
   "cell_type": "markdown",
   "metadata": {},
   "source": [
    "#### 1.2.1 Обучающая выборка"
   ]
  },
  {
   "cell_type": "code",
   "execution_count": 5,
   "metadata": {
    "scrolled": false
   },
   "outputs": [
    {
     "name": "stdout",
     "output_type": "stream",
     "text": [
      "Обучающая выборка: \n",
      "\n",
      "<class 'pandas.core.frame.DataFrame'>\n",
      "RangeIndex: 16860 entries, 0 to 16859\n",
      "Data columns (total 87 columns):\n",
      "date                                                  16860 non-null object\n",
      "final.output.concentrate_ag                           16788 non-null float64\n",
      "final.output.concentrate_pb                           16788 non-null float64\n",
      "final.output.concentrate_sol                          16490 non-null float64\n",
      "final.output.concentrate_au                           16789 non-null float64\n",
      "final.output.recovery                                 15339 non-null float64\n",
      "final.output.tail_ag                                  16794 non-null float64\n",
      "final.output.tail_pb                                  16677 non-null float64\n",
      "final.output.tail_sol                                 16715 non-null float64\n",
      "final.output.tail_au                                  16794 non-null float64\n",
      "primary_cleaner.input.sulfate                         15553 non-null float64\n",
      "primary_cleaner.input.depressant                      15598 non-null float64\n",
      "primary_cleaner.input.feed_size                       16860 non-null float64\n",
      "primary_cleaner.input.xanthate                        15875 non-null float64\n",
      "primary_cleaner.output.concentrate_ag                 16778 non-null float64\n",
      "primary_cleaner.output.concentrate_pb                 16502 non-null float64\n",
      "primary_cleaner.output.concentrate_sol                16224 non-null float64\n",
      "primary_cleaner.output.concentrate_au                 16778 non-null float64\n",
      "primary_cleaner.output.tail_ag                        16777 non-null float64\n",
      "primary_cleaner.output.tail_pb                        16761 non-null float64\n",
      "primary_cleaner.output.tail_sol                       16579 non-null float64\n",
      "primary_cleaner.output.tail_au                        16777 non-null float64\n",
      "primary_cleaner.state.floatbank8_a_air                16820 non-null float64\n",
      "primary_cleaner.state.floatbank8_a_level              16827 non-null float64\n",
      "primary_cleaner.state.floatbank8_b_air                16820 non-null float64\n",
      "primary_cleaner.state.floatbank8_b_level              16833 non-null float64\n",
      "primary_cleaner.state.floatbank8_c_air                16822 non-null float64\n",
      "primary_cleaner.state.floatbank8_c_level              16833 non-null float64\n",
      "primary_cleaner.state.floatbank8_d_air                16821 non-null float64\n",
      "primary_cleaner.state.floatbank8_d_level              16833 non-null float64\n",
      "rougher.calculation.sulfate_to_au_concentrate         16833 non-null float64\n",
      "rougher.calculation.floatbank10_sulfate_to_au_feed    16833 non-null float64\n",
      "rougher.calculation.floatbank11_sulfate_to_au_feed    16833 non-null float64\n",
      "rougher.calculation.au_pb_ratio                       15618 non-null float64\n",
      "rougher.input.feed_ag                                 16778 non-null float64\n",
      "rougher.input.feed_pb                                 16632 non-null float64\n",
      "rougher.input.feed_rate                               16347 non-null float64\n",
      "rougher.input.feed_size                               16443 non-null float64\n",
      "rougher.input.feed_sol                                16568 non-null float64\n",
      "rougher.input.feed_au                                 16777 non-null float64\n",
      "rougher.input.floatbank10_sulfate                     15816 non-null float64\n",
      "rougher.input.floatbank10_xanthate                    16514 non-null float64\n",
      "rougher.input.floatbank11_sulfate                     16237 non-null float64\n",
      "rougher.input.floatbank11_xanthate                    14956 non-null float64\n",
      "rougher.output.concentrate_ag                         16778 non-null float64\n",
      "rougher.output.concentrate_pb                         16778 non-null float64\n",
      "rougher.output.concentrate_sol                        16698 non-null float64\n",
      "rougher.output.concentrate_au                         16778 non-null float64\n",
      "rougher.output.recovery                               14287 non-null float64\n",
      "rougher.output.tail_ag                                14610 non-null float64\n",
      "rougher.output.tail_pb                                16778 non-null float64\n",
      "rougher.output.tail_sol                               14611 non-null float64\n",
      "rougher.output.tail_au                                14611 non-null float64\n",
      "rougher.state.floatbank10_a_air                       16807 non-null float64\n",
      "rougher.state.floatbank10_a_level                     16807 non-null float64\n",
      "rougher.state.floatbank10_b_air                       16807 non-null float64\n",
      "rougher.state.floatbank10_b_level                     16807 non-null float64\n",
      "rougher.state.floatbank10_c_air                       16807 non-null float64\n",
      "rougher.state.floatbank10_c_level                     16814 non-null float64\n",
      "rougher.state.floatbank10_d_air                       16802 non-null float64\n",
      "rougher.state.floatbank10_d_level                     16809 non-null float64\n",
      "rougher.state.floatbank10_e_air                       16257 non-null float64\n",
      "rougher.state.floatbank10_e_level                     16809 non-null float64\n",
      "rougher.state.floatbank10_f_air                       16802 non-null float64\n",
      "rougher.state.floatbank10_f_level                     16802 non-null float64\n",
      "secondary_cleaner.output.tail_ag                      16776 non-null float64\n",
      "secondary_cleaner.output.tail_pb                      16764 non-null float64\n",
      "secondary_cleaner.output.tail_sol                     14874 non-null float64\n",
      "secondary_cleaner.output.tail_au                      16778 non-null float64\n",
      "secondary_cleaner.state.floatbank2_a_air              16497 non-null float64\n",
      "secondary_cleaner.state.floatbank2_a_level            16751 non-null float64\n",
      "secondary_cleaner.state.floatbank2_b_air              16705 non-null float64\n",
      "secondary_cleaner.state.floatbank2_b_level            16748 non-null float64\n",
      "secondary_cleaner.state.floatbank3_a_air              16763 non-null float64\n",
      "secondary_cleaner.state.floatbank3_a_level            16747 non-null float64\n",
      "secondary_cleaner.state.floatbank3_b_air              16752 non-null float64\n",
      "secondary_cleaner.state.floatbank3_b_level            16750 non-null float64\n",
      "secondary_cleaner.state.floatbank4_a_air              16731 non-null float64\n",
      "secondary_cleaner.state.floatbank4_a_level            16747 non-null float64\n",
      "secondary_cleaner.state.floatbank4_b_air              16768 non-null float64\n",
      "secondary_cleaner.state.floatbank4_b_level            16767 non-null float64\n",
      "secondary_cleaner.state.floatbank5_a_air              16775 non-null float64\n",
      "secondary_cleaner.state.floatbank5_a_level            16775 non-null float64\n",
      "secondary_cleaner.state.floatbank5_b_air              16775 non-null float64\n",
      "secondary_cleaner.state.floatbank5_b_level            16776 non-null float64\n",
      "secondary_cleaner.state.floatbank6_a_air              16757 non-null float64\n",
      "secondary_cleaner.state.floatbank6_a_level            16775 non-null float64\n",
      "dtypes: float64(86), object(1)\n",
      "memory usage: 11.2+ MB\n",
      "None \n",
      "\n",
      "Количество дупликатов: 0 \n",
      "\n",
      "Количество пропущенных значений: 30320 2.0670566258982013 % \n",
      "\n",
      "Общее количество  нулевых значений в датасете: 47571 \n",
      "\n",
      "Признаки, имеющие нулевые значения и их количество: \n",
      "\n",
      "final.output.concentrate_ag 1263\n",
      "final.output.concentrate_pb 1263\n",
      "final.output.concentrate_sol 1263\n",
      "final.output.concentrate_au 1263\n",
      "final.output.recovery 89\n",
      "final.output.tail_ag 1658\n",
      "final.output.tail_pb 1658\n",
      "final.output.tail_sol 1658\n",
      "final.output.tail_au 1658\n",
      "primary_cleaner.input.depressant 57\n",
      "primary_cleaner.output.concentrate_ag 1230\n",
      "primary_cleaner.output.concentrate_pb 1230\n",
      "primary_cleaner.output.concentrate_sol 1230\n",
      "primary_cleaner.output.concentrate_au 1230\n",
      "primary_cleaner.output.tail_ag 1549\n",
      "primary_cleaner.output.tail_pb 1549\n",
      "primary_cleaner.output.tail_sol 1549\n",
      "primary_cleaner.output.tail_au 1549\n",
      "primary_cleaner.state.floatbank8_a_air 256\n",
      "primary_cleaner.state.floatbank8_b_air 257\n",
      "primary_cleaner.state.floatbank8_c_air 282\n",
      "primary_cleaner.state.floatbank8_d_air 268\n",
      "rougher.input.feed_ag 1159\n",
      "rougher.input.feed_pb 1159\n",
      "rougher.input.feed_sol 1159\n",
      "rougher.input.feed_au 1159\n",
      "rougher.output.concentrate_ag 1493\n",
      "rougher.output.concentrate_pb 1493\n",
      "rougher.output.concentrate_sol 1493\n",
      "rougher.output.concentrate_au 1493\n",
      "rougher.output.recovery 320\n",
      "rougher.output.tail_pb 1563\n",
      "secondary_cleaner.output.tail_ag 2298\n",
      "secondary_cleaner.output.tail_pb 2298\n",
      "secondary_cleaner.output.tail_sol 2298\n",
      "secondary_cleaner.output.tail_au 2298\n",
      "secondary_cleaner.state.floatbank2_a_air 1\n",
      "secondary_cleaner.state.floatbank2_b_air 373\n",
      "secondary_cleaner.state.floatbank3_a_air 365\n",
      "secondary_cleaner.state.floatbank3_b_air 409\n",
      "secondary_cleaner.state.floatbank4_a_air 365\n",
      "secondary_cleaner.state.floatbank4_b_air 366\n",
      "\n",
      " Общее количество признаков, имеющих нулевые значения: 42\n"
     ]
    }
   ],
   "source": [
    "eda('Обучающая выборка')"
   ]
  },
  {
   "cell_type": "markdown",
   "metadata": {},
   "source": [
    "**Вывод:**\n",
    "\n",
    "- Обучающая выборка содержит **16860** объектов, которые имеют **87** признаков\n",
    "- 1 категориальный признак **date** (в дальнейшем потребуется замена типа данных), отображающий дату сбора данных об объекте, остальные признаки являются количественными.\n",
    "- В датасете присутствует **30320** пустых значений (~2.1% от всех наблюдений) и значительное количество нулевых значений - **47571**. Можно предположить, что на момент взятия образцы веществ, связанных с данными признаками, отсутствовали в концентрате.\n",
    "- Дубликаты отсутствуют."
   ]
  },
  {
   "cell_type": "markdown",
   "metadata": {},
   "source": [
    "#### 1.2.2 Тестовая выборка"
   ]
  },
  {
   "cell_type": "code",
   "execution_count": 6,
   "metadata": {
    "scrolled": false
   },
   "outputs": [
    {
     "name": "stdout",
     "output_type": "stream",
     "text": [
      "Тестовая выборка: \n",
      "\n",
      "<class 'pandas.core.frame.DataFrame'>\n",
      "RangeIndex: 5856 entries, 0 to 5855\n",
      "Data columns (total 53 columns):\n",
      "date                                          5856 non-null object\n",
      "primary_cleaner.input.sulfate                 5554 non-null float64\n",
      "primary_cleaner.input.depressant              5572 non-null float64\n",
      "primary_cleaner.input.feed_size               5856 non-null float64\n",
      "primary_cleaner.input.xanthate                5690 non-null float64\n",
      "primary_cleaner.state.floatbank8_a_air        5840 non-null float64\n",
      "primary_cleaner.state.floatbank8_a_level      5840 non-null float64\n",
      "primary_cleaner.state.floatbank8_b_air        5840 non-null float64\n",
      "primary_cleaner.state.floatbank8_b_level      5840 non-null float64\n",
      "primary_cleaner.state.floatbank8_c_air        5840 non-null float64\n",
      "primary_cleaner.state.floatbank8_c_level      5840 non-null float64\n",
      "primary_cleaner.state.floatbank8_d_air        5840 non-null float64\n",
      "primary_cleaner.state.floatbank8_d_level      5840 non-null float64\n",
      "rougher.input.feed_ag                         5840 non-null float64\n",
      "rougher.input.feed_pb                         5840 non-null float64\n",
      "rougher.input.feed_rate                       5816 non-null float64\n",
      "rougher.input.feed_size                       5834 non-null float64\n",
      "rougher.input.feed_sol                        5789 non-null float64\n",
      "rougher.input.feed_au                         5840 non-null float64\n",
      "rougher.input.floatbank10_sulfate             5599 non-null float64\n",
      "rougher.input.floatbank10_xanthate            5733 non-null float64\n",
      "rougher.input.floatbank11_sulfate             5801 non-null float64\n",
      "rougher.input.floatbank11_xanthate            5503 non-null float64\n",
      "rougher.state.floatbank10_a_air               5839 non-null float64\n",
      "rougher.state.floatbank10_a_level             5840 non-null float64\n",
      "rougher.state.floatbank10_b_air               5839 non-null float64\n",
      "rougher.state.floatbank10_b_level             5840 non-null float64\n",
      "rougher.state.floatbank10_c_air               5839 non-null float64\n",
      "rougher.state.floatbank10_c_level             5840 non-null float64\n",
      "rougher.state.floatbank10_d_air               5839 non-null float64\n",
      "rougher.state.floatbank10_d_level             5840 non-null float64\n",
      "rougher.state.floatbank10_e_air               5839 non-null float64\n",
      "rougher.state.floatbank10_e_level             5840 non-null float64\n",
      "rougher.state.floatbank10_f_air               5839 non-null float64\n",
      "rougher.state.floatbank10_f_level             5840 non-null float64\n",
      "secondary_cleaner.state.floatbank2_a_air      5836 non-null float64\n",
      "secondary_cleaner.state.floatbank2_a_level    5840 non-null float64\n",
      "secondary_cleaner.state.floatbank2_b_air      5833 non-null float64\n",
      "secondary_cleaner.state.floatbank2_b_level    5840 non-null float64\n",
      "secondary_cleaner.state.floatbank3_a_air      5822 non-null float64\n",
      "secondary_cleaner.state.floatbank3_a_level    5840 non-null float64\n",
      "secondary_cleaner.state.floatbank3_b_air      5840 non-null float64\n",
      "secondary_cleaner.state.floatbank3_b_level    5840 non-null float64\n",
      "secondary_cleaner.state.floatbank4_a_air      5840 non-null float64\n",
      "secondary_cleaner.state.floatbank4_a_level    5840 non-null float64\n",
      "secondary_cleaner.state.floatbank4_b_air      5840 non-null float64\n",
      "secondary_cleaner.state.floatbank4_b_level    5840 non-null float64\n",
      "secondary_cleaner.state.floatbank5_a_air      5840 non-null float64\n",
      "secondary_cleaner.state.floatbank5_a_level    5840 non-null float64\n",
      "secondary_cleaner.state.floatbank5_b_air      5840 non-null float64\n",
      "secondary_cleaner.state.floatbank5_b_level    5840 non-null float64\n",
      "secondary_cleaner.state.floatbank6_a_air      5840 non-null float64\n",
      "secondary_cleaner.state.floatbank6_a_level    5840 non-null float64\n",
      "dtypes: float64(52), object(1)\n",
      "memory usage: 2.4+ MB\n",
      "None \n",
      "\n",
      "Количество дупликатов: 0 \n",
      "\n",
      "Количество пропущенных значений: 2360 0.7603876688318383 % \n",
      "\n",
      "Общее количество  нулевых значений в датасете: 2450 \n",
      "\n",
      "Признаки, имеющие нулевые значения и их количество: \n",
      "\n",
      "primary_cleaner.state.floatbank8_a_air 93\n",
      "primary_cleaner.state.floatbank8_b_air 88\n",
      "primary_cleaner.state.floatbank8_c_air 48\n",
      "primary_cleaner.state.floatbank8_d_air 48\n",
      "rougher.input.feed_ag 369\n",
      "rougher.input.feed_pb 369\n",
      "rougher.input.feed_sol 369\n",
      "rougher.input.feed_au 369\n",
      "secondary_cleaner.state.floatbank2_a_air 5\n",
      "secondary_cleaner.state.floatbank2_b_air 138\n",
      "secondary_cleaner.state.floatbank3_a_air 140\n",
      "secondary_cleaner.state.floatbank3_b_air 138\n",
      "secondary_cleaner.state.floatbank4_a_air 138\n",
      "secondary_cleaner.state.floatbank4_b_air 138\n",
      "\n",
      " Общее количество признаков, имеющих нулевые значения: 14\n"
     ]
    }
   ],
   "source": [
    "eda('Тестовая выборка')"
   ]
  },
  {
   "cell_type": "markdown",
   "metadata": {},
   "source": [
    "**Вывод:**\n",
    "\n",
    "- Тестовая выборка содержит **5856** объектов и **53** признака (количество признаков значительно отличается от количества признаков обучающей выборки в меньшую сторону).\n",
    "- Тестовая выборка, так же как и обучающая, содержит категориальный признак date.\n",
    "- Присутствует **2360** пропущенных значений, что составляет **0.76%** от всего датасета. Количество нулевых значений - **2450**.\n",
    "- Дубликаты отсутствуют."
   ]
  },
  {
   "cell_type": "markdown",
   "metadata": {},
   "source": [
    "#### 1.2.3 Исходные данные"
   ]
  },
  {
   "cell_type": "code",
   "execution_count": 7,
   "metadata": {
    "scrolled": false
   },
   "outputs": [
    {
     "name": "stdout",
     "output_type": "stream",
     "text": [
      "Исходные данные: \n",
      "\n",
      "<class 'pandas.core.frame.DataFrame'>\n",
      "RangeIndex: 22716 entries, 0 to 22715\n",
      "Data columns (total 87 columns):\n",
      "date                                                  22716 non-null object\n",
      "final.output.concentrate_ag                           22627 non-null float64\n",
      "final.output.concentrate_pb                           22629 non-null float64\n",
      "final.output.concentrate_sol                          22331 non-null float64\n",
      "final.output.concentrate_au                           22630 non-null float64\n",
      "final.output.recovery                                 20753 non-null float64\n",
      "final.output.tail_ag                                  22633 non-null float64\n",
      "final.output.tail_pb                                  22516 non-null float64\n",
      "final.output.tail_sol                                 22445 non-null float64\n",
      "final.output.tail_au                                  22635 non-null float64\n",
      "primary_cleaner.input.sulfate                         21107 non-null float64\n",
      "primary_cleaner.input.depressant                      21170 non-null float64\n",
      "primary_cleaner.input.feed_size                       22716 non-null float64\n",
      "primary_cleaner.input.xanthate                        21565 non-null float64\n",
      "primary_cleaner.output.concentrate_ag                 22618 non-null float64\n",
      "primary_cleaner.output.concentrate_pb                 22268 non-null float64\n",
      "primary_cleaner.output.concentrate_sol                21918 non-null float64\n",
      "primary_cleaner.output.concentrate_au                 22618 non-null float64\n",
      "primary_cleaner.output.tail_ag                        22614 non-null float64\n",
      "primary_cleaner.output.tail_pb                        22594 non-null float64\n",
      "primary_cleaner.output.tail_sol                       22365 non-null float64\n",
      "primary_cleaner.output.tail_au                        22617 non-null float64\n",
      "primary_cleaner.state.floatbank8_a_air                22660 non-null float64\n",
      "primary_cleaner.state.floatbank8_a_level              22667 non-null float64\n",
      "primary_cleaner.state.floatbank8_b_air                22660 non-null float64\n",
      "primary_cleaner.state.floatbank8_b_level              22673 non-null float64\n",
      "primary_cleaner.state.floatbank8_c_air                22662 non-null float64\n",
      "primary_cleaner.state.floatbank8_c_level              22673 non-null float64\n",
      "primary_cleaner.state.floatbank8_d_air                22661 non-null float64\n",
      "primary_cleaner.state.floatbank8_d_level              22673 non-null float64\n",
      "rougher.calculation.sulfate_to_au_concentrate         22672 non-null float64\n",
      "rougher.calculation.floatbank10_sulfate_to_au_feed    22672 non-null float64\n",
      "rougher.calculation.floatbank11_sulfate_to_au_feed    22672 non-null float64\n",
      "rougher.calculation.au_pb_ratio                       21089 non-null float64\n",
      "rougher.input.feed_ag                                 22618 non-null float64\n",
      "rougher.input.feed_pb                                 22472 non-null float64\n",
      "rougher.input.feed_rate                               22163 non-null float64\n",
      "rougher.input.feed_size                               22277 non-null float64\n",
      "rougher.input.feed_sol                                22357 non-null float64\n",
      "rougher.input.feed_au                                 22617 non-null float64\n",
      "rougher.input.floatbank10_sulfate                     21415 non-null float64\n",
      "rougher.input.floatbank10_xanthate                    22247 non-null float64\n",
      "rougher.input.floatbank11_sulfate                     22038 non-null float64\n",
      "rougher.input.floatbank11_xanthate                    20459 non-null float64\n",
      "rougher.output.concentrate_ag                         22618 non-null float64\n",
      "rougher.output.concentrate_pb                         22618 non-null float64\n",
      "rougher.output.concentrate_sol                        22526 non-null float64\n",
      "rougher.output.concentrate_au                         22618 non-null float64\n",
      "rougher.output.recovery                               19597 non-null float64\n",
      "rougher.output.tail_ag                                19979 non-null float64\n",
      "rougher.output.tail_pb                                22618 non-null float64\n",
      "rougher.output.tail_sol                               19980 non-null float64\n",
      "rougher.output.tail_au                                19980 non-null float64\n",
      "rougher.state.floatbank10_a_air                       22646 non-null float64\n",
      "rougher.state.floatbank10_a_level                     22647 non-null float64\n",
      "rougher.state.floatbank10_b_air                       22646 non-null float64\n",
      "rougher.state.floatbank10_b_level                     22647 non-null float64\n",
      "rougher.state.floatbank10_c_air                       22646 non-null float64\n",
      "rougher.state.floatbank10_c_level                     22654 non-null float64\n",
      "rougher.state.floatbank10_d_air                       22641 non-null float64\n",
      "rougher.state.floatbank10_d_level                     22649 non-null float64\n",
      "rougher.state.floatbank10_e_air                       22096 non-null float64\n",
      "rougher.state.floatbank10_e_level                     22649 non-null float64\n",
      "rougher.state.floatbank10_f_air                       22641 non-null float64\n",
      "rougher.state.floatbank10_f_level                     22642 non-null float64\n",
      "secondary_cleaner.output.tail_ag                      22616 non-null float64\n",
      "secondary_cleaner.output.tail_pb                      22600 non-null float64\n",
      "secondary_cleaner.output.tail_sol                     20501 non-null float64\n",
      "secondary_cleaner.output.tail_au                      22618 non-null float64\n",
      "secondary_cleaner.state.floatbank2_a_air              22333 non-null float64\n",
      "secondary_cleaner.state.floatbank2_a_level            22591 non-null float64\n",
      "secondary_cleaner.state.floatbank2_b_air              22538 non-null float64\n",
      "secondary_cleaner.state.floatbank2_b_level            22588 non-null float64\n",
      "secondary_cleaner.state.floatbank3_a_air              22585 non-null float64\n",
      "secondary_cleaner.state.floatbank3_a_level            22587 non-null float64\n",
      "secondary_cleaner.state.floatbank3_b_air              22592 non-null float64\n",
      "secondary_cleaner.state.floatbank3_b_level            22590 non-null float64\n",
      "secondary_cleaner.state.floatbank4_a_air              22571 non-null float64\n",
      "secondary_cleaner.state.floatbank4_a_level            22587 non-null float64\n",
      "secondary_cleaner.state.floatbank4_b_air              22608 non-null float64\n",
      "secondary_cleaner.state.floatbank4_b_level            22607 non-null float64\n",
      "secondary_cleaner.state.floatbank5_a_air              22615 non-null float64\n",
      "secondary_cleaner.state.floatbank5_a_level            22615 non-null float64\n",
      "secondary_cleaner.state.floatbank5_b_air              22615 non-null float64\n",
      "secondary_cleaner.state.floatbank5_b_level            22616 non-null float64\n",
      "secondary_cleaner.state.floatbank6_a_air              22597 non-null float64\n",
      "secondary_cleaner.state.floatbank6_a_level            22615 non-null float64\n",
      "dtypes: float64(86), object(1)\n",
      "memory usage: 15.1+ MB\n",
      "None \n",
      "\n",
      "Количество дупликатов: 0 \n",
      "\n",
      "Количество пропущенных значений: 36587 1.851295253940207 % \n",
      "\n",
      "Общее количество  нулевых значений в датасете: 60015 \n",
      "\n",
      "Признаки, имеющие нулевые значения и их количество: \n",
      "\n",
      "final.output.concentrate_ag 1613\n",
      "final.output.concentrate_pb 1613\n",
      "final.output.concentrate_sol 1613\n",
      "final.output.concentrate_au 1613\n",
      "final.output.recovery 151\n",
      "final.output.tail_ag 1950\n",
      "final.output.tail_pb 1950\n",
      "final.output.tail_sol 1950\n",
      "final.output.tail_au 1950\n",
      "primary_cleaner.input.depressant 57\n",
      "primary_cleaner.output.concentrate_ag 1626\n",
      "primary_cleaner.output.concentrate_pb 1626\n",
      "primary_cleaner.output.concentrate_sol 1626\n",
      "primary_cleaner.output.concentrate_au 1626\n",
      "primary_cleaner.output.tail_ag 1953\n",
      "primary_cleaner.output.tail_pb 1953\n",
      "primary_cleaner.output.tail_sol 1953\n",
      "primary_cleaner.output.tail_au 1953\n",
      "primary_cleaner.state.floatbank8_a_air 349\n",
      "primary_cleaner.state.floatbank8_b_air 345\n",
      "primary_cleaner.state.floatbank8_c_air 330\n",
      "primary_cleaner.state.floatbank8_d_air 316\n",
      "rougher.input.feed_ag 1528\n",
      "rougher.input.feed_pb 1528\n",
      "rougher.input.feed_sol 1528\n",
      "rougher.input.feed_au 1528\n",
      "rougher.output.concentrate_ag 1953\n",
      "rougher.output.concentrate_pb 1953\n",
      "rougher.output.concentrate_sol 1953\n",
      "rougher.output.concentrate_au 1953\n",
      "rougher.output.recovery 419\n",
      "rougher.output.tail_pb 1944\n",
      "secondary_cleaner.output.tail_ag 2759\n",
      "secondary_cleaner.output.tail_pb 2759\n",
      "secondary_cleaner.output.tail_sol 2759\n",
      "secondary_cleaner.output.tail_au 2759\n",
      "secondary_cleaner.state.floatbank2_a_air 6\n",
      "secondary_cleaner.state.floatbank2_b_air 511\n",
      "secondary_cleaner.state.floatbank3_a_air 505\n",
      "secondary_cleaner.state.floatbank3_b_air 547\n",
      "secondary_cleaner.state.floatbank4_a_air 503\n",
      "secondary_cleaner.state.floatbank4_b_air 504\n",
      "\n",
      " Общее количество признаков, имеющих нулевые значения: 42\n"
     ]
    }
   ],
   "source": [
    "eda('Исходные данные')"
   ]
  },
  {
   "cell_type": "markdown",
   "metadata": {},
   "source": [
    "**Вывод:**\n",
    "\n",
    "- датасет с исходными данными содержит информацию о **22716** объектах, имеющих 87 признаков (как и в обучающей выборке).\n",
    "- имеет **36587** пропущенных значений, что составляет **1.85%** от всего датасета и **60015** ячеек с нулевыми значениями.\n",
    "- количество признаков, имеющих нулевые значения, соответсвует аналогичному показателю обучающей выборки и равно 42.\n",
    "- дубликаты отсутствуют"
   ]
  },
  {
   "cell_type": "markdown",
   "metadata": {},
   "source": [
    "####  1.3 Проверим, что эффективность обогащения рассчитана правильно. Вычислим её на обучающей выборке для признака **rougher.output.recovery**. Найдём **MAE** между нашими расчётами и значением признака. Опишем выводы."
   ]
  },
  {
   "cell_type": "markdown",
   "metadata": {},
   "source": [
    "Известно, что эффективность обогащения рассчитывается по формуле:\n",
    "\n",
    "$$ Recovery = \\frac{C × (F-T)}{F × (C-T)} × 100%$$\n",
    "\n",
    "Где:\n",
    "\n",
    "- **C** — доля золота в концентрате после флотации/очистки;\n",
    "- **F** — доля золота в сырье/концентрате до флотации/очистки;\n",
    "- **T** — доля золота в отвальных хвостах после флотации/очистки.\n",
    "\n",
    "Изучив датасеты, можно прийти к выводу, что:\n",
    "\n",
    "- Значению **C** соответствует признак `rougher.output.concentrate_au`\n",
    "- Значению **F** соответствует признак `rougher.input.feed_au`\n",
    "- Значению **T** соответствует признак `rougher.output.tail_au`\n",
    "- Значению **Recovery** соответствует признак ``rougher.output.recovery``\n",
    "\n",
    "Обучающая выборка содержит все вышеупомянутые признаки.\n",
    "\n",
    "Вычислим значение **Recovery** на обучающих данных и сравним его с фактическим значением данного признака, который уже присутствует в датасете:"
   ]
  },
  {
   "cell_type": "code",
   "execution_count": 8,
   "metadata": {},
   "outputs": [],
   "source": [
    "#создадим временную переменную - полную и независимую копию тренировочного датасета:\n",
    "\n",
    "train_temp = datasets['Обучающая выборка'].copy(deep=True)\n",
    "\n",
    "#присвоим переменным соответствующие значения:\n",
    "C = train_temp['rougher.output.concentrate_au']\n",
    "F = train_temp['rougher.input.feed_au']\n",
    "T = train_temp['rougher.output.tail_au']"
   ]
  },
  {
   "cell_type": "markdown",
   "metadata": {},
   "source": [
    "Рассчитаем новое значение и вычислим метрику **MAE**, предварительно избавившись от пропусков в датасете:"
   ]
  },
  {
   "cell_type": "code",
   "execution_count": 9,
   "metadata": {},
   "outputs": [
    {
     "name": "stdout",
     "output_type": "stream",
     "text": [
      "MAE: 9.555596961987514e-15\n"
     ]
    }
   ],
   "source": [
    "train_temp['rougher.output.recovery.new'] = (C * (F - T)) / (F * (C - T)) * 100\n",
    "\n",
    "train_temp.dropna(inplace=True)\n",
    "print('MAE:', mean_absolute_error(train_temp['rougher.output.recovery'],\n",
    "                                  train_temp['rougher.output.recovery.new']))\n",
    "\n",
    "del train_temp"
   ]
  },
  {
   "cell_type": "markdown",
   "metadata": {},
   "source": [
    "**Вывод:** \n",
    "Значение средней абсолютной ошибки близко к нулю, что может свидетельствовать о том, что значение **Recovery** изначально было рассчитано корректно."
   ]
  },
  {
   "cell_type": "markdown",
   "metadata": {},
   "source": [
    "#### 1.4. Проанализируем признаки, недоступные в тестовой выборке. Посмотрим, что это за параметры и к какому типу они относятся"
   ]
  },
  {
   "cell_type": "markdown",
   "metadata": {},
   "source": [
    "Ранее было замечено, что количество признаков в тестовой выборке отличается от аналогичного значения обучающей выборки в меньшую сторону. Посмотрим, какие именно признаки отсутствуют:"
   ]
  },
  {
   "cell_type": "code",
   "execution_count": 10,
   "metadata": {},
   "outputs": [
    {
     "data": {
      "text/plain": [
       "{'final.output.concentrate_ag',\n",
       " 'final.output.concentrate_au',\n",
       " 'final.output.concentrate_pb',\n",
       " 'final.output.concentrate_sol',\n",
       " 'final.output.recovery',\n",
       " 'final.output.tail_ag',\n",
       " 'final.output.tail_au',\n",
       " 'final.output.tail_pb',\n",
       " 'final.output.tail_sol',\n",
       " 'primary_cleaner.output.concentrate_ag',\n",
       " 'primary_cleaner.output.concentrate_au',\n",
       " 'primary_cleaner.output.concentrate_pb',\n",
       " 'primary_cleaner.output.concentrate_sol',\n",
       " 'primary_cleaner.output.tail_ag',\n",
       " 'primary_cleaner.output.tail_au',\n",
       " 'primary_cleaner.output.tail_pb',\n",
       " 'primary_cleaner.output.tail_sol',\n",
       " 'rougher.calculation.au_pb_ratio',\n",
       " 'rougher.calculation.floatbank10_sulfate_to_au_feed',\n",
       " 'rougher.calculation.floatbank11_sulfate_to_au_feed',\n",
       " 'rougher.calculation.sulfate_to_au_concentrate',\n",
       " 'rougher.output.concentrate_ag',\n",
       " 'rougher.output.concentrate_au',\n",
       " 'rougher.output.concentrate_pb',\n",
       " 'rougher.output.concentrate_sol',\n",
       " 'rougher.output.recovery',\n",
       " 'rougher.output.tail_ag',\n",
       " 'rougher.output.tail_au',\n",
       " 'rougher.output.tail_pb',\n",
       " 'rougher.output.tail_sol',\n",
       " 'secondary_cleaner.output.tail_ag',\n",
       " 'secondary_cleaner.output.tail_au',\n",
       " 'secondary_cleaner.output.tail_pb',\n",
       " 'secondary_cleaner.output.tail_sol'}"
      ]
     },
     "execution_count": 10,
     "metadata": {},
     "output_type": "execute_result"
    }
   ],
   "source": [
    "set(datasets['Обучающая выборка'].columns) - set(datasets['Тестовая выборка'].columns)"
   ]
  },
  {
   "cell_type": "markdown",
   "metadata": {},
   "source": [
    "**Вывод:**\n",
    "Можем заметить, что в тестовой выборке отсутствуют целевые признаки, без которых проверка обученной модели будет невозможна:\n",
    "- **final.output.recovery**\n",
    "- **rougher.output.recovery**\n",
    "\n",
    "Также отсутствует значительное количестно признаков **output** (параметры продукта) и **calculations** (расчётные характеристики). Как следует из описания проекта, из-за многоэтапности процесса обработки сырья, некоторые параметры недоступны, потому что замеряются и/или рассчитываются значительно позже.\n",
    "\n",
    "Предварительный анализ данных показал, что значения данных признаков имеют тип **float64**."
   ]
  },
  {
   "cell_type": "markdown",
   "metadata": {},
   "source": [
    "#### 1.4. Предобработка данных"
   ]
  },
  {
   "cell_type": "markdown",
   "metadata": {},
   "source": [
    "Действия, необходимые в данном шаге:\n",
    "- Создадим новые независимые переменные, содержащие обучающую, тестовую выборку и исходные данные\n",
    "- Добавим в тестовую выборку целевые признаки - **final.output.recovery** и **rougher.output.recovery**\n",
    "- Обработаем пропуски в данных\n",
    "- Заменим тип данных признаков **date** на **datetime**\n",
    "- Так как многие признаки в тестовой выборке отсутствуют, оставим в обучающей выборке лишь те признаки, которые присутствуют в тестовой"
   ]
  },
  {
   "cell_type": "markdown",
   "metadata": {},
   "source": [
    "Создадим новые переменные, содержащие независимые копии изначальных датасетов."
   ]
  },
  {
   "cell_type": "code",
   "execution_count": 11,
   "metadata": {},
   "outputs": [],
   "source": [
    "train_copy = train.copy(deep=True)\n",
    "test_copy = test.copy(deep=True)\n",
    "full_copy = full.copy(deep=True)"
   ]
  },
  {
   "cell_type": "markdown",
   "metadata": {},
   "source": [
    "Заменим тип данных признака **date** на **datetime**:"
   ]
  },
  {
   "cell_type": "code",
   "execution_count": 12,
   "metadata": {},
   "outputs": [],
   "source": [
    "train_copy['date'] = pd.to_datetime(train_copy['date'])\n",
    "test_copy['date'] = pd.to_datetime(test_copy['date'])\n",
    "full_copy['date'] = pd.to_datetime(full_copy['date'])"
   ]
  },
  {
   "cell_type": "markdown",
   "metadata": {},
   "source": [
    "Добавим целевые признаки в тестовую выборку:"
   ]
  },
  {
   "cell_type": "code",
   "execution_count": 13,
   "metadata": {},
   "outputs": [
    {
     "data": {
      "text/html": [
       "<div>\n",
       "<style scoped>\n",
       "    .dataframe tbody tr th:only-of-type {\n",
       "        vertical-align: middle;\n",
       "    }\n",
       "\n",
       "    .dataframe tbody tr th {\n",
       "        vertical-align: top;\n",
       "    }\n",
       "\n",
       "    .dataframe thead th {\n",
       "        text-align: right;\n",
       "    }\n",
       "</style>\n",
       "<table border=\"1\" class=\"dataframe\">\n",
       "  <thead>\n",
       "    <tr style=\"text-align: right;\">\n",
       "      <th></th>\n",
       "      <th>date</th>\n",
       "      <th>rougher.output.recovery</th>\n",
       "    </tr>\n",
       "  </thead>\n",
       "  <tbody>\n",
       "    <tr>\n",
       "      <td>0</td>\n",
       "      <td>2016-09-01 00:59:59</td>\n",
       "      <td>89.993421</td>\n",
       "    </tr>\n",
       "    <tr>\n",
       "      <td>1</td>\n",
       "      <td>2016-09-01 01:59:59</td>\n",
       "      <td>88.089657</td>\n",
       "    </tr>\n",
       "    <tr>\n",
       "      <td>2</td>\n",
       "      <td>2016-09-01 02:59:59</td>\n",
       "      <td>88.412756</td>\n",
       "    </tr>\n",
       "  </tbody>\n",
       "</table>\n",
       "</div>"
      ],
      "text/plain": [
       "                 date  rougher.output.recovery\n",
       "0 2016-09-01 00:59:59                89.993421\n",
       "1 2016-09-01 01:59:59                88.089657\n",
       "2 2016-09-01 02:59:59                88.412756"
      ]
     },
     "execution_count": 13,
     "metadata": {},
     "output_type": "execute_result"
    }
   ],
   "source": [
    "test_copy = test_copy.merge(full_copy[['date', 'rougher.output.recovery', 'final.output.recovery']], \n",
    "                           how = 'left', on = 'date')\n",
    "\n",
    "#проверим\n",
    "test_copy[['date', 'rougher.output.recovery']].head(3)"
   ]
  },
  {
   "cell_type": "markdown",
   "metadata": {},
   "source": [
    "Избавимся от строк с пропусками целевых признаков:"
   ]
  },
  {
   "cell_type": "code",
   "execution_count": 14,
   "metadata": {},
   "outputs": [],
   "source": [
    "#создадим словарь датасетов для избежания дублирования кода:\n",
    "datasets_copy = {'Обучающая выборка': train_copy,\n",
    "                 'Тестовая выборка': test_copy,\n",
    "                 'Исходные данные': full_copy}"
   ]
  },
  {
   "cell_type": "code",
   "execution_count": 15,
   "metadata": {},
   "outputs": [],
   "source": [
    "for key, value in datasets_copy.items():\n",
    "    value = value.dropna(subset=['rougher.output.recovery', 'final.output.recovery'], inplace=True)"
   ]
  },
  {
   "cell_type": "markdown",
   "metadata": {},
   "source": [
    "Заполним пропуски в остальных признаках:"
   ]
  },
  {
   "cell_type": "code",
   "execution_count": 16,
   "metadata": {},
   "outputs": [
    {
     "name": "stdout",
     "output_type": "stream",
     "text": [
      "В датасете \"Обучающая выборка\" пропуски отсутствуют\n",
      "В датасете \"Тестовая выборка\" пропуски отсутствуют\n",
      "В датасете \"Исходные данные\" пропуски отсутствуют\n"
     ]
    }
   ],
   "source": [
    "for key, value in datasets_copy.items():\n",
    "    value.fillna(method='ffill',inplace=True)\n",
    "    if value.isnull().values.any() == 0:\n",
    "        print('В датасете \"{}\" пропуски отсутствуют'.format(key))"
   ]
  },
  {
   "cell_type": "markdown",
   "metadata": {},
   "source": [
    "Удалим из обучающей выборки те признаки, которые отсутствуют в тестовой и проверим, равно ли количество признаков в них после обработки:"
   ]
  },
  {
   "cell_type": "code",
   "execution_count": 17,
   "metadata": {},
   "outputs": [
    {
     "name": "stdout",
     "output_type": "stream",
     "text": [
      "(14149, 55)\n",
      "(5290, 55)\n"
     ]
    }
   ],
   "source": [
    "train_copy = train_copy[list(test_copy.columns)]\n",
    "\n",
    "print(train_copy.shape)\n",
    "print(test_copy.shape)"
   ]
  },
  {
   "cell_type": "markdown",
   "metadata": {},
   "source": [
    "**Вывод по шагу:**\n",
    "- Мы загрузили и изучили данные: выяснили, что в данных присутствует некоторое количество пропусков и нулевых значений и в тестовой выборке количество признаков меньше, чем таковое значение в остальных выборках. Дубликаты отсутствуют.\n",
    "- После расчётов мы убедились, что эффективность обогащения изначально была рассчита корректно.\n",
    "- Провели предобработку данных: пропуски были заменены на последние значения наблюдений.\n",
    "- Также был заменён тип данных признака **date**, что позволило эффективно дополнить тестовую выборку целевыми признаками из исходного датасета, используя признак **date** для индексации.\n",
    "- Т.к. в обучающей выборке количество признаков значительно превышало количество признаков тестовой выборки, мы оставили в обучающей выборке только те признаки, которые присутствуют в проверочной и убедились, что их количество совпадает."
   ]
  },
  {
   "cell_type": "markdown",
   "metadata": {},
   "source": [
    "# 2. Анализ данных"
   ]
  },
  {
   "cell_type": "markdown",
   "metadata": {},
   "source": [
    "#### 2.1 Проанализируем, как меняется концентрация металлов (Au, Ag, Pb) на различных этапах очистки"
   ]
  },
  {
   "cell_type": "markdown",
   "metadata": {},
   "source": [
    "Известно, что в процессе обработки сырья обозначены 4 этапа:\n",
    "- **rougher** — флотация\n",
    "- **primary_cleaner** — первичная очистка\n",
    "- **secondary_cleaner** — вторичная очистка\n",
    "- **final** — финальные характеристики\n",
    "\n",
    "Так как в наименовании признаков у нас присутствует наименование метала в виде индекса, обозначающего химический элемент, мы с лёгкостью можем обратиться к нужному признаку, соответсвующему конкретному элементу.\n",
    "Напишем функцию, принимающую в качестве аргумента наименование металла и возвращающую диаграмму размаха, позволяющую визуально оценить изменения концентрации металлов на каждом из этапов:"
   ]
  },
  {
   "cell_type": "code",
   "execution_count": 18,
   "metadata": {},
   "outputs": [],
   "source": [
    "elems = {'Золото': 'au',\n",
    "         'Серебро': 'ag',\n",
    "         'Свинец': 'pb'}"
   ]
  },
  {
   "cell_type": "code",
   "execution_count": 19,
   "metadata": {},
   "outputs": [],
   "source": [
    "def sns_boxplot(elem):\n",
    "    stages = full_copy[['rougher.input.feed_'+elem, 'rougher.output.concentrate_'+elem,\n",
    "                            'primary_cleaner.output.concentrate_'+elem, 'final.output.concentrate_'+elem]]\n",
    "    \n",
    "    f = plt.figure(figsize=[15,10])\n",
    "    ax = f.add_subplot(111)\n",
    "    plt.title('Концентрация ' + str(elem) + ' на различных этапах очистки', fontsize=14)\n",
    "    plt.xlabel('Этапы')\n",
    "    plt.ylabel('Концентрация')\n",
    "\n",
    "    \n",
    "    sns.boxplot(data=stages, ax=ax)\n",
    "    plt.show()"
   ]
  },
  {
   "cell_type": "markdown",
   "metadata": {},
   "source": [
    "**Концентрация золота:**"
   ]
  },
  {
   "cell_type": "code",
   "execution_count": 20,
   "metadata": {
    "scrolled": false
   },
   "outputs": [
    {
     "data": {
      "image/png": "[encoded data removed]",
      "text/plain": [
       "<Figure size 1080x720 with 1 Axes>"
      ]
     },
     "metadata": {
      "needs_background": "light"
     },
     "output_type": "display_data"
    }
   ],
   "source": [
    "sns_boxplot(elems['Золото'])"
   ]
  },
  {
   "cell_type": "markdown",
   "metadata": {},
   "source": [
    "Можно заметить, что концентрация золота стабильно увеличивается с каждым этапом очистки и это вполне логично, учитывая, что технологический процесс на это и рассчитан.<br>\n",
    "Также можно заметить наличие выбросов на всех этапах обработки."
   ]
  },
  {
   "cell_type": "markdown",
   "metadata": {},
   "source": [
    "**Cеребро:**"
   ]
  },
  {
   "cell_type": "code",
   "execution_count": 21,
   "metadata": {},
   "outputs": [
    {
     "data": {
      "image/png": "[encoded data removed]",
      "text/plain": [
       "<Figure size 1080x720 with 1 Axes>"
      ]
     },
     "metadata": {
      "needs_background": "light"
     },
     "output_type": "display_data"
    }
   ],
   "source": [
    "sns_boxplot(elems['Серебро'])"
   ]
  },
  {
   "cell_type": "markdown",
   "metadata": {},
   "source": [
    "Видно, что после флотации концентрация серебра увеличилась, но на следующих этапах видно значительное снижение концентрации.<br>\n",
    "Выбросы также присутствуют."
   ]
  },
  {
   "cell_type": "markdown",
   "metadata": {},
   "source": [
    "**Свинец:**"
   ]
  },
  {
   "cell_type": "code",
   "execution_count": 22,
   "metadata": {},
   "outputs": [
    {
     "data": {
      "image/png": "[encoded data removed]",
      "text/plain": [
       "<Figure size 1080x720 with 1 Axes>"
      ]
     },
     "metadata": {
      "needs_background": "light"
     },
     "output_type": "display_data"
    }
   ],
   "source": [
    "sns_boxplot(elems['Свинец'])"
   ]
  },
  {
   "cell_type": "markdown",
   "metadata": {},
   "source": [
    "По графику видно, что концентрация свинца до флотации минимальна, после же флотации его концентрация возрастает вплоть до первичной очистки. После вторичной очистки медианное значение не изменилось, но разброс значений стал меньше.\n",
    "\n",
    "Можно сделать вывод, что свинец труднее всего отделить от остальной породы в процессе очистки."
   ]
  },
  {
   "cell_type": "markdown",
   "metadata": {},
   "source": [
    "#### 2.2 Сравним распределения размеров гранул сырья на обучающей и тестовой выборках."
   ]
  },
  {
   "cell_type": "markdown",
   "metadata": {},
   "source": [
    "Если распределения сильно отличаются друг от друга, оценка модели будет неправильной.\n",
    "Известно, что размер гранул отображают 2 признака:\n",
    "- **rougher.input.feed_size** - исходное сырьё\n",
    "- **primary_cleaner.input.feed_size** - первичная очистка\n",
    "\n",
    "На основе данных признаков выведем статистические описания и графики распределения для обучающей и тестовой выборки и сравним их."
   ]
  },
  {
   "cell_type": "code",
   "execution_count": 23,
   "metadata": {},
   "outputs": [
    {
     "data": {
      "text/html": [
       "<div>\n",
       "<style scoped>\n",
       "    .dataframe tbody tr th:only-of-type {\n",
       "        vertical-align: middle;\n",
       "    }\n",
       "\n",
       "    .dataframe tbody tr th {\n",
       "        vertical-align: top;\n",
       "    }\n",
       "\n",
       "    .dataframe thead th {\n",
       "        text-align: right;\n",
       "    }\n",
       "</style>\n",
       "<table border=\"1\" class=\"dataframe\">\n",
       "  <thead>\n",
       "    <tr style=\"text-align: right;\">\n",
       "      <th></th>\n",
       "      <th>Обучающая</th>\n",
       "      <th>Тестовая</th>\n",
       "    </tr>\n",
       "  </thead>\n",
       "  <tbody>\n",
       "    <tr>\n",
       "      <td>count</td>\n",
       "      <td>14149.000000</td>\n",
       "      <td>5290.000000</td>\n",
       "    </tr>\n",
       "    <tr>\n",
       "      <td>mean</td>\n",
       "      <td>60.239856</td>\n",
       "      <td>55.952754</td>\n",
       "    </tr>\n",
       "    <tr>\n",
       "      <td>std</td>\n",
       "      <td>23.005310</td>\n",
       "      <td>19.080334</td>\n",
       "    </tr>\n",
       "    <tr>\n",
       "      <td>min</td>\n",
       "      <td>9.659576</td>\n",
       "      <td>0.046369</td>\n",
       "    </tr>\n",
       "    <tr>\n",
       "      <td>25%</td>\n",
       "      <td>48.966751</td>\n",
       "      <td>43.906504</td>\n",
       "    </tr>\n",
       "    <tr>\n",
       "      <td>50%</td>\n",
       "      <td>55.269784</td>\n",
       "      <td>50.846843</td>\n",
       "    </tr>\n",
       "    <tr>\n",
       "      <td>75%</td>\n",
       "      <td>66.007526</td>\n",
       "      <td>62.451165</td>\n",
       "    </tr>\n",
       "    <tr>\n",
       "      <td>max</td>\n",
       "      <td>484.967466</td>\n",
       "      <td>392.494040</td>\n",
       "    </tr>\n",
       "  </tbody>\n",
       "</table>\n",
       "</div>"
      ],
      "text/plain": [
       "          Обучающая     Тестовая\n",
       "count  14149.000000  5290.000000\n",
       "mean      60.239856    55.952754\n",
       "std       23.005310    19.080334\n",
       "min        9.659576     0.046369\n",
       "25%       48.966751    43.906504\n",
       "50%       55.269784    50.846843\n",
       "75%       66.007526    62.451165\n",
       "max      484.967466   392.494040"
      ]
     },
     "metadata": {},
     "output_type": "display_data"
    },
    {
     "data": {
      "image/png": "[encoded data removed]",
      "text/plain": [
       "<Figure size 1080x720 with 1 Axes>"
      ]
     },
     "metadata": {
      "needs_background": "light"
     },
     "output_type": "display_data"
    }
   ],
   "source": [
    "#объединим информацию из обучающей и тестовой выборки\n",
    "rougher_input = pd.concat([train_copy['rougher.input.feed_size'], \n",
    "                                     test_copy['rougher.input.feed_size']], axis=1) \n",
    "rougher_input.columns = ['Обучающая', 'Тестовая']\n",
    "\n",
    "display(rougher_input.describe())\n",
    "\n",
    "plt.subplots(figsize=(15, 10))\n",
    "rougher_input['Обучающая'].plot.kde()\n",
    "rougher_input['Тестовая'].plot.kde()\n",
    "plt.legend(rougher_input.columns)\n",
    "plt.title('Кривая плотностей распределения размеров гранул на обучающей и тестовой выборках (изначальное сырьё)')\n",
    "\n",
    "plt.show()"
   ]
  },
  {
   "cell_type": "markdown",
   "metadata": {},
   "source": [
    "Медианные значения, как и Q1 и Q3 отличаются незначительно, графики распределения также выглядят схожим образом.\n",
    "Аналогично, сравним показатели по наблюдениям на момент первичной очистки:"
   ]
  },
  {
   "cell_type": "code",
   "execution_count": 24,
   "metadata": {},
   "outputs": [
    {
     "data": {
      "text/html": [
       "<div>\n",
       "<style scoped>\n",
       "    .dataframe tbody tr th:only-of-type {\n",
       "        vertical-align: middle;\n",
       "    }\n",
       "\n",
       "    .dataframe tbody tr th {\n",
       "        vertical-align: top;\n",
       "    }\n",
       "\n",
       "    .dataframe thead th {\n",
       "        text-align: right;\n",
       "    }\n",
       "</style>\n",
       "<table border=\"1\" class=\"dataframe\">\n",
       "  <thead>\n",
       "    <tr style=\"text-align: right;\">\n",
       "      <th></th>\n",
       "      <th>Обучающая</th>\n",
       "      <th>Тестовая</th>\n",
       "    </tr>\n",
       "  </thead>\n",
       "  <tbody>\n",
       "    <tr>\n",
       "      <td>count</td>\n",
       "      <td>14149.000000</td>\n",
       "      <td>5290.000000</td>\n",
       "    </tr>\n",
       "    <tr>\n",
       "      <td>mean</td>\n",
       "      <td>7.322310</td>\n",
       "      <td>7.266339</td>\n",
       "    </tr>\n",
       "    <tr>\n",
       "      <td>std</td>\n",
       "      <td>0.614062</td>\n",
       "      <td>0.610219</td>\n",
       "    </tr>\n",
       "    <tr>\n",
       "      <td>min</td>\n",
       "      <td>1.080000</td>\n",
       "      <td>5.650000</td>\n",
       "    </tr>\n",
       "    <tr>\n",
       "      <td>25%</td>\n",
       "      <td>6.960000</td>\n",
       "      <td>6.890000</td>\n",
       "    </tr>\n",
       "    <tr>\n",
       "      <td>50%</td>\n",
       "      <td>7.290000</td>\n",
       "      <td>7.250000</td>\n",
       "    </tr>\n",
       "    <tr>\n",
       "      <td>75%</td>\n",
       "      <td>7.700000</td>\n",
       "      <td>7.600000</td>\n",
       "    </tr>\n",
       "    <tr>\n",
       "      <td>max</td>\n",
       "      <td>10.470000</td>\n",
       "      <td>15.500000</td>\n",
       "    </tr>\n",
       "  </tbody>\n",
       "</table>\n",
       "</div>"
      ],
      "text/plain": [
       "          Обучающая     Тестовая\n",
       "count  14149.000000  5290.000000\n",
       "mean       7.322310     7.266339\n",
       "std        0.614062     0.610219\n",
       "min        1.080000     5.650000\n",
       "25%        6.960000     6.890000\n",
       "50%        7.290000     7.250000\n",
       "75%        7.700000     7.600000\n",
       "max       10.470000    15.500000"
      ]
     },
     "metadata": {},
     "output_type": "display_data"
    },
    {
     "data": {
      "image/png": "[encoded data removed]",
      "text/plain": [
       "<Figure size 1080x720 with 1 Axes>"
      ]
     },
     "metadata": {
      "needs_background": "light"
     },
     "output_type": "display_data"
    }
   ],
   "source": [
    "primary_cleaner = pd.concat([train_copy['primary_cleaner.input.feed_size'], \n",
    "                                     test_copy['primary_cleaner.input.feed_size']], axis=1) \n",
    "primary_cleaner.columns = ['Обучающая', 'Тестовая']\n",
    "\n",
    "display(primary_cleaner.describe())\n",
    "\n",
    "plt.subplots(figsize=(15, 10))\n",
    "primary_cleaner['Обучающая'].plot.kde()\n",
    "primary_cleaner['Тестовая'].plot.kde()\n",
    "plt.legend(primary_cleaner.columns)\n",
    "plt.title('Кривая плотностей распределений размеров гранул на обучающей и тестовой выборках  (первичная очистка)')\n",
    "\n",
    "plt.show()"
   ]
  },
  {
   "cell_type": "markdown",
   "metadata": {},
   "source": [
    "Можно заметить, что наблюдения на момент первичной очистки отличаются друг от друга ещё меньше. Q1, Q2 и медианные значения практически равны и на графике можно заметить распределение, близкое к нормальному как для обучающей, так и для тестовой выборки.\n",
    "\n",
    "\n",
    "**Вывод:** различия незначительны и не должны помешать работе модели."
   ]
  },
  {
   "cell_type": "markdown",
   "metadata": {},
   "source": [
    "#### 2.3. Исследуем суммарную концентрацию всех веществ на разных стадиях: в сырье, в черновом и финальном концентратах."
   ]
  },
  {
   "cell_type": "markdown",
   "metadata": {},
   "source": [
    "Поищем аномалии в данных и, если они есть, примем решение об их удалении.\n",
    "Судя по описанию данных, в данный момент нас интересуют 4 характеристики, каждой из которых соответвует определённой стадии (**флотация**, **первичная очистка**, **вторичная очистка** и **финальные характеристики**). Им же, в свою очередь, соответствуют следующие признаки:\n",
    "- **rougher.input.feed_{}**\n",
    "- **rougher.output.concentrate_{}**\n",
    "- **primary_cleaner.output.concentrate_{}**\n",
    "- **final.output.concentrate_{}**\n",
    "\n",
    "Создадим новые столбцы в копии исходного датасета, посчитав сумму соответствующих столбцов по каждому из веществ:"
   ]
  },
  {
   "cell_type": "code",
   "execution_count": 25,
   "metadata": {},
   "outputs": [],
   "source": [
    "rougher = 'rougher.input.feed_'\n",
    "rougher_conc = 'rougher.output.concentrate_'\n",
    "primary = 'primary_cleaner.output.concentrate_'\n",
    "final = 'final.output.concentrate_'\n",
    "\n",
    "full_copy['сырьё'] = full_copy[[rougher+'au', rougher+'ag', rougher+'pb']].sum(axis=1)\n",
    "full_copy['черновой концентрат'] = full_copy[[rougher_conc+'au', rougher_conc+'ag', rougher_conc+'pb']].sum(axis=1)\n",
    "full_copy['концентрат после очистки'] = full_copy[[primary+'au', primary+'ag', primary+'pb']].sum(axis=1)\n",
    "full_copy['финальный концентрат'] = full_copy[[final+'au', final+'ag', final+'pb']].sum(axis=1)"
   ]
  },
  {
   "cell_type": "code",
   "execution_count": 26,
   "metadata": {},
   "outputs": [],
   "source": [
    "rougher = 'rougher.input.feed_'\n",
    "rougher_conc = 'rougher.output.concentrate_'\n",
    "primary = 'primary_cleaner.output.concentrate_'\n",
    "final = 'final.output.concentrate_'\n",
    "\n",
    "full_copy['сырьё'] = full_copy[[rougher+'au', rougher+'ag', rougher+'pb', rougher+'sol']].sum(axis=1)\n",
    "full_copy['черновой концентрат'] = full_copy[[rougher_conc+'au', rougher_conc+'ag', rougher_conc+'pb',\n",
    "                                              rougher_conc+'sol']].sum(axis=1)\n",
    "full_copy['концентрат после очистки'] = full_copy[[primary+'au', primary+'ag', primary+'pb', primary+'sol']].sum(axis=1)\n",
    "full_copy['финальный концентрат'] = full_copy[[final+'au', final+'ag', final+'pb', final+'sol']].sum(axis=1)"
   ]
  },
  {
   "cell_type": "code",
   "execution_count": 27,
   "metadata": {},
   "outputs": [
    {
     "data": {
      "text/html": [
       "<div>\n",
       "<style scoped>\n",
       "    .dataframe tbody tr th:only-of-type {\n",
       "        vertical-align: middle;\n",
       "    }\n",
       "\n",
       "    .dataframe tbody tr th {\n",
       "        vertical-align: top;\n",
       "    }\n",
       "\n",
       "    .dataframe thead th {\n",
       "        text-align: right;\n",
       "    }\n",
       "</style>\n",
       "<table border=\"1\" class=\"dataframe\">\n",
       "  <thead>\n",
       "    <tr style=\"text-align: right;\">\n",
       "      <th></th>\n",
       "      <th>сырьё</th>\n",
       "      <th>черновой концентрат</th>\n",
       "      <th>концентрат после очистки</th>\n",
       "      <th>финальный концентрат</th>\n",
       "    </tr>\n",
       "  </thead>\n",
       "  <tbody>\n",
       "    <tr>\n",
       "      <td>count</td>\n",
       "      <td>19439.000000</td>\n",
       "      <td>19439.000000</td>\n",
       "      <td>19439.000000</td>\n",
       "      <td>19439.000000</td>\n",
       "    </tr>\n",
       "    <tr>\n",
       "      <td>mean</td>\n",
       "      <td>57.320789</td>\n",
       "      <td>68.170865</td>\n",
       "      <td>60.764731</td>\n",
       "      <td>68.653624</td>\n",
       "    </tr>\n",
       "    <tr>\n",
       "      <td>std</td>\n",
       "      <td>7.212680</td>\n",
       "      <td>12.491279</td>\n",
       "      <td>10.017271</td>\n",
       "      <td>7.427536</td>\n",
       "    </tr>\n",
       "    <tr>\n",
       "      <td>min</td>\n",
       "      <td>0.040000</td>\n",
       "      <td>0.000000</td>\n",
       "      <td>0.000000</td>\n",
       "      <td>0.000000</td>\n",
       "    </tr>\n",
       "    <tr>\n",
       "      <td>25%</td>\n",
       "      <td>53.557679</td>\n",
       "      <td>66.012495</td>\n",
       "      <td>58.929364</td>\n",
       "      <td>67.932362</td>\n",
       "    </tr>\n",
       "    <tr>\n",
       "      <td>50%</td>\n",
       "      <td>57.594391</td>\n",
       "      <td>70.181495</td>\n",
       "      <td>62.497674</td>\n",
       "      <td>69.598444</td>\n",
       "    </tr>\n",
       "    <tr>\n",
       "      <td>75%</td>\n",
       "      <td>61.953459</td>\n",
       "      <td>74.356904</td>\n",
       "      <td>65.667336</td>\n",
       "      <td>71.368472</td>\n",
       "    </tr>\n",
       "    <tr>\n",
       "      <td>max</td>\n",
       "      <td>76.978947</td>\n",
       "      <td>88.140119</td>\n",
       "      <td>80.749343</td>\n",
       "      <td>80.210644</td>\n",
       "    </tr>\n",
       "  </tbody>\n",
       "</table>\n",
       "</div>"
      ],
      "text/plain": [
       "              сырьё  черновой концентрат  концентрат после очистки  \\\n",
       "count  19439.000000         19439.000000              19439.000000   \n",
       "mean      57.320789            68.170865                 60.764731   \n",
       "std        7.212680            12.491279                 10.017271   \n",
       "min        0.040000             0.000000                  0.000000   \n",
       "25%       53.557679            66.012495                 58.929364   \n",
       "50%       57.594391            70.181495                 62.497674   \n",
       "75%       61.953459            74.356904                 65.667336   \n",
       "max       76.978947            88.140119                 80.749343   \n",
       "\n",
       "       финальный концентрат  \n",
       "count          19439.000000  \n",
       "mean              68.653624  \n",
       "std                7.427536  \n",
       "min                0.000000  \n",
       "25%               67.932362  \n",
       "50%               69.598444  \n",
       "75%               71.368472  \n",
       "max               80.210644  "
      ]
     },
     "metadata": {},
     "output_type": "display_data"
    },
    {
     "data": {
      "image/png": "[encoded data removed]",
      "text/plain": [
       "<Figure size 1080x720 with 1 Axes>"
      ]
     },
     "metadata": {
      "needs_background": "light"
     },
     "output_type": "display_data"
    },
    {
     "data": {
      "image/png": "[encoded data removed]",
      "text/plain": [
       "<Figure size 1080x720 with 1 Axes>"
      ]
     },
     "metadata": {
      "needs_background": "light"
     },
     "output_type": "display_data"
    }
   ],
   "source": [
    "display(full_copy[['сырьё', 'черновой концентрат', 'концентрат после очистки', 'финальный концентрат']].describe())\n",
    "\n",
    "plt.subplots(figsize=(15, 10))\n",
    "full_copy['сырьё'].hist(bins=100, alpha=0.8)\n",
    "full_copy['черновой концентрат'].hist(bins=100, alpha=0.8)\n",
    "full_copy['концентрат после очистки'].hist(bins=100, alpha=0.8)\n",
    "full_copy['финальный концентрат'].hist(bins=100, alpha=0.8)\n",
    "plt.xlabel('Значение')\n",
    "plt.ylabel('Концентрация')\n",
    "plt.legend(['сырьё', 'черновой концентрат', 'концентрат после очистки', 'финальный концентрат'])\n",
    "plt.title('Суммарная концентрация всех веществ на разных стадиях')\n",
    "\n",
    "f = plt.figure(figsize=[15,10])\n",
    "ax = f.add_subplot(111)\n",
    "plt.title('Диаграмма размаха концентрации всех веществ на разных стадиях', fontsize=14)\n",
    "plt.xlabel('Этапы')\n",
    "plt.ylabel('Концентрация')\n",
    "\n",
    "    \n",
    "sns.boxplot(data=full_copy[['сырьё', 'черновой концентрат', 'концентрат после очистки', 'финальный концентрат']], ax=ax)\n",
    "plt.show()"
   ]
  },
  {
   "cell_type": "markdown",
   "metadata": {},
   "source": [
    "Судя по describe() и графикам, в наших данных присутствуют значительные выбросы и, как и было замечено ранее при EDA, присутствуют нулевые значения, но уже по суммам металлов по этапам.\n",
    "От этих выбросов следует избавиться, т.к. они могут ухудшить показатели работы модели.\n",
    "Возьмём доверительный интервал по уровню 98% - это позволит отсечь все выбросы:"
   ]
  },
  {
   "cell_type": "code",
   "execution_count": 28,
   "metadata": {},
   "outputs": [],
   "source": [
    "q_low = full_copy['сырьё'].quantile(0.01)\n",
    "q_hi  = full_copy['сырьё'].quantile(0.99)\n",
    "\n",
    "full_filtered = full_copy[(full_copy['сырьё'] < q_hi) & (full_copy['сырьё'] > q_low)]\n",
    "\n",
    "for stage in ['черновой концентрат', 'концентрат после очистки', 'финальный концентрат']:\n",
    "    q_low = full_filtered[stage].quantile(0.01)\n",
    "    q_hi  = full_filtered[stage].quantile(0.99)\n",
    "    \n",
    "    full_filtered = full_filtered[(full_filtered[stage] < q_hi) & (full_filtered[stage] > q_low)]"
   ]
  },
  {
   "cell_type": "code",
   "execution_count": 29,
   "metadata": {},
   "outputs": [
    {
     "data": {
      "text/html": [
       "<div>\n",
       "<style scoped>\n",
       "    .dataframe tbody tr th:only-of-type {\n",
       "        vertical-align: middle;\n",
       "    }\n",
       "\n",
       "    .dataframe tbody tr th {\n",
       "        vertical-align: top;\n",
       "    }\n",
       "\n",
       "    .dataframe thead th {\n",
       "        text-align: right;\n",
       "    }\n",
       "</style>\n",
       "<table border=\"1\" class=\"dataframe\">\n",
       "  <thead>\n",
       "    <tr style=\"text-align: right;\">\n",
       "      <th></th>\n",
       "      <th>сырьё</th>\n",
       "      <th>черновой концентрат</th>\n",
       "      <th>концентрат после очистки</th>\n",
       "      <th>финальный концентрат</th>\n",
       "    </tr>\n",
       "  </thead>\n",
       "  <tbody>\n",
       "    <tr>\n",
       "      <td>count</td>\n",
       "      <td>17708.000000</td>\n",
       "      <td>17708.000000</td>\n",
       "      <td>17708.000000</td>\n",
       "      <td>17708.000000</td>\n",
       "    </tr>\n",
       "    <tr>\n",
       "      <td>mean</td>\n",
       "      <td>57.467575</td>\n",
       "      <td>69.606060</td>\n",
       "      <td>61.397888</td>\n",
       "      <td>69.295656</td>\n",
       "    </tr>\n",
       "    <tr>\n",
       "      <td>std</td>\n",
       "      <td>6.367820</td>\n",
       "      <td>7.113242</td>\n",
       "      <td>7.092942</td>\n",
       "      <td>3.746473</td>\n",
       "    </tr>\n",
       "    <tr>\n",
       "      <td>min</td>\n",
       "      <td>34.592092</td>\n",
       "      <td>21.912641</td>\n",
       "      <td>0.113023</td>\n",
       "      <td>37.851504</td>\n",
       "    </tr>\n",
       "    <tr>\n",
       "      <td>25%</td>\n",
       "      <td>53.603122</td>\n",
       "      <td>66.340533</td>\n",
       "      <td>59.090632</td>\n",
       "      <td>67.994371</td>\n",
       "    </tr>\n",
       "    <tr>\n",
       "      <td>50%</td>\n",
       "      <td>57.582546</td>\n",
       "      <td>70.270640</td>\n",
       "      <td>62.440872</td>\n",
       "      <td>69.589223</td>\n",
       "    </tr>\n",
       "    <tr>\n",
       "      <td>75%</td>\n",
       "      <td>61.884810</td>\n",
       "      <td>74.300338</td>\n",
       "      <td>65.466626</td>\n",
       "      <td>71.306904</td>\n",
       "    </tr>\n",
       "    <tr>\n",
       "      <td>max</td>\n",
       "      <td>71.320506</td>\n",
       "      <td>83.149153</td>\n",
       "      <td>72.474375</td>\n",
       "      <td>76.450577</td>\n",
       "    </tr>\n",
       "  </tbody>\n",
       "</table>\n",
       "</div>"
      ],
      "text/plain": [
       "              сырьё  черновой концентрат  концентрат после очистки  \\\n",
       "count  17708.000000         17708.000000              17708.000000   \n",
       "mean      57.467575            69.606060                 61.397888   \n",
       "std        6.367820             7.113242                  7.092942   \n",
       "min       34.592092            21.912641                  0.113023   \n",
       "25%       53.603122            66.340533                 59.090632   \n",
       "50%       57.582546            70.270640                 62.440872   \n",
       "75%       61.884810            74.300338                 65.466626   \n",
       "max       71.320506            83.149153                 72.474375   \n",
       "\n",
       "       финальный концентрат  \n",
       "count          17708.000000  \n",
       "mean              69.295656  \n",
       "std                3.746473  \n",
       "min               37.851504  \n",
       "25%               67.994371  \n",
       "50%               69.589223  \n",
       "75%               71.306904  \n",
       "max               76.450577  "
      ]
     },
     "execution_count": 29,
     "metadata": {},
     "output_type": "execute_result"
    }
   ],
   "source": [
    "full_filtered[['сырьё', 'черновой концентрат', 'концентрат после очистки', 'финальный концентрат']].describe()"
   ]
  },
  {
   "cell_type": "markdown",
   "metadata": {},
   "source": [
    "Можно заметить, что после фильтрации исчезли нулевые значения концентрата и показатели стандартного отклонения также улучшились - от аномалий избавились.\n",
    "\n",
    "Перед обучением модели следует также отфильтровать данные объекты из обучающего и тестового датасета:"
   ]
  },
  {
   "cell_type": "code",
   "execution_count": 30,
   "metadata": {},
   "outputs": [],
   "source": [
    "train_filtered = train_copy[train_copy['date'].isin(full_filtered['date'])]\n",
    "test_filtered = test_copy[test_copy['date'].isin(full_filtered['date'])]"
   ]
  },
  {
   "cell_type": "markdown",
   "metadata": {},
   "source": [
    "Проверим, присутствуют ли пропуски и сравним размер выборок:"
   ]
  },
  {
   "cell_type": "code",
   "execution_count": 31,
   "metadata": {},
   "outputs": [
    {
     "name": "stdout",
     "output_type": "stream",
     "text": [
      "0\n",
      "0\n",
      "(12925, 55)\n",
      "(4783, 55)\n"
     ]
    }
   ],
   "source": [
    "print(train_filtered.isna().sum().sum())\n",
    "print(test_filtered.isna().sum().sum())\n",
    "\n",
    "print(train_filtered.shape)\n",
    "print(test_filtered.shape)"
   ]
  },
  {
   "cell_type": "markdown",
   "metadata": {},
   "source": [
    "**Вывод по шагу:**\n",
    "\n",
    "- Мы рассмотрели, как меняется концентрация металлов (Au, Ag, Pb) на различных этапах очистки:\n",
    "    - Концентрация золота стабильно увеличивается с каждым этапом очистки.\n",
    "    - После этапа флотации концентрация серебра увеличилась, но на следующих этапах видно значительное снижение концентрации.\n",
    "    - Концентрация свинца до флотации минимальна, после же флотации его концентрация возрастает вплоть до первичной очистки. После вторичной очистки медианное значение не изменилось, но разброс значений стал меньше.\n",
    "- Мы сравнили распределения размеров гранул сырья на обучающей и тестовой выборках - они отличаются незначительно и данные различия не должны препятствовать обучению модели.\n",
    "- Мы исследовали суммарную концентрацию всех веществ на разных стадиях: в сырье, в черновом и финальном концентратах. Заметили аномальные значения в суммарном распределении - присутствовало большое количество аномальных нулевых значений, от которых мы избавились.\n",
    "\n",
    "Выборки для обучения и проверки готовы и теперь можно приступить к подбору оптимальной модели для обучения."
   ]
  },
  {
   "cell_type": "markdown",
   "metadata": {},
   "source": [
    "# 3. Модель"
   ]
  },
  {
   "cell_type": "markdown",
   "metadata": {},
   "source": [
    "#### 3.1. Напишем функцию для вычисления sMAPE и итоговой sMAPE."
   ]
  },
  {
   "cell_type": "markdown",
   "metadata": {},
   "source": [
    "Напишем функцию для расчета метрики **sMAPE**, которая вычисляется по формуле:\n",
    "$$ sMAPE = \\frac{1}{N} \\sum_{i=1}^{N} \\frac{|y_i - \\hat{y_i}|}{(|y_i| + |\\hat{y_i}|) / 2} × 100% $$\n",
    "\n",
    "Где:\n",
    "\n",
    "- $y_i$ — Значение целевого признака для объекта с порядковым номером i в выборке, на которой измеряется качество\n",
    "- $\\hat{y_i}$ — Значение предсказания для объекта с порядковым номером i, например, в тестовой выборке.\n",
    "- N — Количество объектов в выборке.\n",
    "- $\\sum_{i=1}^{N}$ — Суммирование по всем объектам выборки (i меняется от 1 до N)."
   ]
  },
  {
   "cell_type": "code",
   "execution_count": 32,
   "metadata": {},
   "outputs": [],
   "source": [
    "def smape(target, predictions):\n",
    "    summ = (abs(predictions - target) / ((abs(target) + abs(predictions)) / 2)).sum()\n",
    "    return 1 / len(target) * summ * 100"
   ]
  },
  {
   "cell_type": "markdown",
   "metadata": {},
   "source": [
    "Напишем функцию для расчета метрики **итогового sMAPE**, которая вычисляется по формуле:\n",
    "\n",
    "$$ sMAPE final = 0.25 × sMAPE(rougher) + 0.75 × sMAPE(final)$$"
   ]
  },
  {
   "cell_type": "code",
   "execution_count": 33,
   "metadata": {},
   "outputs": [],
   "source": [
    "def smape_final(smape_rougher, smape_fin):\n",
    "    smape_fin = 0.25 * smape_rougher + 0.75 * smape_fin\n",
    "    return smape_fin"
   ]
  },
  {
   "cell_type": "markdown",
   "metadata": {},
   "source": [
    "#### 3.2. Обучим разные модели и оценим их качество кросс-валидацией. Выберем лучшую модель и проверим её на тестовой выборке. Опишем выводы."
   ]
  },
  {
   "cell_type": "markdown",
   "metadata": {},
   "source": [
    "В качестве моделей протестируем модель Случайный лес и Линейная регрессия. Обучать модели будем на данных по признакам сырья и финального продукта.\n",
    "Для начала, разделим признаки и целевые признаки для обучающей и проверочной выборок:"
   ]
  },
  {
   "cell_type": "code",
   "execution_count": 34,
   "metadata": {},
   "outputs": [
    {
     "name": "stdout",
     "output_type": "stream",
     "text": [
      "Обучающая выборка (12925, 52)\n",
      "Проверочная выборка (4783, 52)\n"
     ]
    }
   ],
   "source": [
    "#обучающая выборка:\n",
    "\n",
    "target_rougher_train = train_filtered['rougher.output.recovery']\n",
    "target_final_train = train_filtered['final.output.recovery']\n",
    "features_train = train_filtered.drop(['date', 'rougher.output.recovery', 'final.output.recovery'], axis=1)\n",
    "\n",
    "#проверочная выборка:\n",
    "\n",
    "target_rougher_test = test_filtered['rougher.output.recovery']\n",
    "target_final_test = test_filtered['final.output.recovery']\n",
    "features_test = test_filtered.drop(['date', 'rougher.output.recovery', 'final.output.recovery'], axis=1)\n",
    "\n",
    "#сравним размерность выборок:\n",
    "\n",
    "print('Обучающая выборка', features_train.shape)\n",
    "print('Проверочная выборка', features_test.shape)"
   ]
  },
  {
   "cell_type": "markdown",
   "metadata": {},
   "source": [
    "Модели показывают лучшие результаты, когда признаки масштабированы - приведём их к единому масштабу:"
   ]
  },
  {
   "cell_type": "code",
   "execution_count": 35,
   "metadata": {},
   "outputs": [],
   "source": [
    "numeric = features_train.columns\n",
    "scaler = StandardScaler()\n",
    "scaler.fit(features_train[numeric])\n",
    "\n",
    "features_train[numeric] = scaler.transform(features_train[numeric])\n",
    "features_test[numeric] = scaler.transform(features_test[numeric])"
   ]
  },
  {
   "cell_type": "markdown",
   "metadata": {},
   "source": [
    "**Обучим модель RandomForestRegressor и проверим её качество с помощью кросс-валидации.**\n",
    "\n",
    "В модуле **cross_val_score** отсутствует возможность изпользования нужной нам метрики \"из коробки\", но есть возможность использовать ранее написанную функцию, используя **make_scorer** из библиотеки метрик sklearn:"
   ]
  },
  {
   "cell_type": "code",
   "execution_count": 36,
   "metadata": {},
   "outputs": [
    {
     "name": "stdout",
     "output_type": "stream",
     "text": [
      "cross_val_score_rougher_tree -7.249891917041284\n",
      "cross_val_score_final_tree -9.667891932991203\n"
     ]
    }
   ],
   "source": [
    "scorer = make_scorer(smape, greater_is_better=False)\n",
    "model = RandomForestRegressor(n_estimators=10, random_state=42)\n",
    "\n",
    "cross_val_score_rougher_tree = cross_val_score(model, features_train, target_rougher_train, cv=5, scoring=scorer).mean()\n",
    "cross_val_score_final_tree = cross_val_score(model,features_train, target_final_train, cv=5, scoring=scorer).mean()\n",
    "\n",
    "print('cross_val_score_rougher_tree', cross_val_score_rougher_tree)\n",
    "print('cross_val_score_final_tree', cross_val_score_final_tree)"
   ]
  },
  {
   "cell_type": "markdown",
   "metadata": {},
   "source": [
    "**Обучим модель LinearRegression и проверим её качество с помощью кросс-валидации:**"
   ]
  },
  {
   "cell_type": "code",
   "execution_count": 37,
   "metadata": {},
   "outputs": [
    {
     "name": "stdout",
     "output_type": "stream",
     "text": [
      "cross_val_score_rougher_lr -7.444362806446895\n",
      "cross_val_score_final_lr -10.615265420433834\n"
     ]
    }
   ],
   "source": [
    "model = LinearRegression()\n",
    "\n",
    "cross_val_score_rougher_lr = cross_val_score(model, features_train, target_rougher_train, cv=5, scoring=scorer).mean()\n",
    "cross_val_score_final_lr = cross_val_score(model,features_train, target_final_train, cv=5, scoring=scorer).mean()\n",
    "\n",
    "print('cross_val_score_rougher_lr', cross_val_score_rougher_lr)\n",
    "print('cross_val_score_final_lr', cross_val_score_final_lr)"
   ]
  },
  {
   "cell_type": "markdown",
   "metadata": {},
   "source": [
    "Вывод: модель \"Случайный лес\" показала лучшие результаты.\n",
    "\n",
    "Попробуем улучшить результаты работы модели с помощью подбора оптимальных гиперпараметров:"
   ]
  },
  {
   "cell_type": "code",
   "execution_count": 38,
   "metadata": {},
   "outputs": [
    {
     "name": "stdout",
     "output_type": "stream",
     "text": [
      "[1, 10, -8.80173378020965]\n",
      "[1, 15, -8.838324220046557]\n",
      "[1, 20, -8.84321635743985]\n",
      "[2, 10, -8.450085946812953]\n",
      "[2, 15, -8.428076371702913]\n",
      "[3, 20, -8.253068093667983]\n",
      "[4, 10, -8.222332241127148]\n",
      "[4, 15, -8.178149537984778]\n",
      "[4, 20, -8.142759942775292]\n",
      "CPU times: user 2min 51s, sys: 135 ms, total: 2min 51s\n",
      "Wall time: 2min 52s\n"
     ]
    }
   ],
   "source": [
    "%%time\n",
    "\n",
    "best_models = []\n",
    "for depth in range(1,5):\n",
    "    for n_estimator in range(10, 21, 5):\n",
    "        \n",
    "        model = RandomForestRegressor(random_state=42, n_estimators=n_estimator, max_depth=depth)\n",
    "        \n",
    "        cross_val_score_rougher_tree = cross_val_score(model, features_train, target_rougher_train, cv=5, scoring=scorer).mean()\n",
    "        cross_val_score_final_tree = cross_val_score(model,features_train, target_final_train, cv=5, scoring=scorer).mean()\n",
    "        \n",
    "        smape_final_result = smape_final(cross_val_score_rougher_tree, cross_val_score_final_tree)\n",
    "        \n",
    "        best_models.append([model.get_params()['max_depth'], model.get_params()['n_estimators'], smape_final_result])\n",
    "        print([model.get_params()['max_depth'], model.get_params()['n_estimators'], smape_final_result])"
   ]
  },
  {
   "cell_type": "markdown",
   "metadata": {},
   "source": [
    "Вывод: наилучшие результаты модель показывает при следующих значениях гиперпараметров:\n",
    "- **max_depth=4**\n",
    "- **n_estimators=10**\n",
    "Модель готова для проверки на тестовой выборке."
   ]
  },
  {
   "cell_type": "markdown",
   "metadata": {},
   "source": [
    "Обучим модель \"Случайный лес\", используя подобранные ранее гиперпараметры:"
   ]
  },
  {
   "cell_type": "code",
   "execution_count": 39,
   "metadata": {},
   "outputs": [
    {
     "name": "stdout",
     "output_type": "stream",
     "text": [
      "Итоговый sMAPE: 7.0263526540506716\n"
     ]
    }
   ],
   "source": [
    "model = RandomForestRegressor(max_depth=4, n_estimators=10, random_state=42)\n",
    "\n",
    "model.fit(features_train, target_rougher_train)\n",
    "predictions_rougher = model.predict(features_test)\n",
    "\n",
    "model.fit(features_train, target_final_train)\n",
    "predictions_final = model.predict(features_test)\n",
    "\n",
    "print('Итоговый sMAPE:', smape_final(smape(target_rougher_test, predictions_rougher),\n",
    "                                     smape(target_final_test, predictions_final)))"
   ]
  },
  {
   "cell_type": "markdown",
   "metadata": {},
   "source": [
    "Ошибка обученной модели составляет 7.02%.<br>\n",
    "Следует проверить модель на адекватность, сравнив результат её работы с константной моделью.<br>\n",
    "В качестве константной модели будем использовать модель **DummyRegressor**, обученную таким образом, что она всегда будет предсказывает только среднее значение целевого признака:"
   ]
  },
  {
   "cell_type": "code",
   "execution_count": 40,
   "metadata": {},
   "outputs": [
    {
     "name": "stdout",
     "output_type": "stream",
     "text": [
      "Итоговый sMAPE константной модели: 7.3809462260354195\n"
     ]
    }
   ],
   "source": [
    "dummy = DummyRegressor(strategy='mean')\n",
    "\n",
    "dummy.fit(features_train, target_rougher_train)\n",
    "predictions_rougher_dummy = dummy.predict(features_test)\n",
    "\n",
    "dummy.fit(features_train, target_final_train)\n",
    "predictions_final_dummy = dummy.predict(features_test)\n",
    "\n",
    "print('Итоговый sMAPE константной модели:', smape_final(smape(target_rougher_test, predictions_rougher_dummy),\n",
    "                                     smape(target_final_test, predictions_final_dummy)))"
   ]
  },
  {
   "cell_type": "markdown",
   "metadata": {},
   "source": [
    "Вывод: модель **RandomForestRegressor** покказала чуть лучшие результаты, чем константная модель **DummyRegressor** (ошибка **7.02%** против **7.38%** у константной модели) и в рамках данного проекта этот результат можно считать приемлемым."
   ]
  },
  {
   "cell_type": "markdown",
   "metadata": {},
   "source": [
    "**Вывод по шагу:**\n",
    "\n",
    "- Сравнили результат работы двух моделей машинного обучения на наших данных, предварительно написав функции для расчёта двух новых метрик (**sMAPE** и итоговый **sMAPE**) и для финального отобрали модель **RandomForestRegressor**, так как она показала лучшие результаты.\n",
    "- Сравнили работу отобранной модели с константной моделью и пришли к выводу, что наша модель показывает результаты лучше, чем у неё."
   ]
  },
  {
   "cell_type": "markdown",
   "metadata": {},
   "source": [
    "### Общий вывод:\n",
    "\n",
    "Целью данного проекта было построение прототипа модели машинного обучения, способного предсказывать коэффициент восстановления золота из золотосодержащей руды.\n",
    "\n",
    "В рамках проекта мы выполнили:\n",
    "\n",
    "- Подготовили данные и убедились, что метрика Recovery была рассчитана корректно.\n",
    "- Проверили данные на целостность и заметили, что в датасетах присутствует некоторое количество пропусков и нулевых значений.\n",
    "- Проанализировали, как меняется концентрация металлов (**Au**, **Ag**, **Pb**) на различных этапах очистки - концентрация серебра постепенно падает с каждым последующим этапом, концентрация золота растёт, а концентрация свинца после первичной очистки практически не изменяется.\n",
    "- Сравнили распределения размеров гранул сырья на обучающей и тестовой выборках и пришли к выводу, что они практически не отличаются друг от друга.\n",
    "- Исследовали суммарную концентрацию всех веществ на разных стадиях: в сырье, в черновом и финальном концентратах. В результате исследования были обнаружены аномальные нулевые значения и большое количество выбросов, которые могли помешать дальнейшему обучению модели. От данных выбросов было решено избавиться.\n",
    "- Написав функцию для расчёта новых метрик (**sMape** и итоговый **sMape**), с помощью кросс-валидации мы подобрали оптимальную модель машинного обучения - **RandomForestRegressor**\n",
    "- Подобрав оптимальные гиперпараметры для отобранной модели, мы сравнили результат её работы с результатом работы константной модели и пришли к выводу, что наша обученная модель показывает лучшие результаты."
   ]
  },
  {
   "cell_type": "code",
   "execution_count": null,
   "metadata": {},
   "outputs": [],
   "source": []
  }
 ],
 "metadata": {
  "kernelspec": {
   "display_name": "Python 3 (ipykernel)",
   "language": "python",
   "name": "python3"
  },
  "language_info": {
   "codemirror_mode": {
    "name": "ipython",
    "version": 3
   },
   "file_extension": ".py",
   "mimetype": "text/x-python",
   "name": "python",
   "nbconvert_exporter": "python",
   "pygments_lexer": "ipython3",
   "version": "3.9.7"
  },
  "toc": {
   "base_numbering": 1,
   "nav_menu": {},
   "number_sections": true,
   "sideBar": true,
   "skip_h1_title": false,
   "title_cell": "Table of Contents",
   "title_sidebar": "Contents",
   "toc_cell": false,
   "toc_position": {},
   "toc_section_display": true,
   "toc_window_display": false
  }
 },
 "nbformat": 4,
 "nbformat_minor": 2
}
