{
 "cells": [
  {
   "cell_type": "markdown",
   "metadata": {},
   "source": [
    "# Описание проекта\n",
    "\n",
    "\n",
    "Вы работаете в интернет-магазине, который продаёт по всему миру компьютерные игры. Из открытых источников доступны исторические данные о продажах игр, оценки пользователей и экспертов, жанры и платформы (например, Xbox или PlayStation). Вам нужно выявить определяющие успешность игры закономерности. Это позволит сделать ставку на потенциально популярный продукт и спланировать рекламные кампании.\n",
    "\n",
    "\n",
    "Перед вами данные до 2016 года. Представим, что сейчас декабрь 2016 г., и вы планируете кампанию на 2017-й. Нужно отработать принцип работы с данными. Неважно, прогнозируете ли вы продажи на 2017 год по данным 2016-го или же 2027-й — по данным 2026 года.\n",
    "\n",
    "\n",
    "В наборе данных попадается аббревиатура ESRB (Entertainment Software Rating Board) — это ассоциация, определяющая возрастной рейтинг компьютерных игр. ESRB оценивает игровой контент и присваивает ему подходящую возрастную категорию, например, «Для взрослых», «Для детей младшего возраста» или «Для подростков».\n",
    "\n",
    "\n",
    "# Описание данных\n",
    "\n",
    "\n",
    "- *Name* — название игры\n",
    "- *Platform* — платформа\n",
    "- *Year_of_Release* — год выпуска\n",
    "- *Genre* — жанр игры\n",
    "- *NA_sales* — продажи в Северной Америке (миллионы проданных копий)\n",
    "- *EU_sales* — продажи в Европе (миллионы проданных копий)\n",
    "- *JP_sales* — продажи в Японии (миллионы проданных копий)\n",
    "- *Other_sales* — продажи в других странах (миллионы проданных копий)\n",
    "- *Critic_Score* — оценка критиков (максимум 100)\n",
    "- *User_Score* — оценка пользователей (максимум 10)\n",
    "- *Rating* — рейтинг от организации ESRB (англ. Entertainment Software Rating Board). Эта ассоциация определяет рейтинг компьютерных игр и присваивает им подходящую возрастную категорию."
   ]
  },
  {
   "cell_type": "markdown",
   "metadata": {},
   "source": [
    "### Шаг 1. Откроем файл с данными и изучите общую информацию"
   ]
  },
  {
   "cell_type": "code",
   "execution_count": 1,
   "metadata": {},
   "outputs": [],
   "source": [
    "import pandas as pd\n",
    "import numpy as np\n",
    "import matplotlib.pyplot as plt\n",
    "from scipy import stats as st\n",
    "\n",
    "df = pd.read_csv('/datasets/games.csv')"
   ]
  },
  {
   "cell_type": "code",
   "execution_count": 2,
   "metadata": {},
   "outputs": [
    {
     "name": "stdout",
     "output_type": "stream",
     "text": [
      "<class 'pandas.core.frame.DataFrame'>\n",
      "RangeIndex: 16715 entries, 0 to 16714\n",
      "Data columns (total 11 columns):\n",
      "Name               16713 non-null object\n",
      "Platform           16715 non-null object\n",
      "Year_of_Release    16446 non-null float64\n",
      "Genre              16713 non-null object\n",
      "NA_sales           16715 non-null float64\n",
      "EU_sales           16715 non-null float64\n",
      "JP_sales           16715 non-null float64\n",
      "Other_sales        16715 non-null float64\n",
      "Critic_Score       8137 non-null float64\n",
      "User_Score         10014 non-null object\n",
      "Rating             9949 non-null object\n",
      "dtypes: float64(6), object(5)\n",
      "memory usage: 1.4+ MB\n"
     ]
    },
    {
     "data": {
      "text/html": [
       "<div>\n",
       "<style scoped>\n",
       "    .dataframe tbody tr th:only-of-type {\n",
       "        vertical-align: middle;\n",
       "    }\n",
       "\n",
       "    .dataframe tbody tr th {\n",
       "        vertical-align: top;\n",
       "    }\n",
       "\n",
       "    .dataframe thead th {\n",
       "        text-align: right;\n",
       "    }\n",
       "</style>\n",
       "<table border=\"1\" class=\"dataframe\">\n",
       "  <thead>\n",
       "    <tr style=\"text-align: right;\">\n",
       "      <th></th>\n",
       "      <th>Name</th>\n",
       "      <th>Platform</th>\n",
       "      <th>Year_of_Release</th>\n",
       "      <th>Genre</th>\n",
       "      <th>NA_sales</th>\n",
       "      <th>EU_sales</th>\n",
       "      <th>JP_sales</th>\n",
       "      <th>Other_sales</th>\n",
       "      <th>Critic_Score</th>\n",
       "      <th>User_Score</th>\n",
       "      <th>Rating</th>\n",
       "    </tr>\n",
       "  </thead>\n",
       "  <tbody>\n",
       "    <tr>\n",
       "      <td>0</td>\n",
       "      <td>Wii Sports</td>\n",
       "      <td>Wii</td>\n",
       "      <td>2006.0</td>\n",
       "      <td>Sports</td>\n",
       "      <td>41.36</td>\n",
       "      <td>28.96</td>\n",
       "      <td>3.77</td>\n",
       "      <td>8.45</td>\n",
       "      <td>76.0</td>\n",
       "      <td>8</td>\n",
       "      <td>E</td>\n",
       "    </tr>\n",
       "    <tr>\n",
       "      <td>1</td>\n",
       "      <td>Super Mario Bros.</td>\n",
       "      <td>NES</td>\n",
       "      <td>1985.0</td>\n",
       "      <td>Platform</td>\n",
       "      <td>29.08</td>\n",
       "      <td>3.58</td>\n",
       "      <td>6.81</td>\n",
       "      <td>0.77</td>\n",
       "      <td>NaN</td>\n",
       "      <td>NaN</td>\n",
       "      <td>NaN</td>\n",
       "    </tr>\n",
       "    <tr>\n",
       "      <td>2</td>\n",
       "      <td>Mario Kart Wii</td>\n",
       "      <td>Wii</td>\n",
       "      <td>2008.0</td>\n",
       "      <td>Racing</td>\n",
       "      <td>15.68</td>\n",
       "      <td>12.76</td>\n",
       "      <td>3.79</td>\n",
       "      <td>3.29</td>\n",
       "      <td>82.0</td>\n",
       "      <td>8.3</td>\n",
       "      <td>E</td>\n",
       "    </tr>\n",
       "    <tr>\n",
       "      <td>3</td>\n",
       "      <td>Wii Sports Resort</td>\n",
       "      <td>Wii</td>\n",
       "      <td>2009.0</td>\n",
       "      <td>Sports</td>\n",
       "      <td>15.61</td>\n",
       "      <td>10.93</td>\n",
       "      <td>3.28</td>\n",
       "      <td>2.95</td>\n",
       "      <td>80.0</td>\n",
       "      <td>8</td>\n",
       "      <td>E</td>\n",
       "    </tr>\n",
       "    <tr>\n",
       "      <td>4</td>\n",
       "      <td>Pokemon Red/Pokemon Blue</td>\n",
       "      <td>GB</td>\n",
       "      <td>1996.0</td>\n",
       "      <td>Role-Playing</td>\n",
       "      <td>11.27</td>\n",
       "      <td>8.89</td>\n",
       "      <td>10.22</td>\n",
       "      <td>1.00</td>\n",
       "      <td>NaN</td>\n",
       "      <td>NaN</td>\n",
       "      <td>NaN</td>\n",
       "    </tr>\n",
       "  </tbody>\n",
       "</table>\n",
       "</div>"
      ],
      "text/plain": [
       "                       Name Platform  Year_of_Release         Genre  NA_sales  \\\n",
       "0                Wii Sports      Wii           2006.0        Sports     41.36   \n",
       "1         Super Mario Bros.      NES           1985.0      Platform     29.08   \n",
       "2            Mario Kart Wii      Wii           2008.0        Racing     15.68   \n",
       "3         Wii Sports Resort      Wii           2009.0        Sports     15.61   \n",
       "4  Pokemon Red/Pokemon Blue       GB           1996.0  Role-Playing     11.27   \n",
       "\n",
       "   EU_sales  JP_sales  Other_sales  Critic_Score User_Score Rating  \n",
       "0     28.96      3.77         8.45          76.0          8      E  \n",
       "1      3.58      6.81         0.77           NaN        NaN    NaN  \n",
       "2     12.76      3.79         3.29          82.0        8.3      E  \n",
       "3     10.93      3.28         2.95          80.0          8      E  \n",
       "4      8.89     10.22         1.00           NaN        NaN    NaN  "
      ]
     },
     "metadata": {},
     "output_type": "display_data"
    },
    {
     "data": {
      "text/plain": [
       "Name                  2\n",
       "Platform              0\n",
       "Year_of_Release     269\n",
       "Genre                 2\n",
       "NA_sales              0\n",
       "EU_sales              0\n",
       "JP_sales              0\n",
       "Other_sales           0\n",
       "Critic_Score       8578\n",
       "User_Score         6701\n",
       "Rating             6766\n",
       "dtype: int64"
      ]
     },
     "metadata": {},
     "output_type": "display_data"
    }
   ],
   "source": [
    "#изучим датасет\n",
    "df.info()\n",
    "display(df.head(5))\n",
    "display(df.isna().sum())"
   ]
  },
  {
   "cell_type": "markdown",
   "metadata": {},
   "source": [
    "Имеем незначительное количество пропусков в столбцах \"Name\", \"Year_of_Release\" и \"Genre\" и достаточно большое количество их же в столбцах с оценками критиков/игроков и рейтингом.\n",
    "\n",
    "\n",
    "Можем предположить, незначительное количество пропусков возникло из-за ошибок выгрузки данных - эти значения в любом случае должны иметь место, т.к. название игры, год выпуска и её жанр - основа описания любой игры.\n",
    "\n",
    "Пропуски в столбцах с рейтингом и оценками - осмелюсь предположить, что большая их часть приходится на ранний промежуток времени, когда игровая индустрия была не так заметна и критериев для оценки как таковых ещё выведено не было. Остальная же их часть - большинство игр, издаваемых на сегодняшний день, являются разработкой независимых студий и нередко избегают внимания критиков.\n",
    "\n",
    "\n",
    "Пропуски в столбце с пользовательским рейтингом - причины могут быть аналогичными. \n",
    "\n",
    "\n",
    "Пропуски в столбце **Year_of_Release** допустимо заменить на аналогичное значение строк соответствующей игры, но с другой платформы, остальные пропуска заполним по мере надобности в процессе выполнения проекта."
   ]
  },
  {
   "cell_type": "code",
   "execution_count": 3,
   "metadata": {},
   "outputs": [
    {
     "data": {
      "text/plain": [
       "0"
      ]
     },
     "execution_count": 3,
     "metadata": {},
     "output_type": "execute_result"
    }
   ],
   "source": [
    "#проверим датасет на наличие полных дубликатов:\n",
    "df.duplicated().sum()"
   ]
  },
  {
   "cell_type": "markdown",
   "metadata": {},
   "source": [
    "Дубликаты отсутствуют."
   ]
  },
  {
   "cell_type": "code",
   "execution_count": 4,
   "metadata": {},
   "outputs": [
    {
     "data": {
      "text/plain": [
       "Action          3369\n",
       "Sports          2348\n",
       "Misc            1750\n",
       "Role-Playing    1498\n",
       "Shooter         1323\n",
       "Adventure       1303\n",
       "Racing          1249\n",
       "Platform         888\n",
       "Simulation       873\n",
       "Fighting         849\n",
       "Strategy         683\n",
       "Puzzle           580\n",
       "Name: Genre, dtype: int64"
      ]
     },
     "metadata": {},
     "output_type": "display_data"
    }
   ],
   "source": [
    "#посмотрим, присутствуют ли повторяющиеся жанры:\n",
    "display(df.Genre.value_counts())"
   ]
  },
  {
   "cell_type": "markdown",
   "metadata": {},
   "source": [
    "Повторяющиеся жанры отсутствуют."
   ]
  },
  {
   "cell_type": "code",
   "execution_count": 5,
   "metadata": {},
   "outputs": [
    {
     "data": {
      "text/plain": [
       "array(['8', nan, '8.3', '8.5', '6.6', '8.4', '8.6', '7.7', '6.3', '7.4',\n",
       "       '8.2', '9', '7.9', '8.1', '8.7', '7.1', '3.4', '5.3', '4.8', '3.2',\n",
       "       '8.9', '6.4', '7.8', '7.5', '2.6', '7.2', '9.2', '7', '7.3', '4.3',\n",
       "       '7.6', '5.7', '5', '9.1', '6.5', 'tbd', '8.8', '6.9', '9.4', '6.8',\n",
       "       '6.1', '6.7', '5.4', '4', '4.9', '4.5', '9.3', '6.2', '4.2', '6',\n",
       "       '3.7', '4.1', '5.8', '5.6', '5.5', '4.4', '4.6', '5.9', '3.9',\n",
       "       '3.1', '2.9', '5.2', '3.3', '4.7', '5.1', '3.5', '2.5', '1.9', '3',\n",
       "       '2.7', '2.2', '2', '9.5', '2.1', '3.6', '2.8', '1.8', '3.8', '0',\n",
       "       '1.6', '9.6', '2.4', '1.7', '1.1', '0.3', '1.5', '0.7', '1.2',\n",
       "       '2.3', '0.5', '1.3', '0.2', '0.6', '1.4', '0.9', '1', '9.7'],\n",
       "      dtype=object)"
      ]
     },
     "metadata": {},
     "output_type": "display_data"
    }
   ],
   "source": [
    "#посмотрим на значения столбца User_Score\n",
    "display(df.User_Score.unique())"
   ]
  },
  {
   "cell_type": "markdown",
   "metadata": {},
   "source": [
    "Присутствуют как и пустые значения, так и аббревиатура **\"TBD\"** (to be determined) - параметр пользовательской оценки не был определён на момент выгрузки данных.\n",
    "\n",
    "Подобное строковое значение нам мешает, т.к. для расчётов данный столбец должен иметь тип **float** - заменим все значения TBD на NaN."
   ]
  },
  {
   "cell_type": "code",
   "execution_count": 6,
   "metadata": {},
   "outputs": [
    {
     "data": {
      "text/plain": [
       "PS2     2161\n",
       "DS      2151\n",
       "PS3     1331\n",
       "Wii     1320\n",
       "X360    1262\n",
       "PSP     1209\n",
       "PS      1197\n",
       "PC       974\n",
       "XB       824\n",
       "GBA      822\n",
       "GC       556\n",
       "3DS      520\n",
       "PSV      430\n",
       "PS4      392\n",
       "N64      319\n",
       "XOne     247\n",
       "SNES     239\n",
       "SAT      173\n",
       "WiiU     147\n",
       "2600     133\n",
       "NES       98\n",
       "GB        98\n",
       "DC        52\n",
       "GEN       29\n",
       "NG        12\n",
       "SCD        6\n",
       "WS         6\n",
       "3DO        3\n",
       "TG16       2\n",
       "PCFX       1\n",
       "GG         1\n",
       "Name: Platform, dtype: int64"
      ]
     },
     "execution_count": 6,
     "metadata": {},
     "output_type": "execute_result"
    }
   ],
   "source": [
    "#выведем список платформ и количество игр с ними\n",
    "df.Platform.value_counts()"
   ]
  },
  {
   "cell_type": "markdown",
   "metadata": {},
   "source": [
    "Сразу видно, что преобладают, в основном, консоли предыдущего поколения (Past-gen) - пик игровой индустрии, по всей видимости, совпадает с интервалом их жизни, но, при этом, консоли нового поколения по количеству игр ещё не успели даже приблизиться к ним, т.к. вышли относительно недавно.\n",
    "Повторяющиеся платформы отсутствуют."
   ]
  },
  {
   "cell_type": "markdown",
   "metadata": {},
   "source": [
    "**Вывод по шагу**:\n",
    "\n",
    "\n",
    "- Для упрощения работы с данным требуется изменить регистр названия столбцов на нижний.\n",
    "- Тип данных столбца **Year_of_Release** изменим на **int**, т.к. подобная точность нам не требуется.\n",
    "- Значения \"tbd\" в столбце User_Score заменим на NaN и изменим тип данного столбца на **float**.\n",
    "- Дубликаты в датасете отсутствуют.\n",
    "- Присутствуют пропуски в некоторых столбцах. Если пропуски в столбце с годом выпуска можно попробовать заменить на год выпуска этой же игры, но с другой платформы, то пропуски в столбцах с рейтингом и оценками игроков/критиков следует пока что оставить и вернуться к из заполнению в дальнейшем при необходимости."
   ]
  },
  {
   "cell_type": "markdown",
   "metadata": {},
   "source": [
    "### Шаг 2. Подготовка данных"
   ]
  },
  {
   "cell_type": "markdown",
   "metadata": {},
   "source": [
    "**Изменим названия столбцов и преобразуем тип данных там, где это необходимо:**"
   ]
  },
  {
   "cell_type": "code",
   "execution_count": 7,
   "metadata": {},
   "outputs": [
    {
     "data": {
      "text/html": [
       "<div>\n",
       "<style scoped>\n",
       "    .dataframe tbody tr th:only-of-type {\n",
       "        vertical-align: middle;\n",
       "    }\n",
       "\n",
       "    .dataframe tbody tr th {\n",
       "        vertical-align: top;\n",
       "    }\n",
       "\n",
       "    .dataframe thead th {\n",
       "        text-align: right;\n",
       "    }\n",
       "</style>\n",
       "<table border=\"1\" class=\"dataframe\">\n",
       "  <thead>\n",
       "    <tr style=\"text-align: right;\">\n",
       "      <th></th>\n",
       "      <th>name</th>\n",
       "      <th>platform</th>\n",
       "      <th>year_of_release</th>\n",
       "      <th>genre</th>\n",
       "      <th>na_sales</th>\n",
       "      <th>eu_sales</th>\n",
       "      <th>jp_sales</th>\n",
       "      <th>other_sales</th>\n",
       "      <th>critic_score</th>\n",
       "      <th>user_score</th>\n",
       "      <th>rating</th>\n",
       "    </tr>\n",
       "  </thead>\n",
       "  <tbody>\n",
       "    <tr>\n",
       "      <td>297</td>\n",
       "      <td>Tekken Tag Tournament</td>\n",
       "      <td>PS2</td>\n",
       "      <td>2000</td>\n",
       "      <td>Fighting</td>\n",
       "      <td>1.68</td>\n",
       "      <td>1.51</td>\n",
       "      <td>0.51</td>\n",
       "      <td>0.35</td>\n",
       "      <td>85.0</td>\n",
       "      <td>8.5</td>\n",
       "      <td>T</td>\n",
       "    </tr>\n",
       "    <tr>\n",
       "      <td>841</td>\n",
       "      <td>NBA Live 2004</td>\n",
       "      <td>PS2</td>\n",
       "      <td>2003</td>\n",
       "      <td>Sports</td>\n",
       "      <td>1.57</td>\n",
       "      <td>0.18</td>\n",
       "      <td>0.00</td>\n",
       "      <td>0.27</td>\n",
       "      <td>86.0</td>\n",
       "      <td>7.7</td>\n",
       "      <td>E</td>\n",
       "    </tr>\n",
       "    <tr>\n",
       "      <td>13146</td>\n",
       "      <td>Medal of Honor: European Assault (weekly JP sa...</td>\n",
       "      <td>PS2</td>\n",
       "      <td>2005</td>\n",
       "      <td>Shooter</td>\n",
       "      <td>0.00</td>\n",
       "      <td>0.00</td>\n",
       "      <td>0.05</td>\n",
       "      <td>0.00</td>\n",
       "      <td>NaN</td>\n",
       "      <td>NaN</td>\n",
       "      <td>NaN</td>\n",
       "    </tr>\n",
       "    <tr>\n",
       "      <td>12206</td>\n",
       "      <td>Tropix</td>\n",
       "      <td>DS</td>\n",
       "      <td>2008</td>\n",
       "      <td>Puzzle</td>\n",
       "      <td>0.06</td>\n",
       "      <td>0.00</td>\n",
       "      <td>0.00</td>\n",
       "      <td>0.00</td>\n",
       "      <td>NaN</td>\n",
       "      <td>NaN</td>\n",
       "      <td>NaN</td>\n",
       "    </tr>\n",
       "    <tr>\n",
       "      <td>6154</td>\n",
       "      <td>Syphon Filter: Dark Mirror</td>\n",
       "      <td>PS2</td>\n",
       "      <td>2007</td>\n",
       "      <td>Shooter</td>\n",
       "      <td>0.14</td>\n",
       "      <td>0.11</td>\n",
       "      <td>0.00</td>\n",
       "      <td>0.04</td>\n",
       "      <td>70.0</td>\n",
       "      <td>7.8</td>\n",
       "      <td>T</td>\n",
       "    </tr>\n",
       "  </tbody>\n",
       "</table>\n",
       "</div>"
      ],
      "text/plain": [
       "                                                    name platform  \\\n",
       "297                                Tekken Tag Tournament      PS2   \n",
       "841                                        NBA Live 2004      PS2   \n",
       "13146  Medal of Honor: European Assault (weekly JP sa...      PS2   \n",
       "12206                                             Tropix       DS   \n",
       "6154                          Syphon Filter: Dark Mirror      PS2   \n",
       "\n",
       "       year_of_release     genre  na_sales  eu_sales  jp_sales  other_sales  \\\n",
       "297               2000  Fighting      1.68      1.51      0.51         0.35   \n",
       "841               2003    Sports      1.57      0.18      0.00         0.27   \n",
       "13146             2005   Shooter      0.00      0.00      0.05         0.00   \n",
       "12206             2008    Puzzle      0.06      0.00      0.00         0.00   \n",
       "6154              2007   Shooter      0.14      0.11      0.00         0.04   \n",
       "\n",
       "       critic_score user_score rating  \n",
       "297            85.0        8.5      T  \n",
       "841            86.0        7.7      E  \n",
       "13146           NaN        NaN    NaN  \n",
       "12206           NaN        NaN    NaN  \n",
       "6154           70.0        7.8      T  "
      ]
     },
     "metadata": {},
     "output_type": "display_data"
    }
   ],
   "source": [
    "#приведём названия столбцов к нижнему регистру:\n",
    "df.columns = df.columns.str.lower()\n",
    "\n",
    "#приведём значения столбца с годом выпуска к типу Int\n",
    "#альтернатива astype(), игнорирующая ошибки \"Cannot convert NA to integer\"\n",
    "df.year_of_release = pd.array(df.year_of_release, dtype=\"Int64\")\n",
    "\n",
    "#проверим:\n",
    "display(df.sample(5))"
   ]
  },
  {
   "cell_type": "markdown",
   "metadata": {},
   "source": [
    "Привели названия столбцов к нижнему регистру для упрощения работы с ними, изменили тип данных столбца с годом выпуска игры на int."
   ]
  },
  {
   "cell_type": "markdown",
   "metadata": {},
   "source": [
    "**Обработка пропусков**:"
   ]
  },
  {
   "cell_type": "markdown",
   "metadata": {},
   "source": [
    "Посмотрим, есть ли у нас возможность заполнить пропуски в столбце с годом выпуска игры, используя аналогичное значение из строки с этой же игрой, но с другой платформы:"
   ]
  },
  {
   "cell_type": "code",
   "execution_count": 8,
   "metadata": {},
   "outputs": [
    {
     "name": "stdout",
     "output_type": "stream",
     "text": [
      "Заполнено пустых значений: 123 из 269\n"
     ]
    }
   ],
   "source": [
    "old_isna = df.year_of_release.isna().sum()\n",
    "\n",
    "for name in df.query('year_of_release.isna()').name.unique():\n",
    "    #df.query('name == @name').year_of_release = df.query('name == @name').year_of_release.max()\n",
    "    df.loc[df['name'] == name, 'year_of_release'] =  df.loc[df['name'] == name, 'year_of_release'].max()\n",
    "\n",
    "print('Заполнено пустых значений:', old_isna - df.year_of_release.isna().sum(), 'из', old_isna)"
   ]
  },
  {
   "cell_type": "markdown",
   "metadata": {},
   "source": [
    "Таким образом, была заполнена практически половина пропусков в данном столбце, но это лучше, чем ничего."
   ]
  },
  {
   "cell_type": "markdown",
   "metadata": {},
   "source": [
    "Заменим значения \"tbd\" в столбце **user_score** на NaN и изменим тип данных на **float**:"
   ]
  },
  {
   "cell_type": "code",
   "execution_count": 9,
   "metadata": {},
   "outputs": [
    {
     "name": "stdout",
     "output_type": "stream",
     "text": [
      "0.0\n"
     ]
    }
   ],
   "source": [
    "df.user_score = df.user_score.replace('tbd', np.nan)\n",
    "\n",
    "df.user_score = df.user_score.astype(float)\n",
    "#проверим:\n",
    "print(df.query('user_score == \"tbd\"').user_score.sum())"
   ]
  },
  {
   "cell_type": "markdown",
   "metadata": {},
   "source": [
    "Обработали пропуски в столбце с годом выпуска (**year_of_release**) там, где это было возможно и заменили значения \"tbd\" на NaN в столбце **user_score**, также изменив и тип данных."
   ]
  },
  {
   "cell_type": "markdown",
   "metadata": {},
   "source": [
    "**Посчитаем суммарные продажи во всех регионах и запишем их в отдельный столбец:**"
   ]
  },
  {
   "cell_type": "code",
   "execution_count": 10,
   "metadata": {},
   "outputs": [
    {
     "data": {
      "text/html": [
       "<div>\n",
       "<style scoped>\n",
       "    .dataframe tbody tr th:only-of-type {\n",
       "        vertical-align: middle;\n",
       "    }\n",
       "\n",
       "    .dataframe tbody tr th {\n",
       "        vertical-align: top;\n",
       "    }\n",
       "\n",
       "    .dataframe thead th {\n",
       "        text-align: right;\n",
       "    }\n",
       "</style>\n",
       "<table border=\"1\" class=\"dataframe\">\n",
       "  <thead>\n",
       "    <tr style=\"text-align: right;\">\n",
       "      <th></th>\n",
       "      <th>name</th>\n",
       "      <th>platform</th>\n",
       "      <th>year_of_release</th>\n",
       "      <th>genre</th>\n",
       "      <th>na_sales</th>\n",
       "      <th>eu_sales</th>\n",
       "      <th>jp_sales</th>\n",
       "      <th>other_sales</th>\n",
       "      <th>critic_score</th>\n",
       "      <th>user_score</th>\n",
       "      <th>rating</th>\n",
       "      <th>total_sales</th>\n",
       "    </tr>\n",
       "  </thead>\n",
       "  <tbody>\n",
       "    <tr>\n",
       "      <td>4724</td>\n",
       "      <td>NBA 2K11</td>\n",
       "      <td>PS2</td>\n",
       "      <td>2010</td>\n",
       "      <td>Action</td>\n",
       "      <td>0.34</td>\n",
       "      <td>0.01</td>\n",
       "      <td>0.00</td>\n",
       "      <td>0.06</td>\n",
       "      <td>NaN</td>\n",
       "      <td>NaN</td>\n",
       "      <td>E</td>\n",
       "      <td>0.41</td>\n",
       "    </tr>\n",
       "    <tr>\n",
       "      <td>3737</td>\n",
       "      <td>War of the Monsters</td>\n",
       "      <td>PS2</td>\n",
       "      <td>2003</td>\n",
       "      <td>Fighting</td>\n",
       "      <td>0.26</td>\n",
       "      <td>0.20</td>\n",
       "      <td>0.00</td>\n",
       "      <td>0.07</td>\n",
       "      <td>80.0</td>\n",
       "      <td>8.9</td>\n",
       "      <td>T</td>\n",
       "      <td>0.53</td>\n",
       "    </tr>\n",
       "    <tr>\n",
       "      <td>3027</td>\n",
       "      <td>Zaidan Houjin Nippon Kanji Nouryoku Kentei Kyo...</td>\n",
       "      <td>DS</td>\n",
       "      <td>2006</td>\n",
       "      <td>Misc</td>\n",
       "      <td>0.00</td>\n",
       "      <td>0.00</td>\n",
       "      <td>0.66</td>\n",
       "      <td>0.00</td>\n",
       "      <td>NaN</td>\n",
       "      <td>NaN</td>\n",
       "      <td>NaN</td>\n",
       "      <td>0.66</td>\n",
       "    </tr>\n",
       "    <tr>\n",
       "      <td>466</td>\n",
       "      <td>Tom Clancy's Splinter Cell</td>\n",
       "      <td>XB</td>\n",
       "      <td>2002</td>\n",
       "      <td>Action</td>\n",
       "      <td>1.85</td>\n",
       "      <td>1.04</td>\n",
       "      <td>0.00</td>\n",
       "      <td>0.13</td>\n",
       "      <td>93.0</td>\n",
       "      <td>8.5</td>\n",
       "      <td>T</td>\n",
       "      <td>3.02</td>\n",
       "    </tr>\n",
       "    <tr>\n",
       "      <td>5211</td>\n",
       "      <td>Valkyrie Profile: Lenneth</td>\n",
       "      <td>PSP</td>\n",
       "      <td>2006</td>\n",
       "      <td>Role-Playing</td>\n",
       "      <td>0.17</td>\n",
       "      <td>0.01</td>\n",
       "      <td>0.16</td>\n",
       "      <td>0.02</td>\n",
       "      <td>80.0</td>\n",
       "      <td>8.4</td>\n",
       "      <td>T</td>\n",
       "      <td>0.36</td>\n",
       "    </tr>\n",
       "  </tbody>\n",
       "</table>\n",
       "</div>"
      ],
      "text/plain": [
       "                                                   name platform  \\\n",
       "4724                                           NBA 2K11      PS2   \n",
       "3737                                War of the Monsters      PS2   \n",
       "3027  Zaidan Houjin Nippon Kanji Nouryoku Kentei Kyo...       DS   \n",
       "466                          Tom Clancy's Splinter Cell       XB   \n",
       "5211                          Valkyrie Profile: Lenneth      PSP   \n",
       "\n",
       "      year_of_release         genre  na_sales  eu_sales  jp_sales  \\\n",
       "4724             2010        Action      0.34      0.01      0.00   \n",
       "3737             2003      Fighting      0.26      0.20      0.00   \n",
       "3027             2006          Misc      0.00      0.00      0.66   \n",
       "466              2002        Action      1.85      1.04      0.00   \n",
       "5211             2006  Role-Playing      0.17      0.01      0.16   \n",
       "\n",
       "      other_sales  critic_score  user_score rating  total_sales  \n",
       "4724         0.06           NaN         NaN      E         0.41  \n",
       "3737         0.07          80.0         8.9      T         0.53  \n",
       "3027         0.00           NaN         NaN    NaN         0.66  \n",
       "466          0.13          93.0         8.5      T         3.02  \n",
       "5211         0.02          80.0         8.4      T         0.36  "
      ]
     },
     "execution_count": 10,
     "metadata": {},
     "output_type": "execute_result"
    }
   ],
   "source": [
    "df['total_sales'] = df.iloc[:, 4: 8].sum(axis=1)\n",
    "df.sample(5)"
   ]
  },
  {
   "cell_type": "markdown",
   "metadata": {},
   "source": [
    "**Вывод по шагу:**"
   ]
  },
  {
   "cell_type": "markdown",
   "metadata": {},
   "source": [
    "Были переименованы столбцы и изменён тип данных в тех столбцах, в которых это было необходимо.\n",
    "\n",
    "Избавились от части пропусков в столбце с годом выпуска - использовали строки с изданием этой же игры на других платформах, у которых в данном столбце пропусков не было.\n",
    "\n",
    "Посчитали суммарные продажи по всем регионам и добавили значения в новый столбец.\n",
    "\n",
    "Пропуски в столбцах с оценками пользователей/критиков пока что оставим без изменений, т.к. природа данных пропусков нам известна - данные игры не были оценены. Пропуски в рейтинге ESRB, по всей видимости, обусловлены тем, что возрастной рейтинг игре выдан не был."
   ]
  },
  {
   "cell_type": "markdown",
   "metadata": {},
   "source": [
    "###  Шаг 3. Исследовательский анализ данных"
   ]
  },
  {
   "cell_type": "markdown",
   "metadata": {},
   "source": [
    "**Посмотрим, сколько игр выпускалось за разные годы и важны ли данные за все периоды:**"
   ]
  },
  {
   "cell_type": "code",
   "execution_count": 11,
   "metadata": {},
   "outputs": [
    {
     "data": {
      "image/png": "[encoded data removed]",
      "text/plain": [
       "<Figure size 432x288 with 1 Axes>"
      ]
     },
     "metadata": {
      "needs_background": "light"
     },
     "output_type": "display_data"
    }
   ],
   "source": [
    "#построем график зависимости количества выпущенных игр от года выпуска\n",
    "ax = pd.pivot_table(df, index='year_of_release', values='name', aggfunc='count').plot(legend=False, grid=True)\n",
    "ax.set_xlabel(\"Год выпуска\")\n",
    "ax.set_ylabel('Кол-во выпущенных игр')\n",
    "ax.set_title('Количество выпущенных игр за разные годы')\n",
    "plt.show()"
   ]
  },
  {
   "cell_type": "markdown",
   "metadata": {},
   "source": [
    "**Вывод:** можно заметить значительный рост количества выпущенных игр с 1990 года до 2008, после чего последовало падение количества, которое продолжается и на данный момент. Подобное поведение индустрии может быть связано с развитием мобильного гейминга и превращением мобильных устройств, таких как смартфон, в отдельную платформу, которая в нашей выгрузке данных не учитывается, но занимает огромную нишу индустрии видеоигр в целом.\n",
    "\n",
    "\n",
    "Данные за все периоды для нас не важны. В идеале, нам бы могло хватить периода с момента выпуска актуального поколения консолей по текущий момент, либо аналогичный период, но с момента выпуска консолей предыдущего поколения.\n",
    "\n",
    "Ответы на дальнейшие вопросы помогут нам выбрать актуальный период для анализа."
   ]
  },
  {
   "cell_type": "markdown",
   "metadata": {},
   "source": [
    "**Выберем платформы с наибольшими суммарными продажами, построим распределения:**"
   ]
  },
  {
   "cell_type": "code",
   "execution_count": 12,
   "metadata": {},
   "outputs": [
    {
     "data": {
      "image/png": "[encoded data removed]",
      "text/plain": [
       "<Figure size 432x288 with 1 Axes>"
      ]
     },
     "metadata": {
      "needs_background": "light"
     },
     "output_type": "display_data"
    },
    {
     "data": {
      "text/html": [
       "<div>\n",
       "<style scoped>\n",
       "    .dataframe tbody tr th:only-of-type {\n",
       "        vertical-align: middle;\n",
       "    }\n",
       "\n",
       "    .dataframe tbody tr th {\n",
       "        vertical-align: top;\n",
       "    }\n",
       "\n",
       "    .dataframe thead th {\n",
       "        text-align: right;\n",
       "    }\n",
       "</style>\n",
       "<table border=\"1\" class=\"dataframe\">\n",
       "  <thead>\n",
       "    <tr style=\"text-align: right;\">\n",
       "      <th></th>\n",
       "      <th>total_sales</th>\n",
       "    </tr>\n",
       "    <tr>\n",
       "      <th>platform</th>\n",
       "      <th></th>\n",
       "    </tr>\n",
       "  </thead>\n",
       "  <tbody>\n",
       "    <tr>\n",
       "      <td>PS2</td>\n",
       "      <td>1255.77</td>\n",
       "    </tr>\n",
       "    <tr>\n",
       "      <td>X360</td>\n",
       "      <td>971.42</td>\n",
       "    </tr>\n",
       "    <tr>\n",
       "      <td>PS3</td>\n",
       "      <td>939.65</td>\n",
       "    </tr>\n",
       "    <tr>\n",
       "      <td>Wii</td>\n",
       "      <td>907.51</td>\n",
       "    </tr>\n",
       "    <tr>\n",
       "      <td>DS</td>\n",
       "      <td>806.12</td>\n",
       "    </tr>\n",
       "  </tbody>\n",
       "</table>\n",
       "</div>"
      ],
      "text/plain": [
       "          total_sales\n",
       "platform             \n",
       "PS2           1255.77\n",
       "X360           971.42\n",
       "PS3            939.65\n",
       "Wii            907.51\n",
       "DS             806.12"
      ]
     },
     "execution_count": 12,
     "metadata": {},
     "output_type": "execute_result"
    }
   ],
   "source": [
    "#построим график распределения по всем платформам за весь период\n",
    "ax = pd.pivot_table(df, index='platform',\n",
    "                    values='total_sales', aggfunc='sum').sort_values(by='total_sales', ascending='False').plot.bar(legend=False)\n",
    "ax.set_xlabel(\"Платформа\")\n",
    "ax.set_ylabel(\"Суммарные продажи игр\")\n",
    "ax.set_title(\"Суммарные продажи за весь период по всем платформам\")\n",
    "plt.show()\n",
    "\n",
    "#выведем топ-5 самых успешных платформ за весь период\n",
    "pd.pivot_table(df, index='platform', values='total_sales', aggfunc='sum').sort_values('total_sales',\n",
    "                                                                                      ascending=False).head(5)"
   ]
  },
  {
   "cell_type": "markdown",
   "metadata": {},
   "source": [
    "**Вывод:** \n",
    "\n",
    "Платформы, с наибольшим количеством проданных копий игр для них:\n",
    "\n",
    "- PlayStation 2\n",
    "- Xbox 360\n",
    "- PlayStation 3\n",
    "- Nintendo Wii\n",
    "- Nintendo DS\n",
    "\n",
    "Как мы можем заметить, на момент выгрузки данных наибольшее количество игр было продано для консолей предыдущего поколения.\n",
    "\n",
    "Это обусловлено тем, что на момент выгрузки данных консоли текущего поколения не могут похвастаться большим количество выпущенных тайтлов, т.к. их продажа началась относительно недавно, в то время как старые консоли уже около 10 лет присутствуют на рынке."
   ]
  },
  {
   "cell_type": "markdown",
   "metadata": {},
   "source": [
    "**Посмотрим, как менялись продажи по платформам и ответим на вопрос, за какой характерных срок появляются новые платформы, а старые теряют актуальность.**\n",
    "\n",
    "Считаю, что анализ будет более наглядным, если мы возьмём промежуток с момента выхода консолей седьмого поколения (2005 год - выход Xbox 360) по текущий момент. Это позволит нам увидеть динамику, с которой предыдущее поколение игровых консолей сменялось на текущее."
   ]
  },
  {
   "cell_type": "code",
   "execution_count": 13,
   "metadata": {},
   "outputs": [
    {
     "data": {
      "text/html": [
       "<div>\n",
       "<style scoped>\n",
       "    .dataframe tbody tr th:only-of-type {\n",
       "        vertical-align: middle;\n",
       "    }\n",
       "\n",
       "    .dataframe tbody tr th {\n",
       "        vertical-align: top;\n",
       "    }\n",
       "\n",
       "    .dataframe thead th {\n",
       "        text-align: right;\n",
       "    }\n",
       "</style>\n",
       "<table border=\"1\" class=\"dataframe\">\n",
       "  <thead>\n",
       "    <tr style=\"text-align: right;\">\n",
       "      <th></th>\n",
       "      <th>total_sales</th>\n",
       "    </tr>\n",
       "    <tr>\n",
       "      <th>platform</th>\n",
       "      <th></th>\n",
       "    </tr>\n",
       "  </thead>\n",
       "  <tbody>\n",
       "    <tr>\n",
       "      <td>X360</td>\n",
       "      <td>966.61</td>\n",
       "    </tr>\n",
       "    <tr>\n",
       "      <td>PS3</td>\n",
       "      <td>935.19</td>\n",
       "    </tr>\n",
       "    <tr>\n",
       "      <td>Wii</td>\n",
       "      <td>903.31</td>\n",
       "    </tr>\n",
       "    <tr>\n",
       "      <td>DS</td>\n",
       "      <td>786.99</td>\n",
       "    </tr>\n",
       "    <tr>\n",
       "      <td>PS2</td>\n",
       "      <td>428.34</td>\n",
       "    </tr>\n",
       "    <tr>\n",
       "      <td>PS4</td>\n",
       "      <td>314.14</td>\n",
       "    </tr>\n",
       "    <tr>\n",
       "      <td>PSP</td>\n",
       "      <td>286.51</td>\n",
       "    </tr>\n",
       "    <tr>\n",
       "      <td>3DS</td>\n",
       "      <td>258.53</td>\n",
       "    </tr>\n",
       "    <tr>\n",
       "      <td>PC</td>\n",
       "      <td>170.84</td>\n",
       "    </tr>\n",
       "    <tr>\n",
       "      <td>XOne</td>\n",
       "      <td>159.32</td>\n",
       "    </tr>\n",
       "    <tr>\n",
       "      <td>WiiU</td>\n",
       "      <td>82.19</td>\n",
       "    </tr>\n",
       "    <tr>\n",
       "      <td>XB</td>\n",
       "      <td>59.86</td>\n",
       "    </tr>\n",
       "    <tr>\n",
       "      <td>PSV</td>\n",
       "      <td>53.81</td>\n",
       "    </tr>\n",
       "    <tr>\n",
       "      <td>GBA</td>\n",
       "      <td>43.39</td>\n",
       "    </tr>\n",
       "    <tr>\n",
       "      <td>GC</td>\n",
       "      <td>39.73</td>\n",
       "    </tr>\n",
       "    <tr>\n",
       "      <td>GEN</td>\n",
       "      <td>4.33</td>\n",
       "    </tr>\n",
       "    <tr>\n",
       "      <td>N64</td>\n",
       "      <td>2.56</td>\n",
       "    </tr>\n",
       "    <tr>\n",
       "      <td>PS</td>\n",
       "      <td>1.25</td>\n",
       "    </tr>\n",
       "    <tr>\n",
       "      <td>GB</td>\n",
       "      <td>1.18</td>\n",
       "    </tr>\n",
       "    <tr>\n",
       "      <td>DC</td>\n",
       "      <td>0.06</td>\n",
       "    </tr>\n",
       "  </tbody>\n",
       "</table>\n",
       "</div>"
      ],
      "text/plain": [
       "          total_sales\n",
       "platform             \n",
       "X360           966.61\n",
       "PS3            935.19\n",
       "Wii            903.31\n",
       "DS             786.99\n",
       "PS2            428.34\n",
       "PS4            314.14\n",
       "PSP            286.51\n",
       "3DS            258.53\n",
       "PC             170.84\n",
       "XOne           159.32\n",
       "WiiU            82.19\n",
       "XB              59.86\n",
       "PSV             53.81\n",
       "GBA             43.39\n",
       "GC              39.73\n",
       "GEN              4.33\n",
       "N64              2.56\n",
       "PS               1.25\n",
       "GB               1.18\n",
       "DC               0.06"
      ]
     },
     "metadata": {},
     "output_type": "display_data"
    }
   ],
   "source": [
    "#сводная таблица платформа/продажи с 2005 года:\n",
    "top_since_2005 = pd.pivot_table(df.query('year_of_release >= 2005'),\n",
    "               index='platform', values='total_sales', aggfunc='sum').sort_values('total_sales', ascending=False)\n",
    "display(top_since_2005)"
   ]
  },
  {
   "cell_type": "markdown",
   "metadata": {},
   "source": [
    "Как мы можем видеть, в топ-10 входят консоли седьмого поколения, не считая PlayStation 2, которая оказалась достаточно долгоиграющей разработкой. При этом WiiU от Nintendo, хоть и является консолью восьмого поколения, значительно отстаёт по продажам от остальных консолей.\n",
    "\n",
    "Для наглядности, выведем динамики пар консолей предыдущего поколения и текущего от одного производителя - Microsoft, Sony и Nintendo за один и тот же промежуток времени, который мы ранее выбрали как актуальный (2005-2016 год):"
   ]
  },
  {
   "cell_type": "code",
   "execution_count": 14,
   "metadata": {},
   "outputs": [
    {
     "data": {
      "image/png": "[encoded data removed]",
      "text/plain": [
       "<Figure size 432x288 with 1 Axes>"
      ]
     },
     "metadata": {
      "needs_background": "light"
     },
     "output_type": "display_data"
    },
    {
     "data": {
      "image/png": "[encoded data removed]",
      "text/plain": [
       "<Figure size 432x288 with 1 Axes>"
      ]
     },
     "metadata": {
      "needs_background": "light"
     },
     "output_type": "display_data"
    },
    {
     "data": {
      "image/png": "[encoded data removed]",
      "text/plain": [
       "<Figure size 432x288 with 1 Axes>"
      ]
     },
     "metadata": {
      "needs_background": "light"
     },
     "output_type": "display_data"
    },
    {
     "data": {
      "image/png": "[encoded data removed]",
      "text/plain": [
       "<Figure size 432x288 with 1 Axes>"
      ]
     },
     "metadata": {
      "needs_background": "light"
     },
     "output_type": "display_data"
    }
   ],
   "source": [
    "platform_dict = {'Microsoft': ['X360', 'XOne'], 'Sony': ['PS3', 'PS4'],\n",
    "                 'Nintendo': ['Wii', 'WiiU'], 'Nintendo (portable)': ['DS', '3DS']}\n",
    "\n",
    "for key, value in platform_dict.items():\n",
    "    fig, ax = plt.subplots()\n",
    "\n",
    "    for platform in value:\n",
    "        plt.plot(pd.pivot_table(df.query('year_of_release >= 2005 & platform == @platform'),\n",
    "                                index='year_of_release', values='total_sales', aggfunc='sum'))\n",
    "    ax.legend(value)\n",
    "    ax.set_xlabel('Год выпуска игр')\n",
    "    ax.set_ylabel('Кол-во продаж')\n",
    "    ax.set_title(key)\n",
    "    plt.grid()\n",
    "    plt.show()"
   ]
  },
  {
   "cell_type": "markdown",
   "metadata": {},
   "source": [
    "**Вывод:** \n",
    "\n",
    "В качестве актуального периода был взят временной промежуток от 2005 до 2016 года - он включает в себя как консоли предыдущего поколения, так и текущего и позволяет точнее оценить потребности пользователей, т.к игровая индустрия за это не время не успела кардинально поменяться.\n",
    "\n",
    "Самые продаваемые консоли за актуальный период - продукция от Sony и Microsoft. Несмотря на то, что в наших данных преобладают продажи консолей предыдущего поколения, следует сделать акцент на постепенно возрастающую популярность консолей нового поколения от этих же производителей.\n",
    "\n",
    "Пик продаж наступает примерно в середине цикла жизни игровой платформы, после чего постепенно идёт на спад.\n",
    "\n",
    "Судя по графикам, жизненный путь актуальной консоли составляет примерно 10 лет и примерно за 5 лет консоль набирает популярность, после чего эта популярность идёт на спад.\n",
    "Можем заметить, что линейка консолей Wii от Nintendo первое время была достаточно интересным проектом из-за своих особенностей, но не смогла выдержать конкуренцию с другими платформами."
   ]
  },
  {
   "cell_type": "markdown",
   "metadata": {},
   "source": [
    "<br>"
   ]
  },
  {
   "cell_type": "markdown",
   "metadata": {},
   "source": [
    "**Построим диаграммы размаха по глобальным продажам игр с разбивкой на платформы:**"
   ]
  },
  {
   "cell_type": "markdown",
   "metadata": {},
   "source": [
    "Выберем более актуальный период - временной промежуток от 2013 года по настоящее время."
   ]
  },
  {
   "cell_type": "code",
   "execution_count": 15,
   "metadata": {},
   "outputs": [],
   "source": [
    "#отберём топ-5 платформ в актуальном временном промежутке, используя сводную таблицу, составленную ранее\n",
    "df_top_5 = df.query('(platform.isin(@top_since_2005.head(5).index)) & (year_of_release >= 2005)')"
   ]
  },
  {
   "cell_type": "code",
   "execution_count": 16,
   "metadata": {},
   "outputs": [
    {
     "data": {
      "text/html": [
       "<div>\n",
       "<style scoped>\n",
       "    .dataframe tbody tr th:only-of-type {\n",
       "        vertical-align: middle;\n",
       "    }\n",
       "\n",
       "    .dataframe tbody tr th {\n",
       "        vertical-align: top;\n",
       "    }\n",
       "\n",
       "    .dataframe thead th {\n",
       "        text-align: right;\n",
       "    }\n",
       "</style>\n",
       "<table border=\"1\" class=\"dataframe\">\n",
       "  <thead>\n",
       "    <tr style=\"text-align: right;\">\n",
       "      <th></th>\n",
       "      <th>total_sales</th>\n",
       "    </tr>\n",
       "    <tr>\n",
       "      <th>platform</th>\n",
       "      <th></th>\n",
       "    </tr>\n",
       "  </thead>\n",
       "  <tbody>\n",
       "    <tr>\n",
       "      <td>PS4</td>\n",
       "      <td>0.801378</td>\n",
       "    </tr>\n",
       "    <tr>\n",
       "      <td>X360</td>\n",
       "      <td>0.735484</td>\n",
       "    </tr>\n",
       "    <tr>\n",
       "      <td>XOne</td>\n",
       "      <td>0.645020</td>\n",
       "    </tr>\n",
       "    <tr>\n",
       "      <td>Wii</td>\n",
       "      <td>0.593913</td>\n",
       "    </tr>\n",
       "    <tr>\n",
       "      <td>WiiU</td>\n",
       "      <td>0.562000</td>\n",
       "    </tr>\n",
       "    <tr>\n",
       "      <td>PS3</td>\n",
       "      <td>0.525884</td>\n",
       "    </tr>\n",
       "    <tr>\n",
       "      <td>3DS</td>\n",
       "      <td>0.472772</td>\n",
       "    </tr>\n",
       "    <tr>\n",
       "      <td>PC</td>\n",
       "      <td>0.208646</td>\n",
       "    </tr>\n",
       "    <tr>\n",
       "      <td>DS</td>\n",
       "      <td>0.192500</td>\n",
       "    </tr>\n",
       "    <tr>\n",
       "      <td>PSV</td>\n",
       "      <td>0.092151</td>\n",
       "    </tr>\n",
       "    <tr>\n",
       "      <td>PSP</td>\n",
       "      <td>0.055000</td>\n",
       "    </tr>\n",
       "  </tbody>\n",
       "</table>\n",
       "</div>"
      ],
      "text/plain": [
       "          total_sales\n",
       "platform             \n",
       "PS4          0.801378\n",
       "X360         0.735484\n",
       "XOne         0.645020\n",
       "Wii          0.593913\n",
       "WiiU         0.562000\n",
       "PS3          0.525884\n",
       "3DS          0.472772\n",
       "PC           0.208646\n",
       "DS           0.192500\n",
       "PSV          0.092151\n",
       "PSP          0.055000"
      ]
     },
     "execution_count": 16,
     "metadata": {},
     "output_type": "execute_result"
    }
   ],
   "source": [
    "#посмотрим, какие платформы по продажам значительно отличаются от других:\n",
    "pd.pivot_table(df.query('year_of_release >= 2013'),\n",
    "               index='platform', values='total_sales').sort_values(by='total_sales', ascending=False)"
   ]
  },
  {
   "cell_type": "markdown",
   "metadata": {},
   "source": [
    "Видно, что на первые семь платформ приходится большее количество продаж, но нас интересуют более актуальные платформы последнего поколения - **PS4**, **Xbox One** и портативная **Nintendo 3DS**, т.к. мы выяснили ранее, что актуальность консолей предыдущего поколения уже подходит к концу."
   ]
  },
  {
   "cell_type": "code",
   "execution_count": 17,
   "metadata": {},
   "outputs": [],
   "source": [
    "#отберём актуальные платформы:\n",
    "platform_analysys = ['PS4', 'XOne', '3DS']"
   ]
  },
  {
   "cell_type": "code",
   "execution_count": 18,
   "metadata": {},
   "outputs": [
    {
     "name": "stderr",
     "output_type": "stream",
     "text": [
      "/opt/conda/lib/python3.7/site-packages/numpy/core/_asarray.py:83: VisibleDeprecationWarning: Creating an ndarray from ragged nested sequences (which is a list-or-tuple of lists-or-tuples-or ndarrays with different lengths or shapes) is deprecated. If you meant to do this, you must specify 'dtype=object' when creating the ndarray\n",
      "  return array(a, dtype, copy=False, order=order)\n"
     ]
    },
    {
     "data": {
      "image/png": "[encoded data removed]",
      "text/plain": [
       "<Figure size 432x288 with 1 Axes>"
      ]
     },
     "metadata": {
      "needs_background": "light"
     },
     "output_type": "display_data"
    }
   ],
   "source": [
    "#Построим диаграммы размаха, избавившись от выбросов:\n",
    "\n",
    "df.query('platform.isin(@platform_analysys)').boxplot(by='platform', column='total_sales', showfliers=False)\n",
    "plt.title('Диаграммы размаха по всем актуальным платформам')\n",
    "plt.suptitle('')\n",
    "plt.xlabel('Платформы')\n",
    "plt.ylabel('Глобальные продажи')\n",
    "\n",
    "plt.show()"
   ]
  },
  {
   "cell_type": "markdown",
   "metadata": {},
   "source": [
    "**Вывод:** по графику видно, что больше всего продаж за актуальный период из актуальных консолей у **PlayStation 4**, чуть меньше - у **Xbox One**."
   ]
  },
  {
   "cell_type": "markdown",
   "metadata": {},
   "source": [
    "<br>"
   ]
  },
  {
   "cell_type": "markdown",
   "metadata": {},
   "source": [
    "**Посмотрим, как влияют на продажи внутри одной популярной платформы отзывы пользователей и критиков. Построим диаграмму рассеяния и посчитайте корреляцию между отзывами и продажами. Соотнесём выводы с продажами игр на других платформах.**"
   ]
  },
  {
   "cell_type": "markdown",
   "metadata": {},
   "source": [
    "Мы определили, что самая популярная платформа за актуальный период - **PlayStation 4**. Построим диаграмму рессеяния и посчитаем корреляцию между отзывами и продажами:"
   ]
  },
  {
   "cell_type": "code",
   "execution_count": 19,
   "metadata": {},
   "outputs": [
    {
     "data": {
      "image/png": "[encoded data removed]",
      "text/plain": [
       "<Figure size 432x288 with 1 Axes>"
      ]
     },
     "metadata": {
      "needs_background": "light"
     },
     "output_type": "display_data"
    },
    {
     "data": {
      "image/png": "[encoded data removed]",
      "text/plain": [
       "<Figure size 432x288 with 1 Axes>"
      ]
     },
     "metadata": {
      "needs_background": "light"
     },
     "output_type": "display_data"
    },
    {
     "name": "stdout",
     "output_type": "stream",
     "text": [
      "Индекс корреляции между оценками пользователей и продажами: -0.031957110204556424\n",
      "Индекс корреляции между оценками критиков и продажами: 0.40656790206178095\n"
     ]
    }
   ],
   "source": [
    "#строим диаграммы\n",
    "df.query('platform == \"PS4\"').plot(x='user_score', y='total_sales', kind='scatter', grid=True)\n",
    "plt.title('Диаграмма рассеяния \"общие продажи/оценка пользователей\"')\n",
    "plt.xlabel('Оценка пользователей')\n",
    "plt.ylabel('Общие продажи')\n",
    "plt.show()\n",
    "\n",
    "df.query('platform == \"PS4\"').plot(x='critic_score', y='total_sales', kind='scatter', grid=True)\n",
    "plt.title('Диаграмма рассеяния \"общие продажи/оценка критиков\"')\n",
    "plt.xlabel('Оценка критиков')\n",
    "plt.ylabel('Общие продажи')\n",
    "plt.show()\n",
    "\n",
    "#выведем индекс корреляции:\n",
    "print('Индекс корреляции между оценками пользователей и продажами:',\n",
    "      df.query('platform == \"PS4\"').user_score.corr(df.query('platform == \"PS4\"').total_sales))\n",
    "print('Индекс корреляции между оценками критиков и продажами:',\n",
    "      df.query('platform == \"PS4\"').critic_score.corr(df.query('platform == \"PS4\"').total_sales))"
   ]
  },
  {
   "cell_type": "markdown",
   "metadata": {},
   "source": [
    "**Вывод:** слабая корреляция между оценками критиков и продажами и очень слабая корреляция между оценками пользователей и продажами.\n",
    "\n",
    "Сравним с аналогичными показателями других актуальных платформ:"
   ]
  },
  {
   "cell_type": "code",
   "execution_count": 20,
   "metadata": {},
   "outputs": [],
   "source": [
    "def correlation(platform):\n",
    "    df.query('platform == @platform').plot(x='user_score', y='total_sales', kind='scatter', grid=True)\n",
    "    plt.title('Диаграмма рассеяния \"общие продажи/оценка пользователей ({})\"'.format(platform))\n",
    "    plt.xlabel('Оценка пользователей')\n",
    "    plt.ylabel('Общие продажи')\n",
    "    plt.show()\n",
    "\n",
    "    df.query('platform == @platform').plot(x='critic_score', y='total_sales', kind='scatter', grid=True)\n",
    "    plt.title('Диаграмма рассеяния \"общие продажи/оценка критиков ({})\"'.format(platform))\n",
    "    plt.xlabel('Оценка критиков')\n",
    "    plt.ylabel('Общие продажи')\n",
    "    plt.show()\n",
    "\n",
    "    #выведем индекс корреляции:\n",
    "    print('Индекс корреляции между оценками пользователей и продажами:',\n",
    "      df.query('platform == @platform').user_score.corr(df.query('platform == @platform').total_sales))\n",
    "    print('Индекс корреляции между оценками критиков и продажами:',\n",
    "      df.query('platform == @platform').critic_score.corr(df.query('platform == @platform').total_sales))"
   ]
  },
  {
   "cell_type": "code",
   "execution_count": 21,
   "metadata": {
    "scrolled": false
   },
   "outputs": [
    {
     "data": {
      "image/png": "[encoded data removed]",
      "text/plain": [
       "<Figure size 432x288 with 1 Axes>"
      ]
     },
     "metadata": {
      "needs_background": "light"
     },
     "output_type": "display_data"
    },
    {
     "data": {
      "image/png": "[encoded data removed]",
      "text/plain": [
       "<Figure size 432x288 with 1 Axes>"
      ]
     },
     "metadata": {
      "needs_background": "light"
     },
     "output_type": "display_data"
    },
    {
     "name": "stdout",
     "output_type": "stream",
     "text": [
      "Индекс корреляции между оценками пользователей и продажами: -0.06892505328279414\n",
      "Индекс корреляции между оценками критиков и продажами: 0.4169983280084017\n"
     ]
    },
    {
     "data": {
      "image/png": "[encoded data removed]",
      "text/plain": [
       "<Figure size 432x288 with 1 Axes>"
      ]
     },
     "metadata": {
      "needs_background": "light"
     },
     "output_type": "display_data"
    },
    {
     "data": {
      "image/png": "[encoded data removed]",
      "text/plain": [
       "<Figure size 432x288 with 1 Axes>"
      ]
     },
     "metadata": {
      "needs_background": "light"
     },
     "output_type": "display_data"
    },
    {
     "name": "stdout",
     "output_type": "stream",
     "text": [
      "Индекс корреляции между оценками пользователей и продажами: 0.22480798039571082\n",
      "Индекс корреляции между оценками критиков и продажами: 0.3494009303924131\n"
     ]
    }
   ],
   "source": [
    "for platform in platform_analysys[1::]:\n",
    "    correlation(platform)"
   ]
  },
  {
   "cell_type": "markdown",
   "metadata": {},
   "source": [
    "**Вывод:** практически у всех платформ корреляция между оценками пользователей и продажами слишком слабая, но корреляция между отзывами критиков и продажами выражена гораздо сильнее."
   ]
  },
  {
   "cell_type": "markdown",
   "metadata": {},
   "source": [
    "**Посмотрим на общее распределение игр по жанрам и выделим жанры с самыми высокими и самыми низкими показателями:**"
   ]
  },
  {
   "cell_type": "code",
   "execution_count": 22,
   "metadata": {},
   "outputs": [
    {
     "data": {
      "image/png": "[encoded data removed]",
      "text/plain": [
       "<Figure size 432x288 with 1 Axes>"
      ]
     },
     "metadata": {
      "needs_background": "light"
     },
     "output_type": "display_data"
    }
   ],
   "source": [
    "actual = df.query('year_of_release >= 2013')\n",
    "\n",
    "#создадим таблицу жанр/общие продажи за актуальный период:\n",
    "genre_distribution = pd.pivot_table(actual, index='genre',\n",
    "                                    values='total_sales', aggfunc='sum').sort_values(by='total_sales', ascending=False)\n",
    "\n",
    "#избавляемся от мультииндекса:\n",
    "genre_distribution = genre_distribution.reset_index()\n",
    "\n",
    "#построим график распределения по жанрам:\n",
    "genre_distribution.plot.bar(x='genre', y='total_sales', legend=False)\n",
    "plt.title('Распределение продаж по жанрам за актуальный период')\n",
    "plt.ylabel('Суммарные продажи')\n",
    "plt.xlabel('Жанр')\n",
    "plt.show()"
   ]
  },
  {
   "cell_type": "code",
   "execution_count": 23,
   "metadata": {},
   "outputs": [
    {
     "data": {
      "image/png": "[encoded data removed]",
      "text/plain": [
       "<Figure size 432x288 with 1 Axes>"
      ]
     },
     "metadata": {
      "needs_background": "light"
     },
     "output_type": "display_data"
    }
   ],
   "source": [
    "#посмотрим распределение количества игр по жанрам:\n",
    "genre_distribution = pd.pivot_table(actual, index='genre',\n",
    "                                    values='total_sales', aggfunc='count').sort_values(by='total_sales', ascending=False)\n",
    "genre_distribution = genre_distribution.reset_index()\n",
    "\n",
    "#построим график распределения количества по жанрам:\n",
    "genre_distribution.plot.bar(x='genre', y='total_sales', legend=False)\n",
    "plt.title('Распределение количества игр по жанрам за актуальный период')\n",
    "plt.ylabel('Количество игр')\n",
    "plt.xlabel('Жанр')\n",
    "plt.show()"
   ]
  },
  {
   "cell_type": "markdown",
   "metadata": {},
   "source": [
    "**Вывод:** лучше всего продаются игры жанра \"Action\", хуже всего - стратегические игры.\n",
    "\n",
    "Судя по графику, количество игр жанра \"Action\" значительно превышает количество игр других жанров - можно сделать вывод, что высокие суммарные продажи в этом жанре приносит штампование относительно недорогих игр. Остальные жанры подобным отличием не выделяются."
   ]
  },
  {
   "cell_type": "markdown",
   "metadata": {},
   "source": [
    "**Вывод по шагу:**\n",
    "\n",
    "По результатам проделанного анализа, мы пришли к следующим выводам:\n",
    "- Лучше всего продаются игры жанра Action, Sports, Shooter.\n",
    "- Самые популярные консоли за актуальный период - Xbox 360 и Playstation 3.\n",
    "- Оценка пользователей в меньшей степени влияет на продажи, чем оценка критиков.\n",
    "- Актуальный период - год выпуска консолей придыдущего поколения по сегодняшний день, так как он в полной мере может предоставить информацию о предпочтениях игроков.\n",
    "- Средняя продолжительность жизни консоли - 10 лет, при этом в середине жизненного цикла можно заметить падение уровня популярности консоли."
   ]
  },
  {
   "cell_type": "markdown",
   "metadata": {},
   "source": [
    "<br>"
   ]
  },
  {
   "cell_type": "markdown",
   "metadata": {},
   "source": [
    "### Шаг 4. Составьте портрет пользователя каждого региона"
   ]
  },
  {
   "cell_type": "markdown",
   "metadata": {},
   "source": [
    "Определим для пользователя каждого региона (NA, EU, JP):\n",
    "- Самые популярные платформы (топ-5). Опишем различия в долях продаж.\n",
    "- Самые популярные жанры (топ-5).\n",
    "- Определим, влияет ли рейтинг ESRB на продажи в отдельном регионе.\n",
    "\n",
    "\n",
    "Рассмотрим актуальный период в целом и сравним его с показателями за последние два года - это позволит сделать выводы, насколько сильно изменился рынок игровой индустрии."
   ]
  },
  {
   "cell_type": "markdown",
   "metadata": {},
   "source": [
    "**Портрет пользователя NA**:"
   ]
  },
  {
   "cell_type": "code",
   "execution_count": 24,
   "metadata": {},
   "outputs": [],
   "source": [
    "#функция, выводящая графики по пользователю определённого региона с фильтрацией по году"
   ]
  },
  {
   "cell_type": "code",
   "execution_count": 25,
   "metadata": {},
   "outputs": [],
   "source": [
    "def region_stat(region, since, period):\n",
    "    platform_pivot_actual = pd.pivot_table(df.query('year_of_release >= @since'), index='platform',\n",
    "                                           values=region, aggfunc='sum').sort_values(by=region, ascending=False).reset_index()\n",
    "    genre_pivot_actual = pd.pivot_table(df.query('year_of_release >= @since'),\n",
    "                                        index='genre',values=region, aggfunc='sum').sort_values(by=region, ascending=False).reset_index()\n",
    "    rating_pivot_actual = pd.pivot_table(df.query('year_of_release >= @since'), index='rating',\n",
    "                                         values=region, aggfunc='sum').sort_values(by=region, ascending=False).reset_index()\n",
    "    \n",
    "    display(platform_pivot_actual.head(5))\n",
    "    display(genre_pivot_actual.head(5))\n",
    "    display(rating_pivot_actual.head(5))\n",
    "    \n",
    "    ax = platform_pivot_actual.head(5).plot.bar(x='platform', legend=False)\n",
    "    ax.set_title('Топ-5 платформ за весь период')\n",
    "    ax.set_xlabel('Платформа')\n",
    "    ax.set_ylabel('Продажи')\n",
    "    plt.show()\n",
    "    \n",
    "    ax = genre_pivot_actual.head(5).plot.bar(x='genre', legend=False)\n",
    "    ax.set_title('Топ-5 жанров за {}'.format(period))\n",
    "    ax.set_xlabel('Жанр')\n",
    "    ax.set_ylabel('Продажи')\n",
    "    plt.show()\n",
    "    \n",
    "    ax = rating_pivot_actual.head(5).plot.bar(x='rating', legend=False)\n",
    "    ax.set_title('Топ-5 рейтинг за {}'.format(period))\n",
    "    ax.set_xlabel('Рейтинг')\n",
    "    ax.set_ylabel('Продажи')\n",
    "    plt.show()"
   ]
  },
  {
   "cell_type": "code",
   "execution_count": 26,
   "metadata": {
    "scrolled": false
   },
   "outputs": [
    {
     "name": "stdout",
     "output_type": "stream",
     "text": [
      "Статистика за весь актуальный период:\n"
     ]
    },
    {
     "data": {
      "text/html": [
       "<div>\n",
       "<style scoped>\n",
       "    .dataframe tbody tr th:only-of-type {\n",
       "        vertical-align: middle;\n",
       "    }\n",
       "\n",
       "    .dataframe tbody tr th {\n",
       "        vertical-align: top;\n",
       "    }\n",
       "\n",
       "    .dataframe thead th {\n",
       "        text-align: right;\n",
       "    }\n",
       "</style>\n",
       "<table border=\"1\" class=\"dataframe\">\n",
       "  <thead>\n",
       "    <tr style=\"text-align: right;\">\n",
       "      <th></th>\n",
       "      <th>platform</th>\n",
       "      <th>na_sales</th>\n",
       "    </tr>\n",
       "  </thead>\n",
       "  <tbody>\n",
       "    <tr>\n",
       "      <td>0</td>\n",
       "      <td>PS4</td>\n",
       "      <td>108.74</td>\n",
       "    </tr>\n",
       "    <tr>\n",
       "      <td>1</td>\n",
       "      <td>XOne</td>\n",
       "      <td>93.12</td>\n",
       "    </tr>\n",
       "    <tr>\n",
       "      <td>2</td>\n",
       "      <td>X360</td>\n",
       "      <td>81.66</td>\n",
       "    </tr>\n",
       "    <tr>\n",
       "      <td>3</td>\n",
       "      <td>PS3</td>\n",
       "      <td>63.50</td>\n",
       "    </tr>\n",
       "    <tr>\n",
       "      <td>4</td>\n",
       "      <td>3DS</td>\n",
       "      <td>38.20</td>\n",
       "    </tr>\n",
       "  </tbody>\n",
       "</table>\n",
       "</div>"
      ],
      "text/plain": [
       "  platform  na_sales\n",
       "0      PS4    108.74\n",
       "1     XOne     93.12\n",
       "2     X360     81.66\n",
       "3      PS3     63.50\n",
       "4      3DS     38.20"
      ]
     },
     "metadata": {},
     "output_type": "display_data"
    },
    {
     "data": {
      "text/html": [
       "<div>\n",
       "<style scoped>\n",
       "    .dataframe tbody tr th:only-of-type {\n",
       "        vertical-align: middle;\n",
       "    }\n",
       "\n",
       "    .dataframe tbody tr th {\n",
       "        vertical-align: top;\n",
       "    }\n",
       "\n",
       "    .dataframe thead th {\n",
       "        text-align: right;\n",
       "    }\n",
       "</style>\n",
       "<table border=\"1\" class=\"dataframe\">\n",
       "  <thead>\n",
       "    <tr style=\"text-align: right;\">\n",
       "      <th></th>\n",
       "      <th>genre</th>\n",
       "      <th>na_sales</th>\n",
       "    </tr>\n",
       "  </thead>\n",
       "  <tbody>\n",
       "    <tr>\n",
       "      <td>0</td>\n",
       "      <td>Action</td>\n",
       "      <td>126.13</td>\n",
       "    </tr>\n",
       "    <tr>\n",
       "      <td>1</td>\n",
       "      <td>Shooter</td>\n",
       "      <td>109.74</td>\n",
       "    </tr>\n",
       "    <tr>\n",
       "      <td>2</td>\n",
       "      <td>Sports</td>\n",
       "      <td>65.27</td>\n",
       "    </tr>\n",
       "    <tr>\n",
       "      <td>3</td>\n",
       "      <td>Role-Playing</td>\n",
       "      <td>46.40</td>\n",
       "    </tr>\n",
       "    <tr>\n",
       "      <td>4</td>\n",
       "      <td>Misc</td>\n",
       "      <td>27.49</td>\n",
       "    </tr>\n",
       "  </tbody>\n",
       "</table>\n",
       "</div>"
      ],
      "text/plain": [
       "          genre  na_sales\n",
       "0        Action    126.13\n",
       "1       Shooter    109.74\n",
       "2        Sports     65.27\n",
       "3  Role-Playing     46.40\n",
       "4          Misc     27.49"
      ]
     },
     "metadata": {},
     "output_type": "display_data"
    },
    {
     "data": {
      "text/html": [
       "<div>\n",
       "<style scoped>\n",
       "    .dataframe tbody tr th:only-of-type {\n",
       "        vertical-align: middle;\n",
       "    }\n",
       "\n",
       "    .dataframe tbody tr th {\n",
       "        vertical-align: top;\n",
       "    }\n",
       "\n",
       "    .dataframe thead th {\n",
       "        text-align: right;\n",
       "    }\n",
       "</style>\n",
       "<table border=\"1\" class=\"dataframe\">\n",
       "  <thead>\n",
       "    <tr style=\"text-align: right;\">\n",
       "      <th></th>\n",
       "      <th>rating</th>\n",
       "      <th>na_sales</th>\n",
       "    </tr>\n",
       "  </thead>\n",
       "  <tbody>\n",
       "    <tr>\n",
       "      <td>0</td>\n",
       "      <td>M</td>\n",
       "      <td>165.29</td>\n",
       "    </tr>\n",
       "    <tr>\n",
       "      <td>1</td>\n",
       "      <td>E</td>\n",
       "      <td>79.05</td>\n",
       "    </tr>\n",
       "    <tr>\n",
       "      <td>2</td>\n",
       "      <td>E10+</td>\n",
       "      <td>54.24</td>\n",
       "    </tr>\n",
       "    <tr>\n",
       "      <td>3</td>\n",
       "      <td>T</td>\n",
       "      <td>49.79</td>\n",
       "    </tr>\n",
       "  </tbody>\n",
       "</table>\n",
       "</div>"
      ],
      "text/plain": [
       "  rating  na_sales\n",
       "0      M    165.29\n",
       "1      E     79.05\n",
       "2   E10+     54.24\n",
       "3      T     49.79"
      ]
     },
     "metadata": {},
     "output_type": "display_data"
    },
    {
     "data": {
      "image/png": "[encoded data removed]",
      "text/plain": [
       "<Figure size 432x288 with 1 Axes>"
      ]
     },
     "metadata": {
      "needs_background": "light"
     },
     "output_type": "display_data"
    },
    {
     "data": {
      "image/png": "[encoded data removed]",
      "text/plain": [
       "<Figure size 432x288 with 1 Axes>"
      ]
     },
     "metadata": {
      "needs_background": "light"
     },
     "output_type": "display_data"
    },
    {
     "data": {
      "image/png": "[encoded data removed]",
      "text/plain": [
       "<Figure size 432x288 with 1 Axes>"
      ]
     },
     "metadata": {
      "needs_background": "light"
     },
     "output_type": "display_data"
    }
   ],
   "source": [
    "#выведем портрет пользователя из Северной Америки за весь актуальный период (2013-2016)\n",
    "print('Статистика за весь актуальный период:')\n",
    "region_stat('na_sales', 2013, 'весь период')"
   ]
  },
  {
   "cell_type": "code",
   "execution_count": 27,
   "metadata": {},
   "outputs": [
    {
     "name": "stdout",
     "output_type": "stream",
     "text": [
      "Статистика за последние два года:\n"
     ]
    },
    {
     "data": {
      "text/html": [
       "<div>\n",
       "<style scoped>\n",
       "    .dataframe tbody tr th:only-of-type {\n",
       "        vertical-align: middle;\n",
       "    }\n",
       "\n",
       "    .dataframe tbody tr th {\n",
       "        vertical-align: top;\n",
       "    }\n",
       "\n",
       "    .dataframe thead th {\n",
       "        text-align: right;\n",
       "    }\n",
       "</style>\n",
       "<table border=\"1\" class=\"dataframe\">\n",
       "  <thead>\n",
       "    <tr style=\"text-align: right;\">\n",
       "      <th></th>\n",
       "      <th>platform</th>\n",
       "      <th>na_sales</th>\n",
       "    </tr>\n",
       "  </thead>\n",
       "  <tbody>\n",
       "    <tr>\n",
       "      <td>0</td>\n",
       "      <td>PS4</td>\n",
       "      <td>63.86</td>\n",
       "    </tr>\n",
       "    <tr>\n",
       "      <td>1</td>\n",
       "      <td>XOne</td>\n",
       "      <td>50.30</td>\n",
       "    </tr>\n",
       "    <tr>\n",
       "      <td>2</td>\n",
       "      <td>3DS</td>\n",
       "      <td>10.31</td>\n",
       "    </tr>\n",
       "    <tr>\n",
       "      <td>3</td>\n",
       "      <td>WiiU</td>\n",
       "      <td>8.86</td>\n",
       "    </tr>\n",
       "    <tr>\n",
       "      <td>4</td>\n",
       "      <td>X360</td>\n",
       "      <td>8.05</td>\n",
       "    </tr>\n",
       "  </tbody>\n",
       "</table>\n",
       "</div>"
      ],
      "text/plain": [
       "  platform  na_sales\n",
       "0      PS4     63.86\n",
       "1     XOne     50.30\n",
       "2      3DS     10.31\n",
       "3     WiiU      8.86\n",
       "4     X360      8.05"
      ]
     },
     "metadata": {},
     "output_type": "display_data"
    },
    {
     "data": {
      "text/html": [
       "<div>\n",
       "<style scoped>\n",
       "    .dataframe tbody tr th:only-of-type {\n",
       "        vertical-align: middle;\n",
       "    }\n",
       "\n",
       "    .dataframe tbody tr th {\n",
       "        vertical-align: top;\n",
       "    }\n",
       "\n",
       "    .dataframe thead th {\n",
       "        text-align: right;\n",
       "    }\n",
       "</style>\n",
       "<table border=\"1\" class=\"dataframe\">\n",
       "  <thead>\n",
       "    <tr style=\"text-align: right;\">\n",
       "      <th></th>\n",
       "      <th>genre</th>\n",
       "      <th>na_sales</th>\n",
       "    </tr>\n",
       "  </thead>\n",
       "  <tbody>\n",
       "    <tr>\n",
       "      <td>0</td>\n",
       "      <td>Shooter</td>\n",
       "      <td>48.18</td>\n",
       "    </tr>\n",
       "    <tr>\n",
       "      <td>1</td>\n",
       "      <td>Action</td>\n",
       "      <td>33.68</td>\n",
       "    </tr>\n",
       "    <tr>\n",
       "      <td>2</td>\n",
       "      <td>Sports</td>\n",
       "      <td>26.31</td>\n",
       "    </tr>\n",
       "    <tr>\n",
       "      <td>3</td>\n",
       "      <td>Role-Playing</td>\n",
       "      <td>19.82</td>\n",
       "    </tr>\n",
       "    <tr>\n",
       "      <td>4</td>\n",
       "      <td>Misc</td>\n",
       "      <td>5.58</td>\n",
       "    </tr>\n",
       "  </tbody>\n",
       "</table>\n",
       "</div>"
      ],
      "text/plain": [
       "          genre  na_sales\n",
       "0       Shooter     48.18\n",
       "1        Action     33.68\n",
       "2        Sports     26.31\n",
       "3  Role-Playing     19.82\n",
       "4          Misc      5.58"
      ]
     },
     "metadata": {},
     "output_type": "display_data"
    },
    {
     "data": {
      "text/html": [
       "<div>\n",
       "<style scoped>\n",
       "    .dataframe tbody tr th:only-of-type {\n",
       "        vertical-align: middle;\n",
       "    }\n",
       "\n",
       "    .dataframe tbody tr th {\n",
       "        vertical-align: top;\n",
       "    }\n",
       "\n",
       "    .dataframe thead th {\n",
       "        text-align: right;\n",
       "    }\n",
       "</style>\n",
       "<table border=\"1\" class=\"dataframe\">\n",
       "  <thead>\n",
       "    <tr style=\"text-align: right;\">\n",
       "      <th></th>\n",
       "      <th>rating</th>\n",
       "      <th>na_sales</th>\n",
       "    </tr>\n",
       "  </thead>\n",
       "  <tbody>\n",
       "    <tr>\n",
       "      <td>0</td>\n",
       "      <td>M</td>\n",
       "      <td>47.03</td>\n",
       "    </tr>\n",
       "    <tr>\n",
       "      <td>1</td>\n",
       "      <td>E</td>\n",
       "      <td>26.59</td>\n",
       "    </tr>\n",
       "    <tr>\n",
       "      <td>2</td>\n",
       "      <td>T</td>\n",
       "      <td>22.86</td>\n",
       "    </tr>\n",
       "    <tr>\n",
       "      <td>3</td>\n",
       "      <td>E10+</td>\n",
       "      <td>17.87</td>\n",
       "    </tr>\n",
       "  </tbody>\n",
       "</table>\n",
       "</div>"
      ],
      "text/plain": [
       "  rating  na_sales\n",
       "0      M     47.03\n",
       "1      E     26.59\n",
       "2      T     22.86\n",
       "3   E10+     17.87"
      ]
     },
     "metadata": {},
     "output_type": "display_data"
    },
    {
     "data": {
      "image/png": "[encoded data removed]",
      "text/plain": [
       "<Figure size 432x288 with 1 Axes>"
      ]
     },
     "metadata": {
      "needs_background": "light"
     },
     "output_type": "display_data"
    },
    {
     "data": {
      "image/png": "[encoded data removed]",
      "text/plain": [
       "<Figure size 432x288 with 1 Axes>"
      ]
     },
     "metadata": {
      "needs_background": "light"
     },
     "output_type": "display_data"
    },
    {
     "data": {
      "image/png": "[encoded data removed]",
      "text/plain": [
       "<Figure size 432x288 with 1 Axes>"
      ]
     },
     "metadata": {
      "needs_background": "light"
     },
     "output_type": "display_data"
    }
   ],
   "source": [
    "#выведем портрет пользователя из Северной Америки за последние два года (2015-2016)\n",
    "print('Статистика за последние два года:')\n",
    "region_stat('na_sales', 2015, 'последние два года')"
   ]
  },
  {
   "cell_type": "markdown",
   "metadata": {},
   "source": [
    "**Вывод:**\n",
    "\n",
    "За весь период пользователи предпочитали следующие платформы: **PlayStation 4**, **Xbox One** и **Xbox 360**. Изменения за последние несколько лет - **Xbox 360** потерял свою актуальность и предпочтения изменились: теперь самые популярные платформы - **PlayStation 4**, **Xbox One** и **Nintendo 3DS**.\n",
    "\n",
    "\n",
    "Предпочтительные жанры сильно не поменялись, разве что игрокам стали больше по душе шутеры."
   ]
  },
  {
   "cell_type": "markdown",
   "metadata": {},
   "source": [
    "**Портрет пользователя EU**:"
   ]
  },
  {
   "cell_type": "code",
   "execution_count": 28,
   "metadata": {},
   "outputs": [
    {
     "name": "stdout",
     "output_type": "stream",
     "text": [
      "Статистика за весь актуальный период:\n"
     ]
    },
    {
     "data": {
      "text/html": [
       "<div>\n",
       "<style scoped>\n",
       "    .dataframe tbody tr th:only-of-type {\n",
       "        vertical-align: middle;\n",
       "    }\n",
       "\n",
       "    .dataframe tbody tr th {\n",
       "        vertical-align: top;\n",
       "    }\n",
       "\n",
       "    .dataframe thead th {\n",
       "        text-align: right;\n",
       "    }\n",
       "</style>\n",
       "<table border=\"1\" class=\"dataframe\">\n",
       "  <thead>\n",
       "    <tr style=\"text-align: right;\">\n",
       "      <th></th>\n",
       "      <th>platform</th>\n",
       "      <th>eu_sales</th>\n",
       "    </tr>\n",
       "  </thead>\n",
       "  <tbody>\n",
       "    <tr>\n",
       "      <td>0</td>\n",
       "      <td>PS4</td>\n",
       "      <td>141.09</td>\n",
       "    </tr>\n",
       "    <tr>\n",
       "      <td>1</td>\n",
       "      <td>PS3</td>\n",
       "      <td>67.81</td>\n",
       "    </tr>\n",
       "    <tr>\n",
       "      <td>2</td>\n",
       "      <td>XOne</td>\n",
       "      <td>51.59</td>\n",
       "    </tr>\n",
       "    <tr>\n",
       "      <td>3</td>\n",
       "      <td>X360</td>\n",
       "      <td>42.52</td>\n",
       "    </tr>\n",
       "    <tr>\n",
       "      <td>4</td>\n",
       "      <td>3DS</td>\n",
       "      <td>30.96</td>\n",
       "    </tr>\n",
       "  </tbody>\n",
       "</table>\n",
       "</div>"
      ],
      "text/plain": [
       "  platform  eu_sales\n",
       "0      PS4    141.09\n",
       "1      PS3     67.81\n",
       "2     XOne     51.59\n",
       "3     X360     42.52\n",
       "4      3DS     30.96"
      ]
     },
     "metadata": {},
     "output_type": "display_data"
    },
    {
     "data": {
      "text/html": [
       "<div>\n",
       "<style scoped>\n",
       "    .dataframe tbody tr th:only-of-type {\n",
       "        vertical-align: middle;\n",
       "    }\n",
       "\n",
       "    .dataframe tbody tr th {\n",
       "        vertical-align: top;\n",
       "    }\n",
       "\n",
       "    .dataframe thead th {\n",
       "        text-align: right;\n",
       "    }\n",
       "</style>\n",
       "<table border=\"1\" class=\"dataframe\">\n",
       "  <thead>\n",
       "    <tr style=\"text-align: right;\">\n",
       "      <th></th>\n",
       "      <th>genre</th>\n",
       "      <th>eu_sales</th>\n",
       "    </tr>\n",
       "  </thead>\n",
       "  <tbody>\n",
       "    <tr>\n",
       "      <td>0</td>\n",
       "      <td>Action</td>\n",
       "      <td>118.61</td>\n",
       "    </tr>\n",
       "    <tr>\n",
       "      <td>1</td>\n",
       "      <td>Shooter</td>\n",
       "      <td>87.86</td>\n",
       "    </tr>\n",
       "    <tr>\n",
       "      <td>2</td>\n",
       "      <td>Sports</td>\n",
       "      <td>60.52</td>\n",
       "    </tr>\n",
       "    <tr>\n",
       "      <td>3</td>\n",
       "      <td>Role-Playing</td>\n",
       "      <td>36.97</td>\n",
       "    </tr>\n",
       "    <tr>\n",
       "      <td>4</td>\n",
       "      <td>Racing</td>\n",
       "      <td>20.19</td>\n",
       "    </tr>\n",
       "  </tbody>\n",
       "</table>\n",
       "</div>"
      ],
      "text/plain": [
       "          genre  eu_sales\n",
       "0        Action    118.61\n",
       "1       Shooter     87.86\n",
       "2        Sports     60.52\n",
       "3  Role-Playing     36.97\n",
       "4        Racing     20.19"
      ]
     },
     "metadata": {},
     "output_type": "display_data"
    },
    {
     "data": {
      "text/html": [
       "<div>\n",
       "<style scoped>\n",
       "    .dataframe tbody tr th:only-of-type {\n",
       "        vertical-align: middle;\n",
       "    }\n",
       "\n",
       "    .dataframe tbody tr th {\n",
       "        vertical-align: top;\n",
       "    }\n",
       "\n",
       "    .dataframe thead th {\n",
       "        text-align: right;\n",
       "    }\n",
       "</style>\n",
       "<table border=\"1\" class=\"dataframe\">\n",
       "  <thead>\n",
       "    <tr style=\"text-align: right;\">\n",
       "      <th></th>\n",
       "      <th>rating</th>\n",
       "      <th>eu_sales</th>\n",
       "    </tr>\n",
       "  </thead>\n",
       "  <tbody>\n",
       "    <tr>\n",
       "      <td>0</td>\n",
       "      <td>M</td>\n",
       "      <td>145.80</td>\n",
       "    </tr>\n",
       "    <tr>\n",
       "      <td>1</td>\n",
       "      <td>E</td>\n",
       "      <td>83.36</td>\n",
       "    </tr>\n",
       "    <tr>\n",
       "      <td>2</td>\n",
       "      <td>E10+</td>\n",
       "      <td>42.69</td>\n",
       "    </tr>\n",
       "    <tr>\n",
       "      <td>3</td>\n",
       "      <td>T</td>\n",
       "      <td>41.95</td>\n",
       "    </tr>\n",
       "  </tbody>\n",
       "</table>\n",
       "</div>"
      ],
      "text/plain": [
       "  rating  eu_sales\n",
       "0      M    145.80\n",
       "1      E     83.36\n",
       "2   E10+     42.69\n",
       "3      T     41.95"
      ]
     },
     "metadata": {},
     "output_type": "display_data"
    },
    {
     "data": {
      "image/png": "[encoded data removed]",
      "text/plain": [
       "<Figure size 432x288 with 1 Axes>"
      ]
     },
     "metadata": {
      "needs_background": "light"
     },
     "output_type": "display_data"
    },
    {
     "data": {
      "image/png": "[encoded data removed]",
      "text/plain": [
       "<Figure size 432x288 with 1 Axes>"
      ]
     },
     "metadata": {
      "needs_background": "light"
     },
     "output_type": "display_data"
    },
    {
     "data": {
      "image/png": "[encoded data removed]",
      "text/plain": [
       "<Figure size 432x288 with 1 Axes>"
      ]
     },
     "metadata": {
      "needs_background": "light"
     },
     "output_type": "display_data"
    }
   ],
   "source": [
    "#выведем портрет пользователя из Европейского союза за весь актуальный период (2013-2016)\n",
    "print('Статистика за весь актуальный период:')\n",
    "region_stat('eu_sales', 2013, 'весь период')"
   ]
  },
  {
   "cell_type": "code",
   "execution_count": 29,
   "metadata": {},
   "outputs": [
    {
     "name": "stdout",
     "output_type": "stream",
     "text": [
      "Статистика за последние два года:\n"
     ]
    },
    {
     "data": {
      "text/html": [
       "<div>\n",
       "<style scoped>\n",
       "    .dataframe tbody tr th:only-of-type {\n",
       "        vertical-align: middle;\n",
       "    }\n",
       "\n",
       "    .dataframe tbody tr th {\n",
       "        vertical-align: top;\n",
       "    }\n",
       "\n",
       "    .dataframe thead th {\n",
       "        text-align: right;\n",
       "    }\n",
       "</style>\n",
       "<table border=\"1\" class=\"dataframe\">\n",
       "  <thead>\n",
       "    <tr style=\"text-align: right;\">\n",
       "      <th></th>\n",
       "      <th>platform</th>\n",
       "      <th>eu_sales</th>\n",
       "    </tr>\n",
       "  </thead>\n",
       "  <tbody>\n",
       "    <tr>\n",
       "      <td>0</td>\n",
       "      <td>PS4</td>\n",
       "      <td>83.54</td>\n",
       "    </tr>\n",
       "    <tr>\n",
       "      <td>1</td>\n",
       "      <td>XOne</td>\n",
       "      <td>28.10</td>\n",
       "    </tr>\n",
       "    <tr>\n",
       "      <td>2</td>\n",
       "      <td>PC</td>\n",
       "      <td>9.10</td>\n",
       "    </tr>\n",
       "    <tr>\n",
       "      <td>3</td>\n",
       "      <td>3DS</td>\n",
       "      <td>7.39</td>\n",
       "    </tr>\n",
       "    <tr>\n",
       "      <td>4</td>\n",
       "      <td>PS3</td>\n",
       "      <td>7.30</td>\n",
       "    </tr>\n",
       "  </tbody>\n",
       "</table>\n",
       "</div>"
      ],
      "text/plain": [
       "  platform  eu_sales\n",
       "0      PS4     83.54\n",
       "1     XOne     28.10\n",
       "2       PC      9.10\n",
       "3      3DS      7.39\n",
       "4      PS3      7.30"
      ]
     },
     "metadata": {},
     "output_type": "display_data"
    },
    {
     "data": {
      "text/html": [
       "<div>\n",
       "<style scoped>\n",
       "    .dataframe tbody tr th:only-of-type {\n",
       "        vertical-align: middle;\n",
       "    }\n",
       "\n",
       "    .dataframe tbody tr th {\n",
       "        vertical-align: top;\n",
       "    }\n",
       "\n",
       "    .dataframe thead th {\n",
       "        text-align: right;\n",
       "    }\n",
       "</style>\n",
       "<table border=\"1\" class=\"dataframe\">\n",
       "  <thead>\n",
       "    <tr style=\"text-align: right;\">\n",
       "      <th></th>\n",
       "      <th>genre</th>\n",
       "      <th>eu_sales</th>\n",
       "    </tr>\n",
       "  </thead>\n",
       "  <tbody>\n",
       "    <tr>\n",
       "      <td>0</td>\n",
       "      <td>Shooter</td>\n",
       "      <td>40.28</td>\n",
       "    </tr>\n",
       "    <tr>\n",
       "      <td>1</td>\n",
       "      <td>Action</td>\n",
       "      <td>34.82</td>\n",
       "    </tr>\n",
       "    <tr>\n",
       "      <td>2</td>\n",
       "      <td>Sports</td>\n",
       "      <td>27.82</td>\n",
       "    </tr>\n",
       "    <tr>\n",
       "      <td>3</td>\n",
       "      <td>Role-Playing</td>\n",
       "      <td>17.21</td>\n",
       "    </tr>\n",
       "    <tr>\n",
       "      <td>4</td>\n",
       "      <td>Racing</td>\n",
       "      <td>6.52</td>\n",
       "    </tr>\n",
       "  </tbody>\n",
       "</table>\n",
       "</div>"
      ],
      "text/plain": [
       "          genre  eu_sales\n",
       "0       Shooter     40.28\n",
       "1        Action     34.82\n",
       "2        Sports     27.82\n",
       "3  Role-Playing     17.21\n",
       "4        Racing      6.52"
      ]
     },
     "metadata": {},
     "output_type": "display_data"
    },
    {
     "data": {
      "text/html": [
       "<div>\n",
       "<style scoped>\n",
       "    .dataframe tbody tr th:only-of-type {\n",
       "        vertical-align: middle;\n",
       "    }\n",
       "\n",
       "    .dataframe tbody tr th {\n",
       "        vertical-align: top;\n",
       "    }\n",
       "\n",
       "    .dataframe thead th {\n",
       "        text-align: right;\n",
       "    }\n",
       "</style>\n",
       "<table border=\"1\" class=\"dataframe\">\n",
       "  <thead>\n",
       "    <tr style=\"text-align: right;\">\n",
       "      <th></th>\n",
       "      <th>rating</th>\n",
       "      <th>eu_sales</th>\n",
       "    </tr>\n",
       "  </thead>\n",
       "  <tbody>\n",
       "    <tr>\n",
       "      <td>0</td>\n",
       "      <td>M</td>\n",
       "      <td>45.54</td>\n",
       "    </tr>\n",
       "    <tr>\n",
       "      <td>1</td>\n",
       "      <td>E</td>\n",
       "      <td>34.83</td>\n",
       "    </tr>\n",
       "    <tr>\n",
       "      <td>2</td>\n",
       "      <td>T</td>\n",
       "      <td>20.32</td>\n",
       "    </tr>\n",
       "    <tr>\n",
       "      <td>3</td>\n",
       "      <td>E10+</td>\n",
       "      <td>11.54</td>\n",
       "    </tr>\n",
       "  </tbody>\n",
       "</table>\n",
       "</div>"
      ],
      "text/plain": [
       "  rating  eu_sales\n",
       "0      M     45.54\n",
       "1      E     34.83\n",
       "2      T     20.32\n",
       "3   E10+     11.54"
      ]
     },
     "metadata": {},
     "output_type": "display_data"
    },
    {
     "data": {
      "image/png": "[encoded data removed]",
      "text/plain": [
       "<Figure size 432x288 with 1 Axes>"
      ]
     },
     "metadata": {
      "needs_background": "light"
     },
     "output_type": "display_data"
    },
    {
     "data": {
      "image/png": "[encoded data removed]",
      "text/plain": [
       "<Figure size 432x288 with 1 Axes>"
      ]
     },
     "metadata": {
      "needs_background": "light"
     },
     "output_type": "display_data"
    },
    {
     "data": {
      "image/png": "[encoded data removed]",
      "text/plain": [
       "<Figure size 432x288 with 1 Axes>"
      ]
     },
     "metadata": {
      "needs_background": "light"
     },
     "output_type": "display_data"
    }
   ],
   "source": [
    "#выведем портрет пользователя из Европейского союза за последние два года (2015-2016)\n",
    "print('Статистика за последние два года:')\n",
    "region_stat('eu_sales', 2015, 'последние два года')"
   ]
  },
  {
   "cell_type": "markdown",
   "metadata": {},
   "source": [
    "**Вывод:**\n",
    "\n",
    "В Европейском союзе, в отличие от США, за весь период **Xbox 360** был менее популярной платформой - её место занимала **PlayStation 3**. В остальном предпочтения в плане игровой платформы не отличались. Изменения за последний годы схожи с теми, что произошли в США - **PlayStation 4** удерживает лидерство, но предыдущее поколение данной консоли заменил стационарный комьютер.\n",
    "\n",
    "Предпочтительные жанры аналогично изменились - шутеры, точно так же, как и в США, вышли на первый план.\n",
    "\n",
    "Также можно заметить схожее изменение предпочтений игроков касательно рейтинга игр - рейтинг \"М\" занимает первую строчку."
   ]
  },
  {
   "cell_type": "markdown",
   "metadata": {},
   "source": [
    "<br>"
   ]
  },
  {
   "cell_type": "markdown",
   "metadata": {},
   "source": [
    "**Портрет пользователя JP:**"
   ]
  },
  {
   "cell_type": "code",
   "execution_count": 30,
   "metadata": {},
   "outputs": [
    {
     "name": "stdout",
     "output_type": "stream",
     "text": [
      "Статистика за весь актуальный период:\n"
     ]
    },
    {
     "data": {
      "text/html": [
       "<div>\n",
       "<style scoped>\n",
       "    .dataframe tbody tr th:only-of-type {\n",
       "        vertical-align: middle;\n",
       "    }\n",
       "\n",
       "    .dataframe tbody tr th {\n",
       "        vertical-align: top;\n",
       "    }\n",
       "\n",
       "    .dataframe thead th {\n",
       "        text-align: right;\n",
       "    }\n",
       "</style>\n",
       "<table border=\"1\" class=\"dataframe\">\n",
       "  <thead>\n",
       "    <tr style=\"text-align: right;\">\n",
       "      <th></th>\n",
       "      <th>platform</th>\n",
       "      <th>jp_sales</th>\n",
       "    </tr>\n",
       "  </thead>\n",
       "  <tbody>\n",
       "    <tr>\n",
       "      <td>0</td>\n",
       "      <td>3DS</td>\n",
       "      <td>67.81</td>\n",
       "    </tr>\n",
       "    <tr>\n",
       "      <td>1</td>\n",
       "      <td>PS3</td>\n",
       "      <td>23.35</td>\n",
       "    </tr>\n",
       "    <tr>\n",
       "      <td>2</td>\n",
       "      <td>PSV</td>\n",
       "      <td>18.59</td>\n",
       "    </tr>\n",
       "    <tr>\n",
       "      <td>3</td>\n",
       "      <td>PS4</td>\n",
       "      <td>15.96</td>\n",
       "    </tr>\n",
       "    <tr>\n",
       "      <td>4</td>\n",
       "      <td>WiiU</td>\n",
       "      <td>10.88</td>\n",
       "    </tr>\n",
       "  </tbody>\n",
       "</table>\n",
       "</div>"
      ],
      "text/plain": [
       "  platform  jp_sales\n",
       "0      3DS     67.81\n",
       "1      PS3     23.35\n",
       "2      PSV     18.59\n",
       "3      PS4     15.96\n",
       "4     WiiU     10.88"
      ]
     },
     "metadata": {},
     "output_type": "display_data"
    },
    {
     "data": {
      "text/html": [
       "<div>\n",
       "<style scoped>\n",
       "    .dataframe tbody tr th:only-of-type {\n",
       "        vertical-align: middle;\n",
       "    }\n",
       "\n",
       "    .dataframe tbody tr th {\n",
       "        vertical-align: top;\n",
       "    }\n",
       "\n",
       "    .dataframe thead th {\n",
       "        text-align: right;\n",
       "    }\n",
       "</style>\n",
       "<table border=\"1\" class=\"dataframe\">\n",
       "  <thead>\n",
       "    <tr style=\"text-align: right;\">\n",
       "      <th></th>\n",
       "      <th>genre</th>\n",
       "      <th>jp_sales</th>\n",
       "    </tr>\n",
       "  </thead>\n",
       "  <tbody>\n",
       "    <tr>\n",
       "      <td>0</td>\n",
       "      <td>Role-Playing</td>\n",
       "      <td>51.04</td>\n",
       "    </tr>\n",
       "    <tr>\n",
       "      <td>1</td>\n",
       "      <td>Action</td>\n",
       "      <td>40.49</td>\n",
       "    </tr>\n",
       "    <tr>\n",
       "      <td>2</td>\n",
       "      <td>Misc</td>\n",
       "      <td>9.44</td>\n",
       "    </tr>\n",
       "    <tr>\n",
       "      <td>3</td>\n",
       "      <td>Fighting</td>\n",
       "      <td>7.65</td>\n",
       "    </tr>\n",
       "    <tr>\n",
       "      <td>4</td>\n",
       "      <td>Shooter</td>\n",
       "      <td>6.61</td>\n",
       "    </tr>\n",
       "  </tbody>\n",
       "</table>\n",
       "</div>"
      ],
      "text/plain": [
       "          genre  jp_sales\n",
       "0  Role-Playing     51.04\n",
       "1        Action     40.49\n",
       "2          Misc      9.44\n",
       "3      Fighting      7.65\n",
       "4       Shooter      6.61"
      ]
     },
     "metadata": {},
     "output_type": "display_data"
    },
    {
     "data": {
      "text/html": [
       "<div>\n",
       "<style scoped>\n",
       "    .dataframe tbody tr th:only-of-type {\n",
       "        vertical-align: middle;\n",
       "    }\n",
       "\n",
       "    .dataframe tbody tr th {\n",
       "        vertical-align: top;\n",
       "    }\n",
       "\n",
       "    .dataframe thead th {\n",
       "        text-align: right;\n",
       "    }\n",
       "</style>\n",
       "<table border=\"1\" class=\"dataframe\">\n",
       "  <thead>\n",
       "    <tr style=\"text-align: right;\">\n",
       "      <th></th>\n",
       "      <th>rating</th>\n",
       "      <th>jp_sales</th>\n",
       "    </tr>\n",
       "  </thead>\n",
       "  <tbody>\n",
       "    <tr>\n",
       "      <td>0</td>\n",
       "      <td>T</td>\n",
       "      <td>20.59</td>\n",
       "    </tr>\n",
       "    <tr>\n",
       "      <td>1</td>\n",
       "      <td>E</td>\n",
       "      <td>15.14</td>\n",
       "    </tr>\n",
       "    <tr>\n",
       "      <td>2</td>\n",
       "      <td>M</td>\n",
       "      <td>14.11</td>\n",
       "    </tr>\n",
       "    <tr>\n",
       "      <td>3</td>\n",
       "      <td>E10+</td>\n",
       "      <td>5.89</td>\n",
       "    </tr>\n",
       "  </tbody>\n",
       "</table>\n",
       "</div>"
      ],
      "text/plain": [
       "  rating  jp_sales\n",
       "0      T     20.59\n",
       "1      E     15.14\n",
       "2      M     14.11\n",
       "3   E10+      5.89"
      ]
     },
     "metadata": {},
     "output_type": "display_data"
    },
    {
     "data": {
      "image/png": "[encoded data removed]",
      "text/plain": [
       "<Figure size 432x288 with 1 Axes>"
      ]
     },
     "metadata": {
      "needs_background": "light"
     },
     "output_type": "display_data"
    },
    {
     "data": {
      "image/png": "[encoded data removed]",
      "text/plain": [
       "<Figure size 432x288 with 1 Axes>"
      ]
     },
     "metadata": {
      "needs_background": "light"
     },
     "output_type": "display_data"
    },
    {
     "data": {
      "image/png": "[encoded data removed]",
      "text/plain": [
       "<Figure size 432x288 with 1 Axes>"
      ]
     },
     "metadata": {
      "needs_background": "light"
     },
     "output_type": "display_data"
    }
   ],
   "source": [
    "#выведем портрет пользователя из Японии за весь актуальный период (2013-2016)\n",
    "print('Статистика за весь актуальный период:')\n",
    "region_stat('jp_sales', 2013, 'весь актуальный период')"
   ]
  },
  {
   "cell_type": "code",
   "execution_count": 31,
   "metadata": {},
   "outputs": [
    {
     "name": "stdout",
     "output_type": "stream",
     "text": [
      "Статистика за весь последние два года:\n"
     ]
    },
    {
     "data": {
      "text/html": [
       "<div>\n",
       "<style scoped>\n",
       "    .dataframe tbody tr th:only-of-type {\n",
       "        vertical-align: middle;\n",
       "    }\n",
       "\n",
       "    .dataframe tbody tr th {\n",
       "        vertical-align: top;\n",
       "    }\n",
       "\n",
       "    .dataframe thead th {\n",
       "        text-align: right;\n",
       "    }\n",
       "</style>\n",
       "<table border=\"1\" class=\"dataframe\">\n",
       "  <thead>\n",
       "    <tr style=\"text-align: right;\">\n",
       "      <th></th>\n",
       "      <th>platform</th>\n",
       "      <th>jp_sales</th>\n",
       "    </tr>\n",
       "  </thead>\n",
       "  <tbody>\n",
       "    <tr>\n",
       "      <td>0</td>\n",
       "      <td>3DS</td>\n",
       "      <td>23.55</td>\n",
       "    </tr>\n",
       "    <tr>\n",
       "      <td>1</td>\n",
       "      <td>PS4</td>\n",
       "      <td>12.05</td>\n",
       "    </tr>\n",
       "    <tr>\n",
       "      <td>2</td>\n",
       "      <td>PSV</td>\n",
       "      <td>8.41</td>\n",
       "    </tr>\n",
       "    <tr>\n",
       "      <td>3</td>\n",
       "      <td>PS3</td>\n",
       "      <td>4.97</td>\n",
       "    </tr>\n",
       "    <tr>\n",
       "      <td>4</td>\n",
       "      <td>WiiU</td>\n",
       "      <td>4.12</td>\n",
       "    </tr>\n",
       "  </tbody>\n",
       "</table>\n",
       "</div>"
      ],
      "text/plain": [
       "  platform  jp_sales\n",
       "0      3DS     23.55\n",
       "1      PS4     12.05\n",
       "2      PSV      8.41\n",
       "3      PS3      4.97\n",
       "4     WiiU      4.12"
      ]
     },
     "metadata": {},
     "output_type": "display_data"
    },
    {
     "data": {
      "text/html": [
       "<div>\n",
       "<style scoped>\n",
       "    .dataframe tbody tr th:only-of-type {\n",
       "        vertical-align: middle;\n",
       "    }\n",
       "\n",
       "    .dataframe tbody tr th {\n",
       "        vertical-align: top;\n",
       "    }\n",
       "\n",
       "    .dataframe thead th {\n",
       "        text-align: right;\n",
       "    }\n",
       "</style>\n",
       "<table border=\"1\" class=\"dataframe\">\n",
       "  <thead>\n",
       "    <tr style=\"text-align: right;\">\n",
       "      <th></th>\n",
       "      <th>genre</th>\n",
       "      <th>jp_sales</th>\n",
       "    </tr>\n",
       "  </thead>\n",
       "  <tbody>\n",
       "    <tr>\n",
       "      <td>0</td>\n",
       "      <td>Action</td>\n",
       "      <td>23.05</td>\n",
       "    </tr>\n",
       "    <tr>\n",
       "      <td>1</td>\n",
       "      <td>Role-Playing</td>\n",
       "      <td>13.41</td>\n",
       "    </tr>\n",
       "    <tr>\n",
       "      <td>2</td>\n",
       "      <td>Shooter</td>\n",
       "      <td>3.79</td>\n",
       "    </tr>\n",
       "    <tr>\n",
       "      <td>3</td>\n",
       "      <td>Misc</td>\n",
       "      <td>3.19</td>\n",
       "    </tr>\n",
       "    <tr>\n",
       "      <td>4</td>\n",
       "      <td>Adventure</td>\n",
       "      <td>2.22</td>\n",
       "    </tr>\n",
       "  </tbody>\n",
       "</table>\n",
       "</div>"
      ],
      "text/plain": [
       "          genre  jp_sales\n",
       "0        Action     23.05\n",
       "1  Role-Playing     13.41\n",
       "2       Shooter      3.79\n",
       "3          Misc      3.19\n",
       "4     Adventure      2.22"
      ]
     },
     "metadata": {},
     "output_type": "display_data"
    },
    {
     "data": {
      "text/html": [
       "<div>\n",
       "<style scoped>\n",
       "    .dataframe tbody tr th:only-of-type {\n",
       "        vertical-align: middle;\n",
       "    }\n",
       "\n",
       "    .dataframe tbody tr th {\n",
       "        vertical-align: top;\n",
       "    }\n",
       "\n",
       "    .dataframe thead th {\n",
       "        text-align: right;\n",
       "    }\n",
       "</style>\n",
       "<table border=\"1\" class=\"dataframe\">\n",
       "  <thead>\n",
       "    <tr style=\"text-align: right;\">\n",
       "      <th></th>\n",
       "      <th>rating</th>\n",
       "      <th>jp_sales</th>\n",
       "    </tr>\n",
       "  </thead>\n",
       "  <tbody>\n",
       "    <tr>\n",
       "      <td>0</td>\n",
       "      <td>T</td>\n",
       "      <td>7.70</td>\n",
       "    </tr>\n",
       "    <tr>\n",
       "      <td>1</td>\n",
       "      <td>E</td>\n",
       "      <td>5.25</td>\n",
       "    </tr>\n",
       "    <tr>\n",
       "      <td>2</td>\n",
       "      <td>M</td>\n",
       "      <td>4.29</td>\n",
       "    </tr>\n",
       "    <tr>\n",
       "      <td>3</td>\n",
       "      <td>E10+</td>\n",
       "      <td>3.27</td>\n",
       "    </tr>\n",
       "  </tbody>\n",
       "</table>\n",
       "</div>"
      ],
      "text/plain": [
       "  rating  jp_sales\n",
       "0      T      7.70\n",
       "1      E      5.25\n",
       "2      M      4.29\n",
       "3   E10+      3.27"
      ]
     },
     "metadata": {},
     "output_type": "display_data"
    },
    {
     "data": {
      "image/png": "[encoded data removed]",
      "text/plain": [
       "<Figure size 432x288 with 1 Axes>"
      ]
     },
     "metadata": {
      "needs_background": "light"
     },
     "output_type": "display_data"
    },
    {
     "data": {
      "image/png": "[encoded data removed]",
      "text/plain": [
       "<Figure size 432x288 with 1 Axes>"
      ]
     },
     "metadata": {
      "needs_background": "light"
     },
     "output_type": "display_data"
    },
    {
     "data": {
      "image/png": "[encoded data removed]",
      "text/plain": [
       "<Figure size 432x288 with 1 Axes>"
      ]
     },
     "metadata": {
      "needs_background": "light"
     },
     "output_type": "display_data"
    }
   ],
   "source": [
    "#выведем портрет пользователя из Японии за последние два года (2015-2016)\n",
    "print('Статистика за весь последние два года:')\n",
    "region_stat('jp_sales', 2015, 'последние два года')"
   ]
  },
  {
   "cell_type": "markdown",
   "metadata": {},
   "source": [
    "**Вывод:**\n",
    "\n",
    "Уже сразу можно сказать, что Япония значительно отличается от других регионов в своих предпочтениях - мобильные консоли являются более популярными что за весь период, что за последние два года.\n",
    "\n",
    "Также можно заметить, что все популярные консоли являются продуктом местной разработки - тот же Xbox не смог стать достаточно популярным даже спустя несколько лет после релиза.\n",
    "\n",
    "Пользователи Японии намного сильнее предпочитают жанр \"Рпг\" чем пользователи других регионов, что тогда, что и сейчас, но в той же степени предпочитают игры жанра \"Экшн\". Жанр \"Спорт\" им менее интересен, чем пользователям других регионов.\n",
    "\n",
    "Также отличаются предпочтения касательно возрастного рейтинга игр, но он больше обусловлен более жестокой цензурой, чем в других регионах."
   ]
  },
  {
   "cell_type": "markdown",
   "metadata": {},
   "source": [
    "#### Общий вывод по шагу:\n",
    "\n",
    "\n",
    "Хоть и актуальный период дал нам представление об общей картине, которая происходит на рынке игровой индустрии, более актуальную информацию мы получили, сравнив эти данные с данными за последние два года. Это позволило нам увидеть динамику развития рынка, что, в свою очередь, позволит сделать более грамотный анализ касательно выбора игровых платформ и игр к ним для продажи в магазине.\n",
    "\n",
    "Уже можно сделать вывод, что больше всего игр для консолей текущего поколения продаётся для **PlayStation 4** во всех регионах. На втором месте идёт **Xbox One**. Третье место зависит от географического расположения и это нужно учитывать: если в США и Японии более предпочтительными являются мобильные консоли, то в Европе это место занимает персональный комьютер.\n",
    "\n",
    "Касательно рейтинга: что в Европе, что в США, охотнее всего покупают игры с рейтингом **M** (От 17-ти и старше), но в Японии всё так же более популярны рейтинги \"Для всех\" и \"Для подростков\", что мы должны учитывать, если планируем продавать игры именно в этом регионе."
   ]
  },
  {
   "cell_type": "markdown",
   "metadata": {},
   "source": [
    "<br>"
   ]
  },
  {
   "cell_type": "markdown",
   "metadata": {},
   "source": [
    "## Шаг 5. Проверим гипотезы"
   ]
  },
  {
   "cell_type": "markdown",
   "metadata": {},
   "source": [
    "**Средние пользовательские рейтинги платформ Xbox One и PC одинаковые**\n",
    "\n",
    "Сформируем гипотезы:\n",
    "Нулевая гипотеза **H₀**: Средние пользовательские рейтинги платформ Xbox One и PC не отличаются.\n",
    "\n",
    "Альтернативная гипотеза **H₁**: Средние пользовательские рейтинги платформ Xbox One и PC отличаются.\n",
    "\n",
    "Требуется заметить, что год выпуска Xbox One - 2013 год. Будем использовать период с 2013 года по 2016."
   ]
  },
  {
   "cell_type": "code",
   "execution_count": 32,
   "metadata": {},
   "outputs": [
    {
     "name": "stdout",
     "output_type": "stream",
     "text": [
      "Дисперсия пользовательской оценки Xbox One: 1.8965188383045526\n",
      "Дисперсия пользовательской оценки PC: 2.9913239064252526\n"
     ]
    }
   ],
   "source": [
    "#создадим две переменные, содержащие соответсвующие выборки данных из датасета:\n",
    "\n",
    "xbox = df.query('platform == \"XOne\" & year_of_release >= 2013')\n",
    "pc = df.query('platform == \"PC\" & year_of_release >= 2013')\n",
    "\n",
    "#проверим, равны ли примерно дисперсии двух выборок:\n",
    "print(\"Дисперсия пользовательской оценки Xbox One:\", np.var(xbox.user_score))\n",
    "print(\"Дисперсия пользовательской оценки PC:\", np.var(pc.user_score))"
   ]
  },
  {
   "cell_type": "markdown",
   "metadata": {},
   "source": [
    "Дисперсии двух выборок не равны, **equal_var=False**."
   ]
  },
  {
   "cell_type": "code",
   "execution_count": 33,
   "metadata": {},
   "outputs": [
    {
     "name": "stdout",
     "output_type": "stream",
     "text": [
      "P-value = 0.16174359801784308 | Не получилось отвергнуть нулевую гипотезу\n"
     ]
    }
   ],
   "source": [
    "#обозначаем уровень критической значимости\n",
    "#если p-value окажется меньше него, у нас будут основания отвергнуть нулевую гипотезу\n",
    "alpha = .05\n",
    "\n",
    "results = st.ttest_ind(xbox.user_score.dropna(), pc.user_score.dropna(), equal_var=False)\n",
    "\n",
    "if results.pvalue < alpha:\n",
    "    print(\"P-value =\", results.pvalue, '| Есть основания отвергнуть нулевую гипотезу')\n",
    "else:\n",
    "    print(\"P-value =\", results.pvalue, '| Не получилось отвергнуть нулевую гипотезу')"
   ]
  },
  {
   "cell_type": "markdown",
   "metadata": {},
   "source": [
    "**Вывод:** не получилось отвергнуть нулевую гипотезу - с вероятностью в 16% подобное различие можно получить случайным образом.\n",
    "\n",
    "В целом, подобные выводы мы бы могли получить, просто проанализировав статистическое описание двух выборок: Средние пользовательские рейтинги платформ Xbox One и PC не отличаются."
   ]
  },
  {
   "cell_type": "code",
   "execution_count": 34,
   "metadata": {},
   "outputs": [
    {
     "data": {
      "text/plain": [
       "count    182.000000\n",
       "mean       6.521429\n",
       "std        1.380941\n",
       "min        1.600000\n",
       "25%        5.800000\n",
       "50%        6.800000\n",
       "75%        7.500000\n",
       "max        9.200000\n",
       "Name: user_score, dtype: float64"
      ]
     },
     "execution_count": 34,
     "metadata": {},
     "output_type": "execute_result"
    }
   ],
   "source": [
    "xbox.user_score.describe()"
   ]
  },
  {
   "cell_type": "code",
   "execution_count": 35,
   "metadata": {},
   "outputs": [
    {
     "data": {
      "text/plain": [
       "count    158.000000\n",
       "mean       6.280380\n",
       "std        1.735044\n",
       "min        1.400000\n",
       "25%        5.325000\n",
       "50%        6.800000\n",
       "75%        7.600000\n",
       "max        9.300000\n",
       "Name: user_score, dtype: float64"
      ]
     },
     "execution_count": 35,
     "metadata": {},
     "output_type": "execute_result"
    }
   ],
   "source": [
    "pc.user_score.describe()"
   ]
  },
  {
   "cell_type": "markdown",
   "metadata": {},
   "source": [
    "<br>"
   ]
  },
  {
   "cell_type": "markdown",
   "metadata": {},
   "source": [
    "**Средние пользовательские рейтинги жанров Action (англ. «действие», экшен-игры) и Sports (англ. «спортивные соревнования») разные.**"
   ]
  },
  {
   "cell_type": "markdown",
   "metadata": {},
   "source": [
    "Сформируем гипотезы: Нулевая гипотеза H₀: Средние пользовательские рейтинги жанра Action и жанра Sports не отличаются.\n",
    "\n",
    "Альтернативная гипотеза H₁: Средние пользовательские рейтинги жанра Action и жанра Sports отличаются."
   ]
  },
  {
   "cell_type": "code",
   "execution_count": 36,
   "metadata": {},
   "outputs": [
    {
     "name": "stdout",
     "output_type": "stream",
     "text": [
      "Дисперсия пользовательской оценки жанра \"Экшн\": 1.761935586734694\n",
      "Дисперсия пользовательской оценки жанра \"Спорт\": 3.160733984375\n"
     ]
    }
   ],
   "source": [
    "#создадим две переменные, содержащие соответствующие выборке данных из датасета:\n",
    "\n",
    "action = df.query('genre == \"Action\" & year_of_release >= 2013')\n",
    "sports = df.query('genre == \"Sports\" & year_of_release >= 2013')\n",
    "\n",
    "#проверим, равны ли примерно дисперсии двух выборок:\n",
    "print('Дисперсия пользовательской оценки жанра \"Экшн\":', np.var(action.user_score))\n",
    "print('Дисперсия пользовательской оценки жанра \"Спорт\":', np.var(sports.user_score))"
   ]
  },
  {
   "cell_type": "markdown",
   "metadata": {},
   "source": [
    "Дисперсии двух выборок не равны, **equal_var=False**."
   ]
  },
  {
   "cell_type": "code",
   "execution_count": 37,
   "metadata": {},
   "outputs": [
    {
     "name": "stdout",
     "output_type": "stream",
     "text": [
      "P-value = 1.3883444596405356e-20 | Есть основания отвергнуть нулевую гипотезу\n"
     ]
    }
   ],
   "source": [
    "#обозначаем уровень критической значимости\n",
    "#если p-value окажется меньше него, у нас будут основания отвергнуть нулевую гипотезу\n",
    "alpha = .05\n",
    "\n",
    "results = st.ttest_ind(action.user_score.dropna(), sports.user_score.dropna(), equal_var=False)\n",
    "\n",
    "if results.pvalue < alpha:\n",
    "    print(\"P-value =\", results.pvalue, '| Есть основания отвергнуть нулевую гипотезу')\n",
    "else:\n",
    "    print(\"P-value =\", results.pvalue, '| Не получилось отвергнуть нулевую гипотезу')"
   ]
  },
  {
   "cell_type": "markdown",
   "metadata": {},
   "source": [
    "**Вывод:** p-value подобной малой величины даёт все основания полагать, что вероятность получить подобное различие между жанрами достаточно мала и можно сделать вывод, что средние пользовательские рейтинги по этим двум жанрам имеют статистически значимые различия."
   ]
  },
  {
   "cell_type": "markdown",
   "metadata": {},
   "source": [
    "### Выводы по шагу:\n",
    "\n",
    "Средние пользовательские рейтинги платформ Xbox One и PC одинаковые - нет оснований отвергать нулевую гипотезу (**H₀: Средние пользовательские рейтинги платформ Xbox One и PC не отличаются**), рейтинги данных платформ с большой вероятностью одинаковы.\n",
    "\n",
    "Средние пользовательские рейтинги жанров Action (англ. «действие», экшен-игры) и Sports (англ. «спортивные соревнования») разные - имеем основание отбросить нулевую гипотезу (**Н₀: Средние пользовательские рейтинги жанра Action и жанра Sports не отличаются**) - получить подобные средние показатели случайным образом маловероятны и можно сделать вывод, что рейтинги существенно отличаются."
   ]
  },
  {
   "cell_type": "markdown",
   "metadata": {},
   "source": [
    "## Шаг 6. Общий вывод."
   ]
  },
  {
   "cell_type": "markdown",
   "metadata": {},
   "source": [
    "Мы подготовили данные к анализу: избавились от некоторого количества пропусков, переименовали названия столбцов для удобства в дальнейшей работе и изменили тип данных в столбцах, где это было необходимо.\n",
    "\n",
    "Мы определили, что актуальным периодом, который наиболее корректно может показать тенденции в развитии индустрии, является период с момента появления консолей 7-го поколения по данный момент.\n",
    "\n",
    "Сравнив показатели актуального периода и данные последних лет, нам удалось увидеть тенденции к изменению предпочтений игроков, что позволило сделать выводы по поводу возможного варианта выбора игр, которые нужно иметь в ассортименте магазина, независимо от региона, в котором будет располагаться сам магазин.\n",
    "\n",
    "После составления портрета пользователей трёх регионов стало очевидно, что Европейский регион и Северная Америка по своим предпочтениям отличаются незначительно, чего не скажешь про различия с Японией - там преобладают мобильные консоли, более жестокая возрастная цензура и жанр РПГ и Экшн является более популярными, чем в других регионах.\n",
    "\n",
    "Исходя из анализа, наиболее перспективная платформы для продаж на данный момент - Playstation 4 и Xbox One, но не стоит забывать про мобильные платформы, если планируются продажи в Японии.\n",
    "\n",
    "\n",
    "Жанр, самый популярный, в среднем, за последние два года - Экшн - преобладает во всех проанализированных регионах и игр с этим жанром преобладающее количество.\n",
    "\n",
    "Этих данных вполне хватает для построения дальнейших планов развития магазина, продающего видеоигры."
   ]
  },
  {
   "cell_type": "markdown",
   "metadata": {},
   "source": [
    "### **Чек-лист по заданиям**\n",
    "\n",
    "- [x]  Открыты все файлы\n",
    "- [x]  Файлы изучены (выведены первые строки, метод info())\n",
    "- [x]  Заменены названия столбцов\n",
    "- [x]  Данные приведены к нужным типам\n",
    "- [x]  Обработаны пропуски\n",
    "- [x]  Выполнено задание: Посмотрите, сколько игр выпускалось в разные годы. Важны ли данные за все периоды?\n",
    "- [x]  Выполнено задание: Посмотрите, как менялись продажи по платформам. Выберите платформы с наибольшими суммарными продажами и постройте распределение по годам. Найдите популярные в прошлом платформы, у которых сейчас продажи на нуле. За какой характерный период появляются новые и исчезают старые платформы?\n",
    "- [x]  Выполнено задание: Определите, данные за какой период нужно взять, чтобы исключить значимое искажение распределения по платформам в 2016 году.\n",
    "- [x]  Выполнено задание: Далее работайте только с данными, которые вы определили. Не учитывайте данные за предыдущие годы.\n",
    "- [x]  Выполнено задание: Какие платформы лидируют по продажам, растут или падают? Выберите несколько потенциально прибыльных платформ.\n",
    "- [x]  Выполнено задание: Постройте график «ящик с усами» по глобальным продажам каждой игры и разбивкой по платформам. Велика ли разница в продажах? А в средних продажах на разных платформах? Опишите результат.\n",
    "- [x]  Выполнено задание: Посмотрите, как влияют на продажи внутри одной популярной платформы отзывы пользователей и критиков. Постройте диаграмму рассеяния и посчитайте корреляцию между отзывами и продажами. Сформулируйте выводы и соотнесите их с продажами игр на других платформах.\n",
    "- [x]  Выполнено задание: Посмотрите на общее распределение игр по жанрам. Что можно сказать о самых прибыльных жанрах? Выделяются ли жанры с высокими и низкими продажами?\n",
    "- [x]  Составлен портрет пользователя *NA,*\n",
    "- [x]  Составлен портрет пользователя *EU*\n",
    "- [x]  Составлен портрет пользователя  *JP*\n",
    "- [x]  Проверена гипотеза: \"Средние пользовательские рейтинги платформ *Xbox One* и *PC* одинаковые;\"\n",
    "- [x]  Проверена гипотеза: \"Средние пользовательские рейтинги жанров *Action* (англ. «действие») и *Sports* (англ. «виды спорта») разные.\"\n",
    "- [x]  Есть пояснения к проверке гипотез: \"как вы формулировали нулевую и альтернативную гипотезы\"\n",
    "- [x]  Есть пояснения к проверке гипотез: \"какой критерий использовали для проверки гипотез и почему\"\n",
    "- [x]  В каждом этапе есть выводы\n",
    "- [x]  Есть общий вывод"
   ]
  }
 ],
 "metadata": {
  "kernelspec": {
   "display_name": "Python 3 (ipykernel)",
   "language": "python",
   "name": "python3"
  },
  "language_info": {
   "codemirror_mode": {
    "name": "ipython",
    "version": 3
   },
   "file_extension": ".py",
   "mimetype": "text/x-python",
   "name": "python",
   "nbconvert_exporter": "python",
   "pygments_lexer": "ipython3",
   "version": "3.9.7"
  },
  "toc": {
   "base_numbering": 1,
   "nav_menu": {},
   "number_sections": true,
   "sideBar": true,
   "skip_h1_title": true,
   "title_cell": "Table of Contents",
   "title_sidebar": "Contents",
   "toc_cell": false,
   "toc_position": {},
   "toc_section_display": true,
   "toc_window_display": false
  }
 },
 "nbformat": 4,
 "nbformat_minor": 2
}
